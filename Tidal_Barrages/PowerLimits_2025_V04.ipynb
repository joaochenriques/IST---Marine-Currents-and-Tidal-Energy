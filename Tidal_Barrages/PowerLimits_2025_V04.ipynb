{
  "nbformat": 4,
  "nbformat_minor": 0,
  "metadata": {
    "colab": {
      "provenance": [],
      "authorship_tag": "ABX9TyNmyy5unB3SlQTpKPnjWw1x",
      "include_colab_link": true
    },
    "kernelspec": {
      "name": "python3",
      "display_name": "Python 3"
    },
    "language_info": {
      "name": "python"
    }
  },
  "cells": [
    {
      "cell_type": "markdown",
      "metadata": {
        "id": "view-in-github",
        "colab_type": "text"
      },
      "source": [
        "<a href=\"https://colab.research.google.com/github/joaochenriques/IST_MCTE/blob/main/Barrages/PowerLimits_2025_V04.ipynb\" target=\"_parent\"><img src=\"https://colab.research.google.com/assets/colab-badge.svg\" alt=\"Open In Colab\"/></a>"
      ]
    },
    {
      "cell_type": "code",
      "execution_count": 29,
      "metadata": {
        "id": "X5fjoxiWDgmk"
      },
      "outputs": [],
      "source": [
        "import numpy as np\n",
        "import matplotlib.pyplot as mpl\n",
        "import os, pathlib\n",
        "import scipy.integrate as integrate\n",
        "from IPython.display import display, Markdown\n",
        "\n",
        "import pathlib, os, sys\n",
        "\n",
        "try:\n",
        "    from dataclassy import dataclass\n",
        "except ModuleNotFoundError:\n",
        "    os.system( \"pip install dataclassy\" )\n",
        "    from dataclassy import dataclass\n",
        "\n",
        "if not pathlib.Path(\"mpl_utils.py\").exists():\n",
        "    os.system( \"curl -O https://raw.githubusercontent.com/joaochenriques/ipynb_libs/main/mpl_utils.py\" )\n",
        "import mpl_utils as mut\n",
        "mut.config_plots()\n",
        "\n",
        "from matplotlib_inline.backend_inline import set_matplotlib_formats\n",
        "set_matplotlib_formats('svg')"
      ]
    },
    {
      "cell_type": "markdown",
      "source": [
        "To print the notebook use (win/linux/mac):\n",
        "\n",
        "```jupyter nbconvert PowerLimits_2025_V04.ipynb --to webpdf```\n",
        "\n",
        "in the command line."
      ],
      "metadata": {
        "id": "4xe1Lq682mAd"
      }
    },
    {
      "cell_type": "code",
      "source": [
        "π = np.pi\n",
        "two_π = 2.0 * π\n",
        "ρ = 1000.0\n",
        "gr = 9.8"
      ],
      "metadata": {
        "id": "snsxNZrZDkQT"
      },
      "execution_count": 20,
      "outputs": []
    },
    {
      "cell_type": "markdown",
      "source": [
        "## Basin modelling\n",
        "\n",
        "Let us assume a rectangular basin\n",
        "\n",
        "<img src=\"https://raw.githubusercontent.com/joaochenriques/IST_MCTE/main/Barrages/Figures/BasinShoeBox_MWL.svg\" width=\"400px\" style=\"display:inline\">\n",
        "\n",
        "\n",
        "\n",
        "\n",
        "The opening and closing turbine instants are $t_1$ and $t_2$\n",
        "\n",
        "\n",
        "\n",
        "<img src=\"https://raw.githubusercontent.com/joaochenriques/IST_MCTE/main/Barrages/Figures/MaxPower_Z.svg\" width=\"500px\" style=\"display:inline\">\n",
        "\n",
        "Since the basin is assumed to drain linearly, flow rate per unit of basin area  is\n",
        "\n",
        "$$\\frac{Q}{S}=-\\frac{z_2-z_1}{t_2-t_1}$$\n",
        "\n"
      ],
      "metadata": {
        "id": "0GU9IcaLH4Jp"
      }
    },
    {
      "cell_type": "code",
      "source": [
        "T = 12.46*3600  # hours\n",
        "H = 10.0         # meter\n",
        "EoS_max = 0.5 * ρ * gr * H**2\n",
        "\n",
        "ω = two_π / T\n",
        "A  = H / 2.0\n",
        "t1 = 0.3 * T\n",
        "t2 = 0.7 * T\n",
        "\n",
        "z1 = A\n",
        "z2 = A * np.cos( ω * t2 )\n",
        "\n",
        "# The suffix \"oS\" means \"over S\n",
        "QoS = -( z2 - z1 ) / ( t2 - t1 )\n",
        "\n",
        "display( Markdown( rf'$Q/S = {QoS:.4g}$' ) )"
      ],
      "metadata": {
        "colab": {
          "base_uri": "https://localhost:8080/",
          "height": 50
        },
        "id": "HnKNPo3HDlzP",
        "outputId": "ed296b73-0633-4206-abf1-b5dcabcabaef"
      },
      "execution_count": 21,
      "outputs": [
        {
          "output_type": "display_data",
          "data": {
            "text/plain": [
              "<IPython.core.display.Markdown object>"
            ],
            "text/markdown": "$Q/S = 0.0003648$"
          },
          "metadata": {}
        }
      ]
    },
    {
      "cell_type": "markdown",
      "source": [
        "The stored energy in the basin per unit of basin area is\n",
        "\n",
        "$$\\frac{E_\\mathrm{max}}{S}=\\frac 12 \\rho g H^2$$\n",
        "\n",
        "Since the available power is\n",
        "\n",
        "$$\\frac{1}{S}\\frac{d E_\\mathrm{avail}}{d t} = \\frac{P_\\mathrm{avail}}{S} = \\rho g h(t) \\frac{Q}{S}$$\n",
        "\n",
        "\n",
        "and the extracted energy is\n",
        "\n",
        "\n",
        "$$\\frac{E_\\mathrm{avail}}{S} = \\frac{1}{S} \\int_{t_1}^{t_2} P_\\mathrm{avail} \\, d t$$\n",
        "\n",
        "We can define a dimensionless measure of the extracted energy from $t_1$ up to $t$ as\n",
        "\n",
        "$$E_\\mathrm{avail}^*(t) = \\frac{\\ \\displaystyle \\frac{E_\\mathrm{avail}(t)}{S}\\ }{\\displaystyle \\frac{E_\\mathrm{max}}{S}}$$\n",
        "\n",
        "\n",
        "The overall efficiency of the emptying process is given by\n",
        "\n",
        "$$\\eta_\\mathrm{empt} = \\frac{\\ \\displaystyle \\frac{E_\\mathrm{avail}(t_2)}{S}\\ }{\\displaystyle \\frac{E_\\mathrm{max}}{S}}$$\n",
        "\n",
        "\n",
        "The maximum capacity factor can be estimated from\n",
        "\n",
        "\n",
        "$$\\mathrm{CF}_{\\mathrm{max}} = \\frac{\\displaystyle \\frac{1}{T}\\frac{E_\\mathrm{avail}(t_2)}{S}\\ }{\\displaystyle \\mathrm{max}\\!\\left(\\frac{ P_\\mathrm{avail}(t)}{S}\\right)}$$\n",
        "\n",
        "\n",
        "The mean $\\langle\\sqrt{{gh}}\\rangle$ is given by\n",
        "\n",
        "$$\\langle\\sqrt{{gh}}\\rangle = \\frac{1}{t_2-t_1} \\int_{t_1}^{t_2} \\sqrt{ g \\left( z(t)-A\\cos\\left(\\frac{2\\pi t}{T}\\right)\\right)} \\, dt$$\n"
      ],
      "metadata": {
        "id": "bEfus1NuKOs5"
      }
    },
    {
      "cell_type": "code",
      "source": [
        "S = 2.33E+07\n",
        "QoS * S"
      ],
      "metadata": {
        "colab": {
          "base_uri": "https://localhost:8080/"
        },
        "id": "M17gapuihWRm",
        "outputId": "00a6b934-d5ab-4f31-988c-413022a3c1b7"
      },
      "execution_count": 27,
      "outputs": [
        {
          "output_type": "execute_result",
          "data": {
            "text/plain": [
              "8499.447111015332"
            ]
          },
          "metadata": {},
          "execution_count": 27
        }
      ]
    },
    {
      "cell_type": "code",
      "source": [
        "@dataclass\n",
        "class TurbineModel:\n",
        "\n",
        "  # flow rate: red line of the map\n",
        "  poly_CQ1: np.poly1d = np.poly1d( np.array([0.16928201, 0.08989368]) )\n",
        "\n",
        "  # flow rate: green line of the map\n",
        "  poly_CQ2: np.poly1d = np.poly1d( np.array([-3.63920467e-04,  9.37677378e-03,\n",
        "                                         -9.25873626e-02,  1.75687197e+00]) )\n",
        "\n",
        "  # efficiency: red line of the map\n",
        "  poly_CE1: np.poly1d = np.poly1d( np.array([-0.02076456, 0.20238444,\n",
        "                                              0.48984553]) )\n",
        "  # efficiency: green line of the map\n",
        "  poly_CE2: np.poly1d = np.poly1d( np.array([-2.75685709e-04,  2.04822984e-03,\n",
        "                                             6.86081825e-04,  7.93083108e-01]) )\n",
        "\n",
        "  η_max: float = 0.912  # [-] maximum efficiency\n",
        "\n",
        "  # n11 interpolation domain\n",
        "  n11_min: float =  4.38    # [-]\n",
        "  n11_max: float = 17.17    # [-]\n",
        "  n11_r2g: float =  7.92193 # [-] red to green point\n",
        "\n",
        "  # other data\n",
        "  ga: float = 9.8         # [m/s²] gravity aceleration\n",
        "  ρw: float = 1025.0      # kg/m³] water density\n",
        "\n",
        "  def n11_range( self ) -> tuple:\n",
        "    return ( self.n11_min, self.n11_max )\n",
        "\n",
        "  # dimensionless flow rate\n",
        "  def Q11( self, n11: float ) -> float:\n",
        "    assert( n11 >= self.n11_min ), \"n11 small than admissable minimum\"\n",
        "    assert( n11 <= self.n11_max ), \"n11 greater than admissable maximum\"\n",
        "    if n11 < self.n11_r2g:\n",
        "      return self.poly_CQ1( n11 )\n",
        "    else:\n",
        "      return self.poly_CQ2( n11 )\n",
        "\n",
        "  # efficiency\n",
        "  def eta( self, n11: float ) -> float:\n",
        "    assert( n11 >= self.n11_min ), \"n11 small than admissable minimum\"\n",
        "    assert( n11 <= self.n11_max ), \"n11 greater than admissable maximum\"\n",
        "    if n11 < self.n11_r2g:\n",
        "      return self.poly_CE1( n11 ) * self.η_max\n",
        "    else:\n",
        "      return self.poly_CE2( n11 ) * self.η_max"
      ],
      "metadata": {
        "id": "7hFG6-Ksjboy"
      },
      "execution_count": 35,
      "outputs": []
    },
    {
      "cell_type": "code",
      "source": [
        "TM = TurbineModel()\n",
        "n11_min, n11_max = TM.n11_range()"
      ],
      "metadata": {
        "id": "vzLoFeVhjqlX"
      },
      "execution_count": 36,
      "outputs": []
    },
    {
      "cell_type": "code",
      "source": [
        "eps = 1E-8\n",
        "nn = 1000\n",
        "\n",
        "t_vec = np.linspace( t1, t2-eps, nn )\n",
        "Δt = t_vec[1] - t_vec[0]\n",
        "\n",
        "z_vec   = np.zeros( nn ) # instantaneous z\n",
        "h_vec   = np.zeros( nn ) # instantaneous h\n",
        "EoS_vec = np.zeros( nn ) # accumulated energy since t1"
      ],
      "metadata": {
        "id": "Lu9ofFa8DqAh"
      },
      "execution_count": 37,
      "outputs": []
    },
    {
      "cell_type": "code",
      "source": [
        "mean_h = 0\n",
        "mean_h_1o4 = 0\n",
        "mean_h_1o2 = 0\n",
        "mean_h_3o4 = 0\n",
        "\n",
        "PoS_max = 0\n",
        "\n",
        "z_vec[0] = A\n",
        "h_vec[0] = A - A * np.cos( ω * t1 )\n",
        "\n",
        "for i in range( 1, nn ):\n",
        "    z_vec[i] = z_vec[i-1] - Δt * QoS\n",
        "\n",
        "    h_vec[i] = z_vec[i] - A * np.cos( ω * t_vec[i] )\n",
        "\n",
        "    PoS = ρ * gr * h_vec[i] * QoS\n",
        "    PoS_max = np.max( ( PoS_max, PoS ) )\n",
        "\n",
        "    EoS_vec[i] = EoS_vec[i-1] + Δt * PoS\n",
        "\n",
        "    mean_h += h_vec[i] * Δt\n",
        "    mean_h_1o4 += h_vec[i]**0.25 * Δt\n",
        "    mean_h_1o2 += h_vec[i]**0.50 * Δt\n",
        "    mean_h_3o4 += h_vec[i]**0.75 * Δt\n",
        "\n",
        "mean_h /= ( t2 - t1 )\n",
        "mean_h_1o4 /= ( t2 - t1 )\n",
        "mean_h_1o2 /= ( t2 - t1 )\n",
        "mean_h_3o4 /= ( t2 - t1 )\n",
        "\n",
        "Eff = EoS_vec[-1] / EoS_max\n",
        "CF = ( EoS_vec[-1] / T )  / PoS_max\n",
        "\n",
        "display( Markdown( rf'$E_\\mathrm{{avail}}/S = {EoS_vec[-1]:.1f}$' ) )\n",
        "display( Markdown( rf'$E_\\mathrm{{avail}}^\\mathrm{{max}}/S = {EoS_max:.1f}$' ) )\n",
        "display( Markdown( rf'$\\eta_\\mathrm{{empt}} = {Eff:.3f}$' ) )\n",
        "display( Markdown( rf'$\\mathrm{{CF}}_{{\\mathrm{{max}}}} = {CF:.3f}$' ) )\n",
        "display( Markdown( rf'$\\langle h \\rangle = {mean_h:.3f}$' ) )\n",
        "print()\n",
        "display( Markdown( rf'$\\langle h^{{1/4}}\\rangle = {mean_h_1o4:.3f}$' ) )\n",
        "display( Markdown( rf'$\\langle h^{{1/2}}\\rangle = {mean_h_1o2:.3f}$' ) )\n",
        "display( Markdown( rf'$\\langle h^{{3/4}}\\rangle = {mean_h_3o4:.3f}$' ) )\n",
        "print()\n",
        "display( Markdown( rf'$\\langle h \\rangle^{{1/4}} = {mean_h**0.25:.3f}$' ) )\n",
        "display( Markdown( rf'$\\langle h \\rangle^{{1/2}} = {mean_h**0.50:.3f}$' ) )\n",
        "display( Markdown( rf'$\\langle h \\rangle^{{3/4}} = {mean_h**0.75:.3f}$' ) )"
      ],
      "metadata": {
        "colab": {
          "base_uri": "https://localhost:8080/",
          "height": 368
        },
        "id": "F2xeFUJzDsJg",
        "outputId": "d5981070-f487-49a8-a622-e4d3fa8772ea"
      },
      "execution_count": 42,
      "outputs": [
        {
          "output_type": "display_data",
          "data": {
            "text/plain": [
              "<IPython.core.display.Markdown object>"
            ],
            "text/markdown": "$E_\\mathrm{avail}/S = 353313.3$"
          },
          "metadata": {}
        },
        {
          "output_type": "display_data",
          "data": {
            "text/plain": [
              "<IPython.core.display.Markdown object>"
            ],
            "text/markdown": "$E_\\mathrm{avail}^\\mathrm{max}/S = 490000.0$"
          },
          "metadata": {}
        },
        {
          "output_type": "display_data",
          "data": {
            "text/plain": [
              "<IPython.core.display.Markdown object>"
            ],
            "text/markdown": "$\\eta_\\mathrm{empt} = 0.721$"
          },
          "metadata": {}
        },
        {
          "output_type": "display_data",
          "data": {
            "text/plain": [
              "<IPython.core.display.Markdown object>"
            ],
            "text/markdown": "$\\mathrm{CF}_{\\mathrm{max}} = 0.297$"
          },
          "metadata": {}
        },
        {
          "output_type": "display_data",
          "data": {
            "text/plain": [
              "<IPython.core.display.Markdown object>"
            ],
            "text/markdown": "$\\langle h \\rangle = 5.508$"
          },
          "metadata": {}
        },
        {
          "output_type": "stream",
          "name": "stdout",
          "text": [
            "\n"
          ]
        },
        {
          "output_type": "display_data",
          "data": {
            "text/plain": [
              "<IPython.core.display.Markdown object>"
            ],
            "text/markdown": "$\\langle h^{1/4}\\rangle = 1.490$"
          },
          "metadata": {}
        },
        {
          "output_type": "display_data",
          "data": {
            "text/plain": [
              "<IPython.core.display.Markdown object>"
            ],
            "text/markdown": "$\\langle h^{1/2}\\rangle = 2.273$"
          },
          "metadata": {}
        },
        {
          "output_type": "display_data",
          "data": {
            "text/plain": [
              "<IPython.core.display.Markdown object>"
            ],
            "text/markdown": "$\\langle h^{3/4}\\rangle = 3.520$"
          },
          "metadata": {}
        },
        {
          "output_type": "stream",
          "name": "stdout",
          "text": [
            "\n"
          ]
        },
        {
          "output_type": "display_data",
          "data": {
            "text/plain": [
              "<IPython.core.display.Markdown object>"
            ],
            "text/markdown": "$\\langle h \\rangle^{1/4} = 1.532$"
          },
          "metadata": {}
        },
        {
          "output_type": "display_data",
          "data": {
            "text/plain": [
              "<IPython.core.display.Markdown object>"
            ],
            "text/markdown": "$\\langle h \\rangle^{1/2} = 2.347$"
          },
          "metadata": {}
        },
        {
          "output_type": "display_data",
          "data": {
            "text/plain": [
              "<IPython.core.display.Markdown object>"
            ],
            "text/markdown": "$\\langle h \\rangle^{3/4} = 3.596$"
          },
          "metadata": {}
        }
      ]
    },
    {
      "cell_type": "code",
      "source": [
        "h_max = np.max( h_vec )\n",
        "\n",
        "mean_n11 = 0\n",
        "mean_Q11 = 0\n",
        "\n",
        "ND = np.sqrt( 9.8 * h_max ) * n11_min\n",
        "i = 0\n",
        "\n",
        "for i in range( 1, nn ):\n",
        "    n11 = ND / np.sqrt( 9.8*h_vec[i] )\n",
        "\n",
        "    if n11 > n11_max:\n",
        "        break\n",
        "    Q11 = TM.Q11( n11 )\n",
        "\n",
        "    mean_n11 += n11\n",
        "    mean_Q11 += Q11\n",
        "\n",
        "mean_n11 /= i\n",
        "mean_Q11 /= i\n",
        "\n",
        "mean_n11, mean_Q11"
      ],
      "metadata": {
        "id": "jEUsgBC0ly1Y",
        "outputId": "cfd86daf-6433-461c-f7c4-c4db69fec9db",
        "colab": {
          "base_uri": "https://localhost:8080/"
        }
      },
      "execution_count": 44,
      "outputs": [
        {
          "output_type": "execute_result",
          "data": {
            "text/plain": [
              "(5.559683875931334, 0.974675060139944)"
            ]
          },
          "metadata": {},
          "execution_count": 44
        }
      ]
    },
    {
      "cell_type": "code",
      "source": [
        "fig, ax1 = mpl.subplots()\n",
        "\n",
        "ax2 = ax1.twinx()\n",
        "ax1.plot( t_vec / T, z_vec, 'r', label=r'$z$ [m]' )\n",
        "ax1.plot( t_vec / T, h_vec, 'g', label=r'$h$ [m]' )\n",
        "ax2.plot( t_vec / T, EoS_vec / EoS_max, 'b' )\n",
        "\n",
        "ax1.set_xlabel('$t/T$ [-]')\n",
        "ax1.set_ylabel('$z,h$ [m]')\n",
        "ax1.grid()\n",
        "ax1.legend(loc='lower center')\n",
        "ax2.set_ylim( 0, 1 )\n",
        "ax2.set_ylabel('$E_\\mathrm{avail}^*$ [-]', color='b');"
      ],
      "metadata": {
        "colab": {
          "base_uri": "https://localhost:8080/",
          "height": 447
        },
        "id": "37k4zY5xwmH6",
        "outputId": "c80ba894-6ac2-459b-d696-0f591e02e34e"
      },
      "execution_count": 24,
      "outputs": [
        {
          "output_type": "display_data",
          "data": {
            "text/plain": [
              "<Figure size 480x360 with 2 Axes>"
            ],
            "image/svg+xml": "<?xml version=\"1.0\" encoding=\"utf-8\" standalone=\"no\"?>\n<!DOCTYPE svg PUBLIC \"-//W3C//DTD SVG 1.1//EN\"\n  \"http://www.w3.org/Graphics/SVG/1.1/DTD/svg11.dtd\">\n<svg xmlns:xlink=\"http://www.w3.org/1999/xlink\" width=\"453.864pt\" height=\"319.68pt\" viewBox=\"0 0 453.864 319.68\" xmlns=\"http://www.w3.org/2000/svg\" version=\"1.1\">\n <metadata>\n  <rdf:RDF xmlns:dc=\"http://purl.org/dc/elements/1.1/\" xmlns:cc=\"http://creativecommons.org/ns#\" xmlns:rdf=\"http://www.w3.org/1999/02/22-rdf-syntax-ns#\">\n   <cc:Work>\n    <dc:type rdf:resource=\"http://purl.org/dc/dcmitype/StillImage\"/>\n    <dc:date>2025-03-04T12:20:15.650785</dc:date>\n    <dc:format>image/svg+xml</dc:format>\n    <dc:creator>\n     <cc:Agent>\n      <dc:title>Matplotlib v3.10.0, https://matplotlib.org/</dc:title>\n     </cc:Agent>\n    </dc:creator>\n   </cc:Work>\n  </rdf:RDF>\n </metadata>\n <defs>\n  <style type=\"text/css\">*{stroke-linejoin: round; stroke-linecap: butt}</style>\n </defs>\n <g id=\"figure_1\">\n  <g id=\"patch_1\">\n   <path d=\"M 0 319.68 \nL 453.864 319.68 \nL 453.864 0 \nL 0 0 \nz\n\" style=\"fill: #ffffff\"/>\n  </g>\n  <g id=\"axes_1\">\n   <g id=\"patch_2\">\n    <path d=\"M 47.664 276.12 \nL 401.904 276.12 \nL 401.904 13.68 \nL 47.664 13.68 \nz\n\" style=\"fill: #ffffff\"/>\n   </g>\n   <g id=\"line2d_1\">\n    <path d=\"M 47.664 92.412 \nL 401.904 264.18121 \nL 401.904 264.18121 \n\" clip-path=\"url(#pf6437c9f23)\" style=\"fill: none; stroke-dasharray: 6,0; stroke-dashoffset: 0; stroke: #ff0000; stroke-width: 1.5\"/>\n   </g>\n   <g id=\"line2d_2\">\n    <path d=\"M 47.664 51.86279 \nL 57.947243 47.860055 \nL 67.521297 44.369332 \nL 76.386162 41.373542 \nL 84.541838 38.84365 \nL 92.342919 36.647255 \nL 99.789405 34.771653 \nL 107.235892 33.127429 \nL 114.327784 31.790039 \nL 121.065081 30.737251 \nL 127.802378 29.906659 \nL 134.539676 29.307624 \nL 140.922378 28.961723 \nL 147.305081 28.838631 \nL 153.687784 28.944946 \nL 159.715892 29.261526 \nL 165.744 29.792968 \nL 171.772108 30.543646 \nL 177.800216 31.517531 \nL 183.828324 32.718189 \nL 189.856432 34.148771 \nL 195.884541 35.812004 \nL 201.912649 37.710193 \nL 207.940757 39.845213 \nL 213.968865 42.218505 \nL 219.996973 44.831073 \nL 226.025081 47.683486 \nL 232.053189 50.775872 \nL 238.081297 54.107923 \nL 244.464 57.896363 \nL 250.846703 61.951226 \nL 257.229405 66.270545 \nL 263.612108 70.851809 \nL 270.349405 75.96839 \nL 277.086703 81.369202 \nL 283.824 87.049372 \nL 290.915892 93.324227 \nL 298.007784 99.895326 \nL 305.45427 107.105127 \nL 312.900757 114.622745 \nL 320.701838 122.81661 \nL 328.857514 131.716661 \nL 337.013189 140.941542 \nL 345.523459 150.894732 \nL 354.742919 162.030141 \nL 364.316973 173.952342 \nL 374.600216 187.126616 \nL 385.592649 201.583776 \nL 397.648865 217.82018 \nL 401.904 223.632 \nL 401.904 223.632 \n\" clip-path=\"url(#pf6437c9f23)\" style=\"fill: none; stroke-dasharray: 6,2; stroke-dashoffset: 0; stroke: #008000; stroke-width: 1.5\"/>\n   </g>\n   <g id=\"patch_3\">\n    <path d=\"M 47.664 276.12 \nL 47.664 13.68 \n\" style=\"fill: none; stroke: #000000; stroke-linejoin: miter; stroke-linecap: square\"/>\n   </g>\n   <g id=\"patch_4\">\n    <path d=\"M 401.904 276.12 \nL 401.904 13.68 \n\" style=\"fill: none; stroke: #000000; stroke-linejoin: miter; stroke-linecap: square\"/>\n   </g>\n   <g id=\"patch_5\">\n    <path d=\"M 47.664 276.12 \nL 401.904 276.12 \n\" style=\"fill: none; stroke: #000000; stroke-linejoin: miter; stroke-linecap: square\"/>\n   </g>\n   <g id=\"patch_6\">\n    <path d=\"M 47.664 13.68 \nL 401.904 13.68 \n\" style=\"fill: none; stroke: #000000; stroke-linejoin: miter; stroke-linecap: square\"/>\n   </g>\n   <g id=\"matplotlib.axis_1\">\n    <g id=\"xtick_1\">\n     <g id=\"line2d_3\">\n      <path d=\"M 47.664 276.12 \nL 47.664 13.68 \n\" clip-path=\"url(#pf6437c9f23)\" style=\"fill: none; stroke-dasharray: 1,3; stroke-dashoffset: 0; stroke: #000000; stroke-width: 0.5\"/>\n     </g>\n     <g id=\"line2d_4\">\n      <defs>\n       <path id=\"m74fa03cc64\" d=\"M 0 0 \nL 0 -4 \n\" style=\"stroke: #000000; stroke-width: 0.5\"/>\n      </defs>\n      <g>\n       <use xlink:href=\"#m74fa03cc64\" x=\"47.664\" y=\"276.12\" style=\"stroke: #000000; stroke-width: 0.5\"/>\n      </g>\n     </g>\n     <g id=\"line2d_5\">\n      <defs>\n       <path id=\"mf15ea6068e\" d=\"M 0 0 \nL 0 4 \n\" style=\"stroke: #000000; stroke-width: 0.5\"/>\n      </defs>\n      <g>\n       <use xlink:href=\"#mf15ea6068e\" x=\"47.664\" y=\"13.68\" style=\"stroke: #000000; stroke-width: 0.5\"/>\n      </g>\n     </g>\n     <g id=\"text_1\">\n      <!-- 0.30 -->\n      <g transform=\"translate(35.064 289.95475) scale(0.144 -0.144)\">\n       <defs>\n        <path id=\"STIXGeneral-Regular-30\" d=\"M 3046 2112 \nQ 3046 1683 2963 1302 \nQ 2880 922 2717 602 \nQ 2554 282 2266 96 \nQ 1978 -90 1600 -90 \nQ 1210 -90 915 108 \nQ 621 307 461 640 \nQ 301 973 227 1350 \nQ 154 1728 154 2150 \nQ 154 2746 301 3222 \nQ 448 3699 790 4012 \nQ 1133 4326 1626 4326 \nQ 2253 4326 2649 3712 \nQ 3046 3098 3046 2112 \nz\nM 2432 2080 \nQ 2432 3091 2217 3625 \nQ 2003 4160 1587 4160 \nQ 1190 4160 979 3622 \nQ 768 3085 768 2106 \nQ 768 1120 979 598 \nQ 1190 77 1600 77 \nQ 2003 77 2217 598 \nQ 2432 1120 2432 2080 \nz\n\" transform=\"scale(0.015625)\"/>\n        <path id=\"STIXGeneral-Regular-2e\" d=\"M 1158 275 \nQ 1158 134 1052 32 \nQ 947 -70 800 -70 \nQ 653 -70 550 32 \nQ 448 134 448 281 \nQ 448 429 553 534 \nQ 659 640 806 640 \nQ 947 640 1052 531 \nQ 1158 422 1158 275 \nz\n\" transform=\"scale(0.015625)\"/>\n        <path id=\"STIXGeneral-Regular-33\" d=\"M 390 3264 \nL 288 3290 \nQ 435 3770 748 4048 \nQ 1062 4326 1542 4326 \nQ 1990 4326 2265 4083 \nQ 2541 3840 2541 3450 \nQ 2541 2925 1946 2566 \nQ 2298 2413 2477 2227 \nQ 2758 1914 2758 1402 \nQ 2758 890 2464 506 \nQ 2246 211 1840 60 \nQ 1434 -90 979 -90 \nQ 262 -90 262 275 \nQ 262 378 339 442 \nQ 416 506 525 506 \nQ 685 506 915 339 \nQ 1197 141 1466 141 \nQ 1818 141 2058 425 \nQ 2298 710 2298 1120 \nQ 2298 1856 1632 2048 \nQ 1434 2112 979 2112 \nL 979 2202 \nQ 1338 2323 1517 2432 \nQ 2035 2726 2035 3290 \nQ 2035 3610 1852 3776 \nQ 1670 3942 1344 3942 \nQ 768 3942 390 3264 \nz\n\" transform=\"scale(0.015625)\"/>\n       </defs>\n       <use xlink:href=\"#STIXGeneral-Regular-30\"/>\n       <use xlink:href=\"#STIXGeneral-Regular-2e\" transform=\"translate(49.999985 0)\"/>\n       <use xlink:href=\"#STIXGeneral-Regular-33\" transform=\"translate(74.999969 0)\"/>\n       <use xlink:href=\"#STIXGeneral-Regular-30\" transform=\"translate(124.999954 0)\"/>\n      </g>\n     </g>\n    </g>\n    <g id=\"xtick_2\">\n     <g id=\"line2d_6\">\n      <path d=\"M 91.944 276.12 \nL 91.944 13.68 \n\" clip-path=\"url(#pf6437c9f23)\" style=\"fill: none; stroke-dasharray: 1,3; stroke-dashoffset: 0; stroke: #000000; stroke-width: 0.5\"/>\n     </g>\n     <g id=\"line2d_7\">\n      <g>\n       <use xlink:href=\"#m74fa03cc64\" x=\"91.944\" y=\"276.12\" style=\"stroke: #000000; stroke-width: 0.5\"/>\n      </g>\n     </g>\n     <g id=\"line2d_8\">\n      <g>\n       <use xlink:href=\"#mf15ea6068e\" x=\"91.944\" y=\"13.68\" style=\"stroke: #000000; stroke-width: 0.5\"/>\n      </g>\n     </g>\n     <g id=\"text_2\">\n      <!-- 0.35 -->\n      <g transform=\"translate(79.344 289.95475) scale(0.144 -0.144)\">\n       <defs>\n        <path id=\"STIXGeneral-Regular-35\" d=\"M 2803 4358 \nL 2573 3814 \nQ 2534 3731 2400 3731 \nL 1158 3731 \nL 902 3187 \nQ 1606 3053 1920 2896 \nQ 2234 2739 2502 2368 \nQ 2726 2061 2726 1555 \nQ 2726 1094 2576 780 \nQ 2426 467 2099 224 \nQ 1664 -90 1011 -90 \nQ 646 -90 422 19 \nQ 198 128 198 307 \nQ 198 550 486 550 \nQ 717 550 960 352 \nQ 1210 147 1414 147 \nQ 1747 147 2012 480 \nQ 2278 813 2278 1229 \nQ 2278 1843 1850 2189 \nQ 1293 2637 486 2637 \nQ 410 2637 410 2688 \nL 416 2720 \nL 1114 4237 \nL 2438 4237 \nQ 2547 4237 2608 4269 \nQ 2669 4301 2746 4403 \nL 2803 4358 \nz\n\" transform=\"scale(0.015625)\"/>\n       </defs>\n       <use xlink:href=\"#STIXGeneral-Regular-30\"/>\n       <use xlink:href=\"#STIXGeneral-Regular-2e\" transform=\"translate(49.999985 0)\"/>\n       <use xlink:href=\"#STIXGeneral-Regular-33\" transform=\"translate(74.999969 0)\"/>\n       <use xlink:href=\"#STIXGeneral-Regular-35\" transform=\"translate(124.999954 0)\"/>\n      </g>\n     </g>\n    </g>\n    <g id=\"xtick_3\">\n     <g id=\"line2d_9\">\n      <path d=\"M 136.224 276.12 \nL 136.224 13.68 \n\" clip-path=\"url(#pf6437c9f23)\" style=\"fill: none; stroke-dasharray: 1,3; stroke-dashoffset: 0; stroke: #000000; stroke-width: 0.5\"/>\n     </g>\n     <g id=\"line2d_10\">\n      <g>\n       <use xlink:href=\"#m74fa03cc64\" x=\"136.224\" y=\"276.12\" style=\"stroke: #000000; stroke-width: 0.5\"/>\n      </g>\n     </g>\n     <g id=\"line2d_11\">\n      <g>\n       <use xlink:href=\"#mf15ea6068e\" x=\"136.224\" y=\"13.68\" style=\"stroke: #000000; stroke-width: 0.5\"/>\n      </g>\n     </g>\n     <g id=\"text_3\">\n      <!-- 0.40 -->\n      <g transform=\"translate(123.624 289.95475) scale(0.144 -0.144)\">\n       <defs>\n        <path id=\"STIXGeneral-Regular-34\" d=\"M 3027 1069 \nL 2368 1069 \nL 2368 0 \nL 1869 0 \nL 1869 1069 \nL 77 1069 \nL 77 1478 \nL 2086 4326 \nL 2368 4326 \nL 2368 1478 \nL 3027 1478 \nL 3027 1069 \nz\nM 1869 1478 \nL 1869 3674 \nL 333 1478 \nL 1869 1478 \nz\n\" transform=\"scale(0.015625)\"/>\n       </defs>\n       <use xlink:href=\"#STIXGeneral-Regular-30\"/>\n       <use xlink:href=\"#STIXGeneral-Regular-2e\" transform=\"translate(49.999985 0)\"/>\n       <use xlink:href=\"#STIXGeneral-Regular-34\" transform=\"translate(74.999969 0)\"/>\n       <use xlink:href=\"#STIXGeneral-Regular-30\" transform=\"translate(124.999954 0)\"/>\n      </g>\n     </g>\n    </g>\n    <g id=\"xtick_4\">\n     <g id=\"line2d_12\">\n      <path d=\"M 180.504 276.12 \nL 180.504 13.68 \n\" clip-path=\"url(#pf6437c9f23)\" style=\"fill: none; stroke-dasharray: 1,3; stroke-dashoffset: 0; stroke: #000000; stroke-width: 0.5\"/>\n     </g>\n     <g id=\"line2d_13\">\n      <g>\n       <use xlink:href=\"#m74fa03cc64\" x=\"180.504\" y=\"276.12\" style=\"stroke: #000000; stroke-width: 0.5\"/>\n      </g>\n     </g>\n     <g id=\"line2d_14\">\n      <g>\n       <use xlink:href=\"#mf15ea6068e\" x=\"180.504\" y=\"13.68\" style=\"stroke: #000000; stroke-width: 0.5\"/>\n      </g>\n     </g>\n     <g id=\"text_4\">\n      <!-- 0.45 -->\n      <g transform=\"translate(167.904 289.95475) scale(0.144 -0.144)\">\n       <use xlink:href=\"#STIXGeneral-Regular-30\"/>\n       <use xlink:href=\"#STIXGeneral-Regular-2e\" transform=\"translate(49.999985 0)\"/>\n       <use xlink:href=\"#STIXGeneral-Regular-34\" transform=\"translate(74.999969 0)\"/>\n       <use xlink:href=\"#STIXGeneral-Regular-35\" transform=\"translate(124.999954 0)\"/>\n      </g>\n     </g>\n    </g>\n    <g id=\"xtick_5\">\n     <g id=\"line2d_15\">\n      <path d=\"M 224.784 276.12 \nL 224.784 13.68 \n\" clip-path=\"url(#pf6437c9f23)\" style=\"fill: none; stroke-dasharray: 1,3; stroke-dashoffset: 0; stroke: #000000; stroke-width: 0.5\"/>\n     </g>\n     <g id=\"line2d_16\">\n      <g>\n       <use xlink:href=\"#m74fa03cc64\" x=\"224.784\" y=\"276.12\" style=\"stroke: #000000; stroke-width: 0.5\"/>\n      </g>\n     </g>\n     <g id=\"line2d_17\">\n      <g>\n       <use xlink:href=\"#mf15ea6068e\" x=\"224.784\" y=\"13.68\" style=\"stroke: #000000; stroke-width: 0.5\"/>\n      </g>\n     </g>\n     <g id=\"text_5\">\n      <!-- 0.50 -->\n      <g transform=\"translate(212.184 289.95475) scale(0.144 -0.144)\">\n       <use xlink:href=\"#STIXGeneral-Regular-30\"/>\n       <use xlink:href=\"#STIXGeneral-Regular-2e\" transform=\"translate(49.999985 0)\"/>\n       <use xlink:href=\"#STIXGeneral-Regular-35\" transform=\"translate(74.999969 0)\"/>\n       <use xlink:href=\"#STIXGeneral-Regular-30\" transform=\"translate(124.999954 0)\"/>\n      </g>\n     </g>\n    </g>\n    <g id=\"xtick_6\">\n     <g id=\"line2d_18\">\n      <path d=\"M 269.064 276.12 \nL 269.064 13.68 \n\" clip-path=\"url(#pf6437c9f23)\" style=\"fill: none; stroke-dasharray: 1,3; stroke-dashoffset: 0; stroke: #000000; stroke-width: 0.5\"/>\n     </g>\n     <g id=\"line2d_19\">\n      <g>\n       <use xlink:href=\"#m74fa03cc64\" x=\"269.064\" y=\"276.12\" style=\"stroke: #000000; stroke-width: 0.5\"/>\n      </g>\n     </g>\n     <g id=\"line2d_20\">\n      <g>\n       <use xlink:href=\"#mf15ea6068e\" x=\"269.064\" y=\"13.68\" style=\"stroke: #000000; stroke-width: 0.5\"/>\n      </g>\n     </g>\n     <g id=\"text_6\">\n      <!-- 0.55 -->\n      <g transform=\"translate(256.464 289.95475) scale(0.144 -0.144)\">\n       <use xlink:href=\"#STIXGeneral-Regular-30\"/>\n       <use xlink:href=\"#STIXGeneral-Regular-2e\" transform=\"translate(49.999985 0)\"/>\n       <use xlink:href=\"#STIXGeneral-Regular-35\" transform=\"translate(74.999969 0)\"/>\n       <use xlink:href=\"#STIXGeneral-Regular-35\" transform=\"translate(124.999954 0)\"/>\n      </g>\n     </g>\n    </g>\n    <g id=\"xtick_7\">\n     <g id=\"line2d_21\">\n      <path d=\"M 313.344 276.12 \nL 313.344 13.68 \n\" clip-path=\"url(#pf6437c9f23)\" style=\"fill: none; stroke-dasharray: 1,3; stroke-dashoffset: 0; stroke: #000000; stroke-width: 0.5\"/>\n     </g>\n     <g id=\"line2d_22\">\n      <g>\n       <use xlink:href=\"#m74fa03cc64\" x=\"313.344\" y=\"276.12\" style=\"stroke: #000000; stroke-width: 0.5\"/>\n      </g>\n     </g>\n     <g id=\"line2d_23\">\n      <g>\n       <use xlink:href=\"#mf15ea6068e\" x=\"313.344\" y=\"13.68\" style=\"stroke: #000000; stroke-width: 0.5\"/>\n      </g>\n     </g>\n     <g id=\"text_7\">\n      <!-- 0.60 -->\n      <g transform=\"translate(300.744 289.95475) scale(0.144 -0.144)\">\n       <defs>\n        <path id=\"STIXGeneral-Regular-36\" d=\"M 2854 4378 \nL 2867 4275 \nQ 2112 4154 1606 3664 \nQ 1101 3174 973 2451 \nQ 1344 2739 1786 2739 \nQ 2349 2739 2672 2380 \nQ 2995 2022 2995 1402 \nQ 2995 774 2669 378 \nQ 2291 -90 1651 -90 \nQ 870 -90 518 557 \nQ 218 1107 218 1786 \nQ 218 2835 915 3552 \nQ 1312 3962 1731 4131 \nQ 2150 4301 2854 4378 \nz\nM 2419 1203 \nQ 2419 2445 1555 2445 \nQ 1235 2445 1024 2275 \nQ 813 2106 813 1702 \nQ 813 954 1046 522 \nQ 1280 90 1722 90 \nQ 2061 90 2240 394 \nQ 2419 698 2419 1203 \nz\n\" transform=\"scale(0.015625)\"/>\n       </defs>\n       <use xlink:href=\"#STIXGeneral-Regular-30\"/>\n       <use xlink:href=\"#STIXGeneral-Regular-2e\" transform=\"translate(49.999985 0)\"/>\n       <use xlink:href=\"#STIXGeneral-Regular-36\" transform=\"translate(74.999969 0)\"/>\n       <use xlink:href=\"#STIXGeneral-Regular-30\" transform=\"translate(124.999954 0)\"/>\n      </g>\n     </g>\n    </g>\n    <g id=\"xtick_8\">\n     <g id=\"line2d_24\">\n      <path d=\"M 357.624 276.12 \nL 357.624 13.68 \n\" clip-path=\"url(#pf6437c9f23)\" style=\"fill: none; stroke-dasharray: 1,3; stroke-dashoffset: 0; stroke: #000000; stroke-width: 0.5\"/>\n     </g>\n     <g id=\"line2d_25\">\n      <g>\n       <use xlink:href=\"#m74fa03cc64\" x=\"357.624\" y=\"276.12\" style=\"stroke: #000000; stroke-width: 0.5\"/>\n      </g>\n     </g>\n     <g id=\"line2d_26\">\n      <g>\n       <use xlink:href=\"#mf15ea6068e\" x=\"357.624\" y=\"13.68\" style=\"stroke: #000000; stroke-width: 0.5\"/>\n      </g>\n     </g>\n     <g id=\"text_8\">\n      <!-- 0.65 -->\n      <g transform=\"translate(345.024 289.95475) scale(0.144 -0.144)\">\n       <use xlink:href=\"#STIXGeneral-Regular-30\"/>\n       <use xlink:href=\"#STIXGeneral-Regular-2e\" transform=\"translate(49.999985 0)\"/>\n       <use xlink:href=\"#STIXGeneral-Regular-36\" transform=\"translate(74.999969 0)\"/>\n       <use xlink:href=\"#STIXGeneral-Regular-35\" transform=\"translate(124.999954 0)\"/>\n      </g>\n     </g>\n    </g>\n    <g id=\"xtick_9\">\n     <g id=\"line2d_27\">\n      <path d=\"M 401.904 276.12 \nL 401.904 13.68 \n\" clip-path=\"url(#pf6437c9f23)\" style=\"fill: none; stroke-dasharray: 1,3; stroke-dashoffset: 0; stroke: #000000; stroke-width: 0.5\"/>\n     </g>\n     <g id=\"line2d_28\">\n      <g>\n       <use xlink:href=\"#m74fa03cc64\" x=\"401.904\" y=\"276.12\" style=\"stroke: #000000; stroke-width: 0.5\"/>\n      </g>\n     </g>\n     <g id=\"line2d_29\">\n      <g>\n       <use xlink:href=\"#mf15ea6068e\" x=\"401.904\" y=\"13.68\" style=\"stroke: #000000; stroke-width: 0.5\"/>\n      </g>\n     </g>\n     <g id=\"text_9\">\n      <!-- 0.70 -->\n      <g transform=\"translate(389.304 289.95475) scale(0.144 -0.144)\">\n       <defs>\n        <path id=\"STIXGeneral-Regular-37\" d=\"M 2874 4134 \nL 1517 -51 \nL 1101 -51 \nL 2368 3763 \nL 992 3763 \nQ 717 3763 582 3667 \nQ 448 3571 243 3238 \nL 128 3296 \nL 512 4237 \nL 2874 4237 \nL 2874 4134 \nz\n\" transform=\"scale(0.015625)\"/>\n       </defs>\n       <use xlink:href=\"#STIXGeneral-Regular-30\"/>\n       <use xlink:href=\"#STIXGeneral-Regular-2e\" transform=\"translate(49.999985 0)\"/>\n       <use xlink:href=\"#STIXGeneral-Regular-37\" transform=\"translate(74.999969 0)\"/>\n       <use xlink:href=\"#STIXGeneral-Regular-30\" transform=\"translate(124.999954 0)\"/>\n      </g>\n     </g>\n    </g>\n    <g id=\"text_10\">\n     <!-- $t/T$ [-] -->\n     <g transform=\"translate(205.824 309.0075) scale(0.16 -0.16)\">\n      <defs>\n       <path id=\"STIXGeneral-Italic-74\" d=\"M 1894 2739 \nL 1862 2534 \nL 1325 2534 \nL 768 435 \nQ 755 384 755 346 \nQ 755 243 851 243 \nQ 928 243 1030 342 \nQ 1133 442 1370 749 \nL 1453 704 \nQ 1158 256 969 93 \nQ 781 -70 538 -70 \nQ 243 -70 243 166 \nQ 243 230 346 640 \nL 845 2534 \nL 365 2534 \nL 358 2573 \nQ 358 2688 570 2733 \nQ 730 2771 992 2979 \nQ 1254 3187 1421 3437 \nQ 1459 3494 1510 3494 \nQ 1568 3494 1568 3443 \nQ 1568 3411 1562 3398 \nL 1382 2739 \nL 1894 2739 \nz\n\" transform=\"scale(0.015625)\"/>\n       <path id=\"STIXGeneral-Regular-2f\" d=\"M 1837 4326 \nL 378 -90 \nL -58 -90 \nL 1408 4326 \nL 1837 4326 \nz\n\" transform=\"scale(0.015625)\"/>\n       <path id=\"STIXGeneral-Italic-54\" d=\"M 4051 4179 \nL 3770 3130 \nL 3661 3142 \nQ 3680 3302 3680 3437 \nQ 3680 3955 3034 3955 \nL 2662 3955 \nL 1786 819 \nQ 1696 506 1696 397 \nQ 1696 250 1766 195 \nQ 1837 141 2035 122 \nL 2259 102 \nL 2259 0 \nL 416 0 \nL 416 102 \nQ 749 134 889 230 \nQ 1030 326 1101 582 \nL 2016 3955 \nQ 1254 3955 988 3817 \nQ 723 3680 493 3162 \nL 378 3187 \nL 646 4179 \nL 4051 4179 \nz\n\" transform=\"scale(0.015625)\"/>\n       <path id=\"STIXGeneral-Regular-20\" transform=\"scale(0.015625)\"/>\n       <path id=\"STIXGeneral-Regular-5b\" d=\"M 1914 -998 \nL 563 -998 \nL 563 4237 \nL 1914 4237 \nL 1914 4077 \nL 1382 4077 \nQ 1216 4077 1133 4006 \nQ 1050 3936 1050 3770 \nL 1050 -493 \nQ 1050 -838 1382 -838 \nL 1914 -838 \nL 1914 -998 \nz\n\" transform=\"scale(0.015625)\"/>\n       <path id=\"STIXGeneral-Regular-2d\" d=\"M 1824 1242 \nL 250 1242 \nL 250 1645 \nL 1824 1645 \nL 1824 1242 \nz\n\" transform=\"scale(0.015625)\"/>\n       <path id=\"STIXGeneral-Regular-5d\" d=\"M 1568 -998 \nL 218 -998 \nL 218 -838 \nL 781 -838 \nQ 947 -838 1014 -768 \nQ 1082 -698 1082 -544 \nL 1082 3731 \nQ 1082 4077 755 4077 \nL 218 4077 \nL 218 4237 \nL 1568 4237 \nL 1568 -998 \nz\n\" transform=\"scale(0.015625)\"/>\n      </defs>\n      <use xlink:href=\"#STIXGeneral-Italic-74\" transform=\"translate(0 0.40625)\"/>\n      <use xlink:href=\"#STIXGeneral-Regular-2f\" transform=\"translate(27.799988 0.40625)\"/>\n      <use xlink:href=\"#STIXGeneral-Italic-54\" transform=\"translate(55.599976 0.40625)\"/>\n      <use xlink:href=\"#STIXGeneral-Regular-20\" transform=\"translate(111.199966 0.40625)\"/>\n      <use xlink:href=\"#STIXGeneral-Regular-5b\" transform=\"translate(136.199951 0.40625)\"/>\n      <use xlink:href=\"#STIXGeneral-Regular-2d\" transform=\"translate(169.499939 0.40625)\"/>\n      <use xlink:href=\"#STIXGeneral-Regular-5d\" transform=\"translate(202.799927 0.40625)\"/>\n     </g>\n    </g>\n   </g>\n   <g id=\"matplotlib.axis_2\">\n    <g id=\"ytick_1\">\n     <g id=\"line2d_30\">\n      <path d=\"M 47.664 276.12 \nL 401.904 276.12 \n\" clip-path=\"url(#pf6437c9f23)\" style=\"fill: none; stroke-dasharray: 1,3; stroke-dashoffset: 0; stroke: #000000; stroke-width: 0.5\"/>\n     </g>\n     <g id=\"line2d_31\">\n      <defs>\n       <path id=\"m6f71ba95ca\" d=\"M 0 0 \nL 4 0 \n\" style=\"stroke: #000000; stroke-width: 0.5\"/>\n      </defs>\n      <g>\n       <use xlink:href=\"#m6f71ba95ca\" x=\"47.664\" y=\"276.12\" style=\"stroke: #000000; stroke-width: 0.5\"/>\n      </g>\n     </g>\n     <g id=\"text_11\">\n      <!-- −2 -->\n      <g transform=\"translate(26.6 279.47475) scale(0.144 -0.144)\">\n       <defs>\n        <path id=\"STIXGeneral-Regular-2212\" d=\"M 3974 1408 \nL 410 1408 \nL 410 1830 \nL 3974 1830 \nL 3974 1408 \nz\n\" transform=\"scale(0.015625)\"/>\n        <path id=\"STIXGeneral-Regular-32\" d=\"M 3034 877 \nL 2688 0 \nL 186 0 \nL 186 77 \nL 1325 1286 \nQ 1773 1754 1965 2144 \nQ 2157 2534 2157 2950 \nQ 2157 3379 1920 3616 \nQ 1683 3853 1267 3853 \nQ 922 3853 720 3673 \nQ 518 3494 326 3021 \nL 192 3053 \nQ 301 3648 630 3987 \nQ 960 4326 1523 4326 \nQ 2054 4326 2380 4006 \nQ 2707 3686 2707 3200 \nQ 2707 2477 1888 1613 \nL 832 486 \nL 2330 486 \nQ 2541 486 2665 569 \nQ 2790 653 2944 915 \nL 3034 877 \nz\n\" transform=\"scale(0.015625)\"/>\n       </defs>\n       <use xlink:href=\"#STIXGeneral-Regular-2212\"/>\n       <use xlink:href=\"#STIXGeneral-Regular-32\" transform=\"translate(68.499985 0)\"/>\n      </g>\n     </g>\n    </g>\n    <g id=\"ytick_2\">\n     <g id=\"line2d_32\">\n      <path d=\"M 47.664 223.632 \nL 401.904 223.632 \n\" clip-path=\"url(#pf6437c9f23)\" style=\"fill: none; stroke-dasharray: 1,3; stroke-dashoffset: 0; stroke: #000000; stroke-width: 0.5\"/>\n     </g>\n     <g id=\"line2d_33\">\n      <g>\n       <use xlink:href=\"#m6f71ba95ca\" x=\"47.664\" y=\"223.632\" style=\"stroke: #000000; stroke-width: 0.5\"/>\n      </g>\n     </g>\n     <g id=\"text_12\">\n      <!-- 0 -->\n      <g transform=\"translate(36.464 226.98675) scale(0.144 -0.144)\">\n       <use xlink:href=\"#STIXGeneral-Regular-30\"/>\n      </g>\n     </g>\n    </g>\n    <g id=\"ytick_3\">\n     <g id=\"line2d_34\">\n      <path d=\"M 47.664 171.144 \nL 401.904 171.144 \n\" clip-path=\"url(#pf6437c9f23)\" style=\"fill: none; stroke-dasharray: 1,3; stroke-dashoffset: 0; stroke: #000000; stroke-width: 0.5\"/>\n     </g>\n     <g id=\"line2d_35\">\n      <g>\n       <use xlink:href=\"#m6f71ba95ca\" x=\"47.664\" y=\"171.144\" style=\"stroke: #000000; stroke-width: 0.5\"/>\n      </g>\n     </g>\n     <g id=\"text_13\">\n      <!-- 2 -->\n      <g transform=\"translate(36.464 174.49875) scale(0.144 -0.144)\">\n       <use xlink:href=\"#STIXGeneral-Regular-32\"/>\n      </g>\n     </g>\n    </g>\n    <g id=\"ytick_4\">\n     <g id=\"line2d_36\">\n      <path d=\"M 47.664 118.656 \nL 401.904 118.656 \n\" clip-path=\"url(#pf6437c9f23)\" style=\"fill: none; stroke-dasharray: 1,3; stroke-dashoffset: 0; stroke: #000000; stroke-width: 0.5\"/>\n     </g>\n     <g id=\"line2d_37\">\n      <g>\n       <use xlink:href=\"#m6f71ba95ca\" x=\"47.664\" y=\"118.656\" style=\"stroke: #000000; stroke-width: 0.5\"/>\n      </g>\n     </g>\n     <g id=\"text_14\">\n      <!-- 4 -->\n      <g transform=\"translate(36.464 122.01075) scale(0.144 -0.144)\">\n       <use xlink:href=\"#STIXGeneral-Regular-34\"/>\n      </g>\n     </g>\n    </g>\n    <g id=\"ytick_5\">\n     <g id=\"line2d_38\">\n      <path d=\"M 47.664 66.168 \nL 401.904 66.168 \n\" clip-path=\"url(#pf6437c9f23)\" style=\"fill: none; stroke-dasharray: 1,3; stroke-dashoffset: 0; stroke: #000000; stroke-width: 0.5\"/>\n     </g>\n     <g id=\"line2d_39\">\n      <g>\n       <use xlink:href=\"#m6f71ba95ca\" x=\"47.664\" y=\"66.168\" style=\"stroke: #000000; stroke-width: 0.5\"/>\n      </g>\n     </g>\n     <g id=\"text_15\">\n      <!-- 6 -->\n      <g transform=\"translate(36.464 69.52275) scale(0.144 -0.144)\">\n       <use xlink:href=\"#STIXGeneral-Regular-36\"/>\n      </g>\n     </g>\n    </g>\n    <g id=\"ytick_6\">\n     <g id=\"line2d_40\">\n      <path d=\"M 47.664 13.68 \nL 401.904 13.68 \n\" clip-path=\"url(#pf6437c9f23)\" style=\"fill: none; stroke-dasharray: 1,3; stroke-dashoffset: 0; stroke: #000000; stroke-width: 0.5\"/>\n     </g>\n     <g id=\"line2d_41\">\n      <g>\n       <use xlink:href=\"#m6f71ba95ca\" x=\"47.664\" y=\"13.68\" style=\"stroke: #000000; stroke-width: 0.5\"/>\n      </g>\n     </g>\n     <g id=\"text_16\">\n      <!-- 8 -->\n      <g transform=\"translate(36.464 17.03475) scale(0.144 -0.144)\">\n       <defs>\n        <path id=\"STIXGeneral-Regular-38\" d=\"M 2848 992 \nQ 2848 499 2505 204 \nQ 2163 -90 1587 -90 \nQ 1050 -90 704 204 \nQ 358 499 358 954 \nQ 358 1293 524 1533 \nQ 691 1773 1190 2125 \nQ 710 2522 553 2765 \nQ 397 3008 397 3328 \nQ 397 3782 745 4054 \nQ 1094 4326 1638 4326 \nQ 2106 4326 2410 4060 \nQ 2714 3795 2714 3411 \nQ 2714 3059 2531 2848 \nQ 2349 2637 1856 2374 \nQ 2432 1990 2640 1689 \nQ 2848 1389 2848 992 \nz\nM 2272 3411 \nQ 2272 3744 2086 3945 \nQ 1901 4147 1574 4147 \nQ 1248 4147 1059 3977 \nQ 870 3808 870 3513 \nQ 870 3219 1059 2979 \nQ 1248 2739 1670 2490 \nQ 1997 2682 2134 2896 \nQ 2272 3110 2272 3411 \nz\nM 1734 1741 \nL 1357 1997 \nQ 1075 1766 960 1545 \nQ 845 1325 845 1011 \nQ 845 576 1065 333 \nQ 1286 90 1658 90 \nQ 1971 90 2166 285 \nQ 2362 480 2362 794 \nQ 2362 1082 2214 1299 \nQ 2067 1517 1734 1741 \nz\n\" transform=\"scale(0.015625)\"/>\n       </defs>\n       <use xlink:href=\"#STIXGeneral-Regular-38\"/>\n      </g>\n     </g>\n    </g>\n    <g id=\"text_17\">\n     <!-- $z,h$ [m] -->\n     <g transform=\"translate(18.1275 168.74) rotate(-90) scale(0.16 -0.16)\">\n      <defs>\n       <path id=\"STIXGeneral-Italic-7a\" d=\"M 2432 2669 \nL 582 467 \nQ 877 403 1021 307 \nQ 1165 211 1350 -64 \nQ 1568 -384 1798 -384 \nQ 1971 -384 1971 -288 \nQ 1971 -256 1939 -192 \nQ 1888 -90 1888 -13 \nQ 1894 70 1958 137 \nQ 2022 205 2099 205 \nQ 2202 205 2262 141 \nQ 2323 77 2323 -32 \nQ 2323 -230 2156 -374 \nQ 1990 -518 1728 -518 \nQ 1459 -518 1005 -237 \nQ 570 32 333 32 \nQ 186 32 45 -83 \nL -13 -26 \nL 1971 2355 \nL 1101 2355 \nQ 845 2355 729 2281 \nQ 614 2208 518 1971 \nL 416 1997 \nL 621 2739 \nL 2432 2739 \nL 2432 2669 \nz\n\" transform=\"scale(0.015625)\"/>\n       <path id=\"STIXGeneral-Regular-2c\" d=\"M 531 -902 \nL 467 -781 \nQ 998 -422 998 -96 \nQ 998 -13 909 -13 \nQ 883 -13 822 -25 \nQ 762 -38 723 -38 \nQ 352 -38 352 288 \nQ 352 454 457 553 \nQ 563 653 736 653 \nQ 954 653 1101 496 \nQ 1248 339 1248 96 \nQ 1248 -198 1053 -473 \nQ 858 -749 531 -902 \nz\n\" transform=\"scale(0.015625)\"/>\n       <path id=\"STIXGeneral-Italic-68\" d=\"M 2976 755 \nL 3059 672 \nQ 2765 256 2566 99 \nQ 2368 -58 2125 -58 \nQ 1997 -58 1920 16 \nQ 1843 90 1843 211 \nQ 1843 320 1971 800 \nL 2323 2125 \nQ 2368 2304 2368 2336 \nQ 2368 2496 2189 2496 \nQ 2016 2496 1744 2240 \nQ 1472 1984 1216 1600 \nQ 1018 1293 902 1001 \nQ 787 710 602 0 \nL 122 0 \nL 1056 3546 \nQ 1139 3866 1139 3942 \nQ 1139 4019 1056 4060 \nQ 973 4102 877 4102 \nL 704 4102 \nL 704 4198 \nQ 1190 4256 1709 4371 \nL 1754 4333 \nL 979 1472 \nQ 1811 2822 2451 2822 \nQ 2662 2822 2764 2704 \nQ 2867 2586 2867 2394 \nQ 2867 2118 2560 1158 \nQ 2349 512 2349 358 \nQ 2349 243 2451 243 \nQ 2528 243 2621 336 \nQ 2714 429 2976 755 \nz\n\" transform=\"scale(0.015625)\"/>\n       <path id=\"STIXGeneral-Regular-6d\" d=\"M 4960 0 \nL 3565 0 \nL 3565 96 \nQ 3834 122 3907 208 \nQ 3981 294 3981 576 \nL 3981 1894 \nQ 3981 2278 3869 2444 \nQ 3757 2611 3488 2611 \nQ 3264 2611 3107 2521 \nQ 2950 2432 2803 2221 \nL 2803 608 \nQ 2803 301 2896 201 \nQ 2989 102 3264 96 \nL 3264 0 \nL 1830 0 \nL 1830 96 \nQ 2112 115 2189 188 \nQ 2266 262 2266 550 \nL 2266 1901 \nQ 2266 2611 1850 2611 \nQ 1670 2611 1468 2531 \nQ 1267 2451 1171 2336 \nQ 1088 2240 1088 2227 \nL 1088 448 \nQ 1088 243 1177 176 \nQ 1267 109 1523 96 \nL 1523 0 \nL 102 0 \nL 102 96 \nQ 371 102 460 195 \nQ 550 288 550 563 \nL 550 2150 \nQ 550 2387 499 2480 \nQ 448 2573 326 2573 \nQ 230 2573 122 2547 \nL 122 2656 \nQ 557 2778 1011 2944 \nL 1062 2925 \nL 1062 2451 \nL 1075 2451 \nQ 1363 2752 1584 2848 \nQ 1805 2944 2054 2944 \nQ 2560 2944 2733 2406 \nQ 3232 2944 3776 2944 \nQ 4518 2944 4518 1792 \nL 4518 493 \nQ 4518 282 4582 202 \nQ 4646 122 4794 109 \nL 4960 96 \nL 4960 0 \nz\n\" transform=\"scale(0.015625)\"/>\n      </defs>\n      <use xlink:href=\"#STIXGeneral-Italic-7a\" transform=\"translate(0 0.703125)\"/>\n      <use xlink:href=\"#STIXGeneral-Regular-2c\" transform=\"translate(38.899994 0.703125)\"/>\n      <use xlink:href=\"#STIXGeneral-Italic-68\" transform=\"translate(78.339975 0.703125)\"/>\n      <use xlink:href=\"#STIXGeneral-Regular-20\" transform=\"translate(128.33996 0.703125)\"/>\n      <use xlink:href=\"#STIXGeneral-Regular-5b\" transform=\"translate(153.339944 0.703125)\"/>\n      <use xlink:href=\"#STIXGeneral-Regular-6d\" transform=\"translate(186.639932 0.703125)\"/>\n      <use xlink:href=\"#STIXGeneral-Regular-5d\" transform=\"translate(264.43992 0.703125)\"/>\n     </g>\n    </g>\n   </g>\n   <g id=\"legend_1\">\n    <g id=\"patch_7\">\n     <path d=\"M 183.024 268.92 \nL 266.544 268.92 \nL 266.544 223.7895 \nL 183.024 223.7895 \nz\n\" style=\"fill: #ffffff; stroke: #000000; stroke-linejoin: miter\"/>\n    </g>\n    <g id=\"line2d_42\">\n     <path d=\"M 193.104 234.5895 \nL 213.264 234.5895 \n\" style=\"fill: none; stroke-dasharray: 6,0; stroke-dashoffset: 0; stroke: #ff0000; stroke-width: 1.5\"/>\n    </g>\n    <g id=\"text_18\">\n     <!-- $z$ [m] -->\n     <g transform=\"translate(229.104 239.6295) scale(0.144 -0.144)\">\n      <use xlink:href=\"#STIXGeneral-Italic-7a\" transform=\"translate(0 0.796875)\"/>\n      <use xlink:href=\"#STIXGeneral-Regular-20\" transform=\"translate(38.899994 0.796875)\"/>\n      <use xlink:href=\"#STIXGeneral-Regular-5b\" transform=\"translate(63.899979 0.796875)\"/>\n      <use xlink:href=\"#STIXGeneral-Regular-6d\" transform=\"translate(97.199966 0.796875)\"/>\n      <use xlink:href=\"#STIXGeneral-Regular-5d\" transform=\"translate(174.999954 0.796875)\"/>\n     </g>\n    </g>\n    <g id=\"line2d_43\">\n     <path d=\"M 193.104 254.99475 \nL 213.264 254.99475 \n\" style=\"fill: none; stroke-dasharray: 6,2; stroke-dashoffset: 0; stroke: #008000; stroke-width: 1.5\"/>\n    </g>\n    <g id=\"text_19\">\n     <!-- $h$ [m] -->\n     <g transform=\"translate(229.104 260.03475) scale(0.144 -0.144)\">\n      <use xlink:href=\"#STIXGeneral-Italic-68\" transform=\"translate(0 0.703125)\"/>\n      <use xlink:href=\"#STIXGeneral-Regular-20\" transform=\"translate(49.999985 0.703125)\"/>\n      <use xlink:href=\"#STIXGeneral-Regular-5b\" transform=\"translate(74.999969 0.703125)\"/>\n      <use xlink:href=\"#STIXGeneral-Regular-6d\" transform=\"translate(108.299957 0.703125)\"/>\n      <use xlink:href=\"#STIXGeneral-Regular-5d\" transform=\"translate(186.099945 0.703125)\"/>\n     </g>\n    </g>\n   </g>\n  </g>\n  <g id=\"axes_2\">\n   <g id=\"line2d_44\">\n    <path d=\"M 47.664 276.12 \nL 61.138595 267.432729 \nL 75.322378 258.022044 \nL 90.569946 247.636102 \nL 107.590486 235.768703 \nL 128.511568 220.895134 \nL 192.693189 175.055939 \nL 207.940757 164.557534 \nL 221.415351 155.545376 \nL 233.471568 147.74388 \nL 244.818595 140.667141 \nL 255.456432 134.29902 \nL 265.385081 128.614041 \nL 274.959135 123.390719 \nL 284.178595 118.620034 \nL 293.043459 114.289328 \nL 301.55373 110.382803 \nL 309.709405 106.882014 \nL 317.510486 103.766347 \nL 325.311568 100.887913 \nL 332.758054 98.369853 \nL 340.204541 96.083548 \nL 347.651027 94.036062 \nL 354.742919 92.314218 \nL 361.834811 90.82047 \nL 368.926703 89.559892 \nL 375.664 88.582611 \nL 382.401297 87.823747 \nL 389.138595 87.286714 \nL 395.875892 86.974605 \nL 401.904 86.888274 \nL 401.904 86.888274 \n\" clip-path=\"url(#pf6437c9f23)\" style=\"fill: none; stroke-dasharray: 6,0; stroke-dashoffset: 0; stroke: #0000ff; stroke-width: 1.5\"/>\n   </g>\n   <g id=\"patch_8\">\n    <path d=\"M 47.664 276.12 \nL 47.664 13.68 \n\" style=\"fill: none; stroke: #000000; stroke-linejoin: miter; stroke-linecap: square\"/>\n   </g>\n   <g id=\"patch_9\">\n    <path d=\"M 401.904 276.12 \nL 401.904 13.68 \n\" style=\"fill: none; stroke: #000000; stroke-linejoin: miter; stroke-linecap: square\"/>\n   </g>\n   <g id=\"patch_10\">\n    <path d=\"M 47.664 276.12 \nL 401.904 276.12 \n\" style=\"fill: none; stroke: #000000; stroke-linejoin: miter; stroke-linecap: square\"/>\n   </g>\n   <g id=\"patch_11\">\n    <path d=\"M 47.664 13.68 \nL 401.904 13.68 \n\" style=\"fill: none; stroke: #000000; stroke-linejoin: miter; stroke-linecap: square\"/>\n   </g>\n   <g id=\"matplotlib.axis_3\">\n    <g id=\"ytick_7\">\n     <g id=\"line2d_45\">\n      <defs>\n       <path id=\"mb97aec6472\" d=\"M 0 0 \nL -4 0 \n\" style=\"stroke: #000000; stroke-width: 0.5\"/>\n      </defs>\n      <g>\n       <use xlink:href=\"#mb97aec6472\" x=\"401.904\" y=\"276.12\" style=\"stroke: #000000; stroke-width: 0.5\"/>\n      </g>\n     </g>\n     <g id=\"text_20\">\n      <!-- 0.0 -->\n      <g transform=\"translate(405.904 279.47475) scale(0.144 -0.144)\">\n       <use xlink:href=\"#STIXGeneral-Regular-30\"/>\n       <use xlink:href=\"#STIXGeneral-Regular-2e\" transform=\"translate(49.999985 0)\"/>\n       <use xlink:href=\"#STIXGeneral-Regular-30\" transform=\"translate(74.999969 0)\"/>\n      </g>\n     </g>\n    </g>\n    <g id=\"ytick_8\">\n     <g id=\"line2d_46\">\n      <g>\n       <use xlink:href=\"#mb97aec6472\" x=\"401.904\" y=\"223.632\" style=\"stroke: #000000; stroke-width: 0.5\"/>\n      </g>\n     </g>\n     <g id=\"text_21\">\n      <!-- 0.2 -->\n      <g transform=\"translate(405.904 226.98675) scale(0.144 -0.144)\">\n       <use xlink:href=\"#STIXGeneral-Regular-30\"/>\n       <use xlink:href=\"#STIXGeneral-Regular-2e\" transform=\"translate(49.999985 0)\"/>\n       <use xlink:href=\"#STIXGeneral-Regular-32\" transform=\"translate(74.999969 0)\"/>\n      </g>\n     </g>\n    </g>\n    <g id=\"ytick_9\">\n     <g id=\"line2d_47\">\n      <g>\n       <use xlink:href=\"#mb97aec6472\" x=\"401.904\" y=\"171.144\" style=\"stroke: #000000; stroke-width: 0.5\"/>\n      </g>\n     </g>\n     <g id=\"text_22\">\n      <!-- 0.4 -->\n      <g transform=\"translate(405.904 174.49875) scale(0.144 -0.144)\">\n       <use xlink:href=\"#STIXGeneral-Regular-30\"/>\n       <use xlink:href=\"#STIXGeneral-Regular-2e\" transform=\"translate(49.999985 0)\"/>\n       <use xlink:href=\"#STIXGeneral-Regular-34\" transform=\"translate(74.999969 0)\"/>\n      </g>\n     </g>\n    </g>\n    <g id=\"ytick_10\">\n     <g id=\"line2d_48\">\n      <g>\n       <use xlink:href=\"#mb97aec6472\" x=\"401.904\" y=\"118.656\" style=\"stroke: #000000; stroke-width: 0.5\"/>\n      </g>\n     </g>\n     <g id=\"text_23\">\n      <!-- 0.6 -->\n      <g transform=\"translate(405.904 122.01075) scale(0.144 -0.144)\">\n       <use xlink:href=\"#STIXGeneral-Regular-30\"/>\n       <use xlink:href=\"#STIXGeneral-Regular-2e\" transform=\"translate(49.999985 0)\"/>\n       <use xlink:href=\"#STIXGeneral-Regular-36\" transform=\"translate(74.999969 0)\"/>\n      </g>\n     </g>\n    </g>\n    <g id=\"ytick_11\">\n     <g id=\"line2d_49\">\n      <g>\n       <use xlink:href=\"#mb97aec6472\" x=\"401.904\" y=\"66.168\" style=\"stroke: #000000; stroke-width: 0.5\"/>\n      </g>\n     </g>\n     <g id=\"text_24\">\n      <!-- 0.8 -->\n      <g transform=\"translate(405.904 69.52275) scale(0.144 -0.144)\">\n       <use xlink:href=\"#STIXGeneral-Regular-30\"/>\n       <use xlink:href=\"#STIXGeneral-Regular-2e\" transform=\"translate(49.999985 0)\"/>\n       <use xlink:href=\"#STIXGeneral-Regular-38\" transform=\"translate(74.999969 0)\"/>\n      </g>\n     </g>\n    </g>\n    <g id=\"ytick_12\">\n     <g id=\"line2d_50\">\n      <g>\n       <use xlink:href=\"#mb97aec6472\" x=\"401.904\" y=\"13.68\" style=\"stroke: #000000; stroke-width: 0.5\"/>\n      </g>\n     </g>\n     <g id=\"text_25\">\n      <!-- 1.0 -->\n      <g transform=\"translate(405.904 17.03475) scale(0.144 -0.144)\">\n       <defs>\n        <path id=\"STIXGeneral-Regular-31\" d=\"M 2522 0 \nL 755 0 \nL 755 96 \nQ 1107 115 1235 227 \nQ 1363 339 1363 608 \nL 1363 3482 \nQ 1363 3795 1171 3795 \nQ 1082 3795 883 3718 \nL 710 3654 \nL 710 3744 \nL 1856 4326 \nL 1914 4307 \nL 1914 486 \nQ 1914 275 2042 185 \nQ 2170 96 2522 96 \nL 2522 0 \nz\n\" transform=\"scale(0.015625)\"/>\n       </defs>\n       <use xlink:href=\"#STIXGeneral-Regular-31\"/>\n       <use xlink:href=\"#STIXGeneral-Regular-2e\" transform=\"translate(49.999985 0)\"/>\n       <use xlink:href=\"#STIXGeneral-Regular-30\" transform=\"translate(74.999969 0)\"/>\n      </g>\n     </g>\n    </g>\n    <g id=\"text_26\">\n     <!-- $E_\\mathrm{avail}^*$ [-] -->\n     <g style=\"fill: #0000ff\" transform=\"translate(442.184 171.06) rotate(-90) scale(0.16 -0.16)\">\n      <defs>\n       <path id=\"STIXGeneral-Italic-45\" d=\"M 4058 4179 \nL 3859 3194 \nL 3718 3206 \nQ 3738 3366 3738 3501 \nQ 3738 3789 3501 3878 \nQ 3264 3968 2509 3968 \nQ 2240 3968 2157 3939 \nQ 2074 3910 2042 3802 \nL 1619 2310 \nL 2118 2310 \nQ 2541 2310 2681 2412 \nQ 2822 2515 3008 2931 \nL 3123 2906 \nL 2688 1421 \nL 2560 1453 \nQ 2605 1651 2605 1786 \nQ 2605 1939 2560 1984 \nQ 2451 2080 2061 2080 \nL 1562 2080 \nL 1357 1363 \nQ 1126 550 1126 429 \nQ 1126 211 1632 211 \nQ 2458 211 2931 461 \nQ 3174 589 3533 1088 \nL 3635 1037 \nL 3238 0 \nL -6 0 \nL -6 102 \nQ 269 154 352 227 \nQ 435 301 512 576 \nL 1299 3405 \nQ 1370 3642 1370 3814 \nQ 1370 3942 1270 3996 \nQ 1171 4051 877 4077 \nL 877 4179 \nL 4058 4179 \nz\n\" transform=\"scale(0.015625)\"/>\n       <path id=\"STIXGeneral-Regular-2a\" d=\"M 1715 3014 \nL 1773 2976 \nQ 2010 2822 2387 2758 \nQ 2605 2726 2688 2665 \nQ 2771 2605 2771 2483 \nQ 2771 2374 2707 2304 \nQ 2643 2234 2541 2234 \nQ 2381 2234 2157 2515 \nQ 2010 2694 1715 2886 \nL 1664 2918 \nL 1664 2861 \nQ 1664 2502 1792 2157 \nQ 1850 1997 1850 1946 \nQ 1850 1850 1770 1773 \nQ 1690 1696 1594 1696 \nQ 1504 1696 1433 1766 \nQ 1363 1837 1363 1926 \nQ 1363 2016 1440 2227 \nQ 1542 2502 1542 2861 \nL 1542 2918 \nQ 1286 2758 1210 2688 \nQ 1133 2611 947 2400 \nQ 806 2240 672 2240 \nQ 563 2240 499 2304 \nQ 435 2368 435 2470 \nQ 435 2592 528 2656 \nQ 621 2720 838 2758 \nQ 1062 2803 1180 2848 \nQ 1299 2893 1498 3014 \nQ 1222 3181 877 3251 \nQ 640 3302 544 3366 \nQ 448 3430 448 3546 \nQ 448 3648 505 3715 \nQ 563 3782 659 3782 \nQ 787 3782 973 3578 \nQ 1242 3277 1542 3110 \nL 1542 3194 \nQ 1542 3456 1446 3776 \nQ 1376 3987 1376 4109 \nQ 1376 4198 1443 4262 \nQ 1510 4326 1606 4326 \nQ 1702 4326 1772 4259 \nQ 1843 4192 1843 4096 \nQ 1843 3994 1773 3795 \nQ 1664 3507 1664 3264 \nL 1664 3110 \nQ 1882 3238 2035 3379 \nQ 2067 3411 2153 3504 \nQ 2240 3597 2291 3648 \nQ 2342 3699 2409 3747 \nQ 2477 3795 2528 3795 \nQ 2637 3795 2701 3728 \nQ 2765 3661 2765 3552 \nQ 2765 3424 2691 3363 \nQ 2618 3302 2432 3277 \nQ 2074 3219 1715 3014 \nz\n\" transform=\"scale(0.015625)\"/>\n       <path id=\"STIXGeneral-Regular-61\" d=\"M 2829 422 \nL 2829 243 \nQ 2586 -64 2253 -64 \nQ 1888 -64 1843 403 \nL 1837 403 \nQ 1427 -64 909 -64 \nQ 608 -64 422 112 \nQ 237 288 237 602 \nQ 237 1050 685 1350 \nQ 992 1555 1837 1869 \nL 1837 2214 \nQ 1837 2502 1699 2646 \nQ 1562 2790 1338 2790 \nQ 1146 2790 1018 2697 \nQ 890 2605 890 2477 \nQ 890 2419 909 2348 \nQ 928 2278 928 2208 \nQ 928 2112 841 2029 \nQ 755 1946 634 1946 \nQ 525 1946 441 2029 \nQ 358 2112 358 2240 \nQ 358 2547 685 2752 \nQ 986 2944 1421 2944 \nQ 1939 2944 2176 2656 \nQ 2291 2522 2323 2384 \nQ 2355 2246 2355 1946 \nL 2355 723 \nQ 2355 301 2554 301 \nQ 2682 301 2829 422 \nz\nM 1837 813 \nL 1837 1715 \nQ 1248 1510 1018 1293 \nQ 800 1094 800 800 \nQ 800 557 921 432 \nQ 1043 307 1242 307 \nQ 1453 307 1613 410 \nQ 1747 506 1792 589 \nQ 1837 672 1837 813 \nz\n\" transform=\"scale(0.015625)\"/>\n       <path id=\"STIXGeneral-Regular-76\" d=\"M 3053 2880 \nL 3053 2784 \nQ 2906 2771 2835 2688 \nQ 2765 2605 2637 2285 \nL 1818 230 \nQ 1690 -90 1638 -90 \nQ 1587 -90 1523 77 \nQ 1510 96 1497 141 \nQ 1485 186 1472 211 \nL 704 2048 \nQ 499 2534 403 2652 \nQ 307 2771 122 2784 \nL 122 2880 \nL 1376 2880 \nL 1376 2784 \nQ 1210 2771 1146 2732 \nQ 1082 2694 1082 2611 \nQ 1082 2509 1139 2368 \nL 1792 730 \nL 2426 2387 \nQ 2464 2483 2464 2579 \nQ 2464 2758 2163 2784 \nL 2163 2880 \nL 3053 2880 \nz\n\" transform=\"scale(0.015625)\"/>\n       <path id=\"STIXGeneral-Regular-69\" d=\"M 1152 4045 \nQ 1152 3904 1056 3811 \nQ 960 3718 819 3718 \nQ 685 3718 592 3811 \nQ 499 3904 499 4045 \nQ 499 4179 595 4275 \nQ 691 4371 826 4371 \nQ 966 4371 1059 4275 \nQ 1152 4179 1152 4045 \nz\nM 1619 0 \nL 102 0 \nL 102 96 \nQ 435 115 521 211 \nQ 608 307 608 666 \nL 608 2118 \nQ 608 2342 563 2432 \nQ 518 2522 397 2522 \nQ 243 2522 128 2490 \nL 128 2592 \nL 1120 2944 \nL 1146 2918 \nL 1146 672 \nQ 1146 314 1226 218 \nQ 1306 122 1619 96 \nL 1619 0 \nz\n\" transform=\"scale(0.015625)\"/>\n       <path id=\"STIXGeneral-Regular-6c\" d=\"M 1645 0 \nL 134 0 \nL 134 96 \nQ 435 122 531 221 \nQ 627 320 627 589 \nL 627 3590 \nQ 627 3821 569 3910 \nQ 512 4000 358 4000 \nQ 224 4000 122 3987 \nL 122 4090 \nQ 730 4237 1133 4371 \nL 1165 4346 \nL 1165 557 \nQ 1165 288 1254 201 \nQ 1344 115 1645 96 \nL 1645 0 \nz\n\" transform=\"scale(0.015625)\"/>\n      </defs>\n      <use xlink:href=\"#STIXGeneral-Italic-45\" transform=\"translate(0 0.409375)\"/>\n      <use xlink:href=\"#STIXGeneral-Regular-2a\" transform=\"translate(81.83377 35.684375) scale(0.7)\"/>\n      <use xlink:href=\"#STIXGeneral-Regular-61\" transform=\"translate(61.099991 -26.046875) scale(0.7)\"/>\n      <use xlink:href=\"#STIXGeneral-Regular-76\" transform=\"translate(92.179987 -26.046875) scale(0.7)\"/>\n      <use xlink:href=\"#STIXGeneral-Regular-61\" transform=\"translate(127.179976 -26.046875) scale(0.7)\"/>\n      <use xlink:href=\"#STIXGeneral-Regular-69\" transform=\"translate(158.259972 -26.046875) scale(0.7)\"/>\n      <use xlink:href=\"#STIXGeneral-Regular-6c\" transform=\"translate(177.719963 -26.046875) scale(0.7)\"/>\n      <use xlink:href=\"#STIXGeneral-Regular-20\" transform=\"translate(201.58933 0.409375)\"/>\n      <use xlink:href=\"#STIXGeneral-Regular-5b\" transform=\"translate(226.589314 0.409375)\"/>\n      <use xlink:href=\"#STIXGeneral-Regular-2d\" transform=\"translate(259.889302 0.409375)\"/>\n      <use xlink:href=\"#STIXGeneral-Regular-5d\" transform=\"translate(293.18929 0.409375)\"/>\n     </g>\n    </g>\n   </g>\n  </g>\n </g>\n <defs>\n  <clipPath id=\"pf6437c9f23\">\n   <rect x=\"47.664\" y=\"13.68\" width=\"354.24\" height=\"262.44\"/>\n  </clipPath>\n </defs>\n</svg>\n"
          },
          "metadata": {}
        }
      ]
    },
    {
      "cell_type": "code",
      "source": [],
      "metadata": {
        "id": "jLkP39kGwqPH"
      },
      "execution_count": 24,
      "outputs": []
    }
  ]
}