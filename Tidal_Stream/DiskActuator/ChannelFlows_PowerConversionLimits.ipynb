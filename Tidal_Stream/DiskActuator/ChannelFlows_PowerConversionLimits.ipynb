{
  "nbformat": 4,
  "nbformat_minor": 0,
  "metadata": {
    "colab": {
      "provenance": [],
      "authorship_tag": "ABX9TyNZcV53wD24xL7uabr0Me9w",
      "include_colab_link": true
    },
    "kernelspec": {
      "name": "python3",
      "display_name": "Python 3"
    },
    "language_info": {
      "name": "python"
    }
  },
  "cells": [
    {
      "cell_type": "markdown",
      "metadata": {
        "id": "view-in-github",
        "colab_type": "text"
      },
      "source": [
        "<a href=\"https://colab.research.google.com/github/joaochenriques/IST---Marine-Currents-and-Tidal-Energy/blob/main/Tidal_Stream/DiskActuator/ChannelFlows_PowerConversionLimits.ipynb\" target=\"_parent\"><img src=\"https://colab.research.google.com/assets/colab-badge.svg\" alt=\"Open In Colab\"/></a>"
      ]
    },
    {
      "cell_type": "code",
      "execution_count": null,
      "metadata": {
        "id": "i94emFDTEbW0"
      },
      "outputs": [],
      "source": [
        "import numpy as np\n",
        "from scipy.optimize import root_scalar\n",
        "import subprocess\n",
        "import pathlib\n",
        "\n",
        "def cmdcall( cmd, verbose = False ):\n",
        "    output = subprocess.getoutput( cmd )\n",
        "    if verbose: print(output)\n",
        "\n",
        "if not pathlib.Path(\"mpl_utils.py\").exists():\n",
        "  cmdcall( \"curl -O https://raw.githubusercontent.com/joaochenriques/ipynb_libs/main/mpl_utils.py\" )\n",
        "\n",
        "import matplotlib.pyplot as mpl\n",
        "import mpl_utils as mut\n",
        "mut.config_plots()\n",
        "\n",
        "from matplotlib_inline.backend_inline import set_matplotlib_formats\n",
        "set_matplotlib_formats('svg')\n",
        "\n",
        "mpl.rcParams[\"figure.figsize\"] = (12.5,3)"
      ]
    },
    {
      "cell_type": "markdown",
      "source": [
        "<img src=\"https://raw.githubusercontent.com/joaochenriques/IST_MCTE/main/ChannelFlows/DiskActuator/Figures/sub_domains.svg\" width=\"500px\" style=\"display:inline\">"
      ],
      "metadata": {
        "id": "3UIXlyWYEflY"
      }
    },
    {
      "cell_type": "code",
      "source": [
        "fig, (ax1) = mpl.subplots(1,1 )\n",
        "fig.subplots_adjust( wspace = .22 )\n",
        "\n",
        "C_T_lst = []\n",
        "C_P_lst = []\n",
        "\n",
        "for alpha in np.linspace( 1.001, 3, 100 ):\n",
        "\n",
        "    u4b = alpha * u1\n",
        "    h4 = E1 - u4b**2 / ( 2 * gr )\n",
        "\n",
        "    kc = u1**2 * h1 + 0.5 * gr * ( h1**2 - h4**2 )\n",
        "    kb = 0.5 * B * h1\n",
        "\n",
        "    k1 = q - h4 * u4b\n",
        "\n",
        "    u4t = ( k1 + np.sqrt( k1**2 + 4*kb*( u4b*( q + kb*u4b) - kc ) ) ) / ( 2 * kb )\n",
        "    h4b = ( q - h4 * u4t ) / ( u4b - u4t )\n",
        "    h4t = h4 - h4b\n",
        "\n",
        "    u2t = u4t * h4t / ( h1 * B )\n",
        "\n",
        "    C_T = ( u4b**2 - u4t**2 ) / u1**2\n",
        "    C_P = C_T * u2t / u1\n",
        "\n",
        "    # print( f'h1 = {h1:.5f}, h4 = {h4:.5f}, h4b = {h4b:.5f}, h4t = {h4t:.5f}, '\\\n",
        "    #       f'u1 = {u1:.5f}, u4t = {u4t:.5f}, u4b = {u4b:.5f}, ' \\\n",
        "    #       f'CT = {C_T:.5f}, CP = {C_P:.5f}' )\n",
        "\n",
        "    if C_P <= 0.0: break\n",
        "\n",
        "    C_P_lst.append( C_P )\n",
        "    C_T_lst.append( C_T )\n",
        "\n",
        "ax1.set_title( \"B=%.2f\" % B )\n",
        "ax1.plot( C_T_lst, C_P_lst, label=\"$\\mathrm{Fr}_1=%.2f$\" % Fr1 )\n",
        "ax1.set_ylabel( \"$C_P$\" )\n",
        "ax1.grid()\n",
        "ax1.legend(loc=\"lower center\");\n",
        "#ax1.set_xticklabels( [] )\n",
        "ax1.set_xlabel( \"$C_T$\" )\n",
        "\n",
        "mpl.savefig('ChannelFlowLimits_Ex.pdf', bbox_inches='tight', pad_inches=0.02);"
      ],
      "metadata": {
        "id": "kmLaI9FLEhaW"
      },
      "execution_count": null,
      "outputs": []
    },
    {
      "cell_type": "code",
      "source": [
        "def CardanoRoots( aa, bb ):\n",
        "  # Cardano algorithm to solve our polynomial, see:\n",
        "  # https://www.shsu.edu/kws006/professional/Concepts_files/SolvingCubics.pdf\n",
        "  P = -2.0*aa\n",
        "  Q = -2.0*bb\n",
        "  Δ = (P/3.0)**3 + (Q/2)**2\n",
        "  if Δ < 0.0: Δ = Δ + 0J\n",
        "  β = ( -Q/2.0 - np.sqrt(Δ) )**(1.0/3.0)\n",
        "  α = P/(3.0*β)\n",
        "  ω = ( -1.0 + np.sqrt(3.0)*1J) / 2.0\n",
        "\n",
        "  x1 = α - β\n",
        "  x2 = (α*ω - β)*ω\n",
        "  x3 = (α - β*ω)*ω\n",
        "\n",
        "  if np.imag(x1) < 1E-15: x1 = np.real( x1 )\n",
        "  if np.imag(x2) < 1E-15: x2 = np.real( x2 )\n",
        "  if np.imag(x3) < 1E-15: x3 = np.real( x3 )\n",
        "\n",
        "  # applies only for this solution\n",
        "  assert( np.imag( x1 ) == 0 )\n",
        "  assert( np.imag( x2 ) == 0 )\n",
        "  assert( np.imag( x3 ) == 0 )\n",
        "  assert( x1 <= 0.0 )\n",
        "  assert( x2 <= x3 )\n",
        "\n",
        "  return (x2, x3)"
      ],
      "metadata": {
        "id": "1wU-VLqxEpGa"
      },
      "execution_count": null,
      "outputs": []
    }
  ]
}