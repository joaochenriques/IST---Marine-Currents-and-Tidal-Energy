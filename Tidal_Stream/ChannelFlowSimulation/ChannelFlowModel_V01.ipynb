{
  "nbformat": 4,
  "nbformat_minor": 0,
  "metadata": {
    "colab": {
      "provenance": [],
      "include_colab_link": true
    },
    "kernelspec": {
      "name": "python3",
      "display_name": "Python 3"
    },
    "language_info": {
      "name": "python"
    }
  },
  "cells": [
    {
      "cell_type": "markdown",
      "metadata": {
        "id": "view-in-github",
        "colab_type": "text"
      },
      "source": [
        "<a href=\"https://colab.research.google.com/github/joaochenriques/IST---Marine-Currents-and-Tidal-Energy/blob/main/Tidal_Stream/ChannelFlowSimulation/ChannelFlowModel_V01.ipynb\" target=\"_parent\"><img src=\"https://colab.research.google.com/assets/colab-badge.svg\" alt=\"Open In Colab\"/></a>"
      ]
    },
    {
      "cell_type": "code",
      "metadata": {
        "id": "TAR1eawzwEwu"
      },
      "source": [
        "import matplotlib.pyplot as mpl\n",
        "import matplotlib.ticker as plticker\n",
        "import numpy as np\n",
        "from dataclasses import dataclass\n",
        "from scipy.optimize import minimize_scalar\n",
        "import pathlib, subprocess, os"
      ],
      "execution_count": 1,
      "outputs": []
    },
    {
      "cell_type": "code",
      "source": [
        "def cmdcall( cmd ):\n",
        "    output = subprocess.getoutput( cmd )\n",
        "    print(output)"
      ],
      "metadata": {
        "id": "pxrgS1PiJV5F"
      },
      "execution_count": 2,
      "outputs": []
    },
    {
      "cell_type": "code",
      "metadata": {
        "id": "BVVNySUMxm2g",
        "outputId": "9033fdc7-d424-4dd7-b818-7a110695e143",
        "colab": {
          "base_uri": "https://localhost:8080/"
        }
      },
      "source": [
        "if not pathlib.Path(\"mpl_utils.py\").exists():\n",
        "  cmdcall( \"curl -O https://raw.githubusercontent.com/joaochenriques/ipynb_libs/main/mpl_utils.py\" )\n",
        "\n",
        "import mpl_utils as mut\n",
        "mut.config_plots()\n",
        "\n",
        "from matplotlib_inline.backend_inline import set_matplotlib_formats\n",
        "set_matplotlib_formats('svg')"
      ],
      "execution_count": 3,
      "outputs": [
        {
          "output_type": "stream",
          "name": "stdout",
          "text": [
            "  % Total    % Received % Xferd  Average Speed   Time    Time     Time  Current\n",
            "                                 Dload  Upload   Total   Spent    Left  Speed\n",
            "\n",
            "  0     0    0     0    0     0      0      0 --:--:-- --:--:-- --:--:--     0\n",
            "100  3921  100  3921    0     0  12168      0 --:--:-- --:--:-- --:--:-- 12177\n"
          ]
        }
      ]
    },
    {
      "cell_type": "code",
      "source": [
        "try:\n",
        "    from tqdm.notebook import tqdm\n",
        "except ModuleNotFoundError:\n",
        "    cmdcall( 'pip install tdqm' )\n",
        "    from tqdm.notebook import tqdm\n",
        "\n",
        "from IPython.display import Markdown, display\n",
        "def printmd(string):\n",
        "    display( Markdown(string) )"
      ],
      "metadata": {
        "id": "qMJDZa1N-kXI"
      },
      "execution_count": 4,
      "outputs": []
    },
    {
      "cell_type": "markdown",
      "metadata": {
        "id": "At2hv9e2AQB0"
      },
      "source": [
        "# **Setup the problem**\n",
        "\n",
        "The blockage factor per turbine row $i$ is\n",
        "\n",
        "$$B_i=\\displaystyle \\frac{\\left( n_\\text{T} A_\\text{T}\\right)_i}{S_i}$$\n",
        "\n",
        "where $\\left( n_\\text{T} A_\\text{T}\\right)_i$ is the area of all turbines of row $i$, and $S_i$ is the cross-sectional area of the channel at section $i$."
      ]
    },
    {
      "cell_type": "code",
      "metadata": {
        "id": "wBK45n_6v8Z0",
        "outputId": "23a1d260-d0d0-445d-dd8e-d748fa979c2a",
        "colab": {
          "base_uri": "https://localhost:8080/",
          "height": 157
        }
      },
      "source": [
        "twopi = 2*np.pi\n",
        "\n",
        "@dataclass\n",
        "class Config:\n",
        "    ρw:float = 1025   # [kg/m³] salt water density\n",
        "    g:float   = 9.8   # [m/s²]  gravity aceleration\n",
        "\n",
        "    T:float = 12.0*3600.0 + 25.2*60.0 # [s] tide period\n",
        "\n",
        "    L:float = 20000   # [m] channel length\n",
        "    h:float = 30      # [m] channel depth\n",
        "    b:float = 1000    # [m] channel width\n",
        "    a:float = 2.0     # [m] tidal amplitude\n",
        "\n",
        "    Cd:float = 0.005  # [-] friction coefficient\n",
        "\n",
        "    B_per_row: tuple = ( 0.01, ) # [-] Blockage factor per turbine row\n",
        "\n",
        "    #===========================================================================\n",
        "    def __init__( self ):\n",
        "        # [m²] mean channel area\n",
        "        self.Sm = self.h * self.b\n",
        "\n",
        "        # [m] mean wetted perimeter\n",
        "        self.lm = 2 * self.h + self.b\n",
        "\n",
        "        # [rad/s] tidal frequency\n",
        "        self.ω = twopi / self.T\n",
        "\n",
        "        # [-] frictionless channel volumetric flow rate\n",
        "        self.Q0 = self.g * self.a * self.Sm / ( self.ω * self.L )\n",
        "\n",
        "        self.f  = 2 * self.Cd   # [-] friction coefficient used in the model is twice the value\n",
        "                           #     usual used in tidal (non standard model)\n",
        "\n",
        "        self.Fr_0 = self.Q0 / ( self.Sm * np.sqrt( self.g * self.h ) )\n",
        "\n",
        "        self.λ_P = self.ρw * self.Q0**3 / ( 2 * self.Sm**2 )\n",
        "        self.λ_E = self.λ_P / self.ω\n",
        "\n",
        "        self.λ_f_star = self.Q0 * self.lm * self.f / ( 2 * self.ω * self.Sm**2 )\n",
        "        self.λ_T_star = self.Q0 / ( 2 * self.ω * self.L * self.Sm )\n",
        "\n",
        "        printmd( f\"$\\mathrm{{Fr}}_0 = {self.Fr_0:.3f}$\" )\n",
        "        printmd( f\"$\\lambda_\\mathrm{{P}} = {self.λ_P:.3E}$\" )\n",
        "        printmd( f\"$\\lambda_\\mathrm{{E}} = {self.λ_E:.3E}$\" )\n",
        "        printmd( f\"$\\lambda_\\mathrm{{f}}^* = {self.λ_f_star:.3f}$\" )\n",
        "        printmd( f\"$\\lambda_\\mathrm{{T}}^* = {self.λ_T_star:.3f}$\" )\n",
        "\n",
        "cfg = Config()"
      ],
      "execution_count": 9,
      "outputs": [
        {
          "output_type": "display_data",
          "data": {
            "text/plain": [
              "<IPython.core.display.Markdown object>"
            ],
            "text/markdown": "$\\mathrm{Fr}_0 = 0.407$"
          },
          "metadata": {}
        },
        {
          "output_type": "display_data",
          "data": {
            "text/plain": [
              "<IPython.core.display.Markdown object>"
            ],
            "text/markdown": "$\\lambda_\\mathrm{P} = 5.215E+09$"
          },
          "metadata": {}
        },
        {
          "output_type": "display_data",
          "data": {
            "text/plain": [
              "<IPython.core.display.Markdown object>"
            ],
            "text/markdown": "$\\lambda_\\mathrm{E} = 3.711E+13$"
          },
          "metadata": {}
        },
        {
          "output_type": "display_data",
          "data": {
            "text/plain": [
              "<IPython.core.display.Markdown object>"
            ],
            "text/markdown": "$\\lambda_\\mathrm{f}^* = 8.767$"
          },
          "metadata": {}
        },
        {
          "output_type": "display_data",
          "data": {
            "text/plain": [
              "<IPython.core.display.Markdown object>"
            ],
            "text/markdown": "$\\lambda_\\mathrm{T}^* = 1.241$"
          },
          "metadata": {}
        }
      ]
    },
    {
      "cell_type": "code",
      "source": [
        "def local_CT_and_CP( u4b, u1, h1, B ):\n",
        "\n",
        "    gr = 9.8\n",
        "    E1 = h1 + u1**2 / ( 2 * gr )\n",
        "    h4 = E1 - u4b**2 / ( 2 * gr )\n",
        "\n",
        "    kc = u1**2 * h1 + 0.5 * gr * ( h1**2 - h4**2 )\n",
        "    kb = 0.5 * B * h1\n",
        "\n",
        "    q = u1 * h1\n",
        "    k1 = q - h4 * u4b\n",
        "\n",
        "    u4t = ( k1 + np.sqrt( k1**2 + 4*kb*( u4b*( q + kb*u4b) - kc ) ) ) / ( 2 * kb )\n",
        "    h4b = ( q - h4 * u4t ) / ( u4b - u4t )\n",
        "    h4t = h4 - h4b\n",
        "\n",
        "    u2t = u4t * h4t / ( h1 * B )\n",
        "\n",
        "    C_T = ( u4b**2 - u4t**2 ) / u1**2\n",
        "    C_P = C_T * u2t / u1\n",
        "\n",
        "    return C_T, C_P\n",
        "\n",
        "\n",
        "def find_minus_CP( u4b, u1, h1, B ):\n",
        "    # function created to discard the C_T when calling \"local_CT_and_CP\"\n",
        "    C_T, C_P = local_CT_and_CP( u4b, u1, h1, B )\n",
        "\n",
        "    return -C_P # Minus C_P to allow minimization\n",
        "\n",
        "def compute_BCT_BCP( Fr_0, B, Q_star ):\n",
        "\n",
        "    Fr1 = np.abs( Fr_0 * Q_star )\n",
        "    h1 = cfg.h\n",
        "    u1 = Fr1 * np.sqrt( cfg.g * h1 )\n",
        "\n",
        "    if u1 < 1E-3:\n",
        "        return 0.0, 0.0, 0.0 # all zeros\n",
        "\n",
        "    # find the optimal C_P for the channel conditions\n",
        "    res = minimize_scalar( find_minus_CP, args=(u1, h1, B), bounds=[u1, 2*u1],\n",
        "                            method='bounded',\n",
        "                            options={ 'xatol': 1e-08, 'maxiter': 500, 'disp': 1 } )\n",
        "    u4b = res.x # optimal value\n",
        "\n",
        "    C_T, C_P = local_CT_and_CP( u4b, u1, h1, B )\n",
        "\n",
        "    return B*C_T, B*C_P, Fr4b"
      ],
      "metadata": {
        "id": "2OV7TP8UTByf"
      },
      "execution_count": 38,
      "outputs": []
    },
    {
      "cell_type": "markdown",
      "metadata": {
        "id": "lskDlpLdwPtY"
      },
      "source": [
        "# **Solution of the ODE**\n",
        "\n",
        "$\\displaystyle \\frac{dQ^*}{dt^*}=\\cos(t^*) - (\\lambda_\\text{f}^*+ \\lambda_\\text{T}^* BC_\\text{T}) \\, Q^* \\, |Q^*|$\n",
        "\n",
        "$\\displaystyle \\frac{d E_\\text{T}^*}{dt^*}= BC_\\text{P} \\, |{Q^*}^3|$\n",
        "\n",
        "where $B$, $\\lambda_\\text{f}^*$ and $\\lambda_\\text{T}^*$ are constants, and $C_\\text{T}$ and $C_\\text{P}$ are computed as a function of the local Froude number.\n",
        "\n",
        "\n",
        "This system can be writen as\n",
        "\n",
        "$$\\dfrac{d \\mathbf{y}^*}{dt^*} = \\mathbf{f}^*\\!\\!\\left( \\mathbf{y}^*, t^* \\right),$$\n",
        "\n",
        "with\n",
        "\n",
        "$$\\mathbf{y} =\n",
        "\\begin{pmatrix}\n",
        "Q^*\\\\\n",
        "E_\\text{T}^*\n",
        "\\end{pmatrix}\n",
        "\\tag{Eq. 1}\n",
        "$$\n",
        "\n",
        "and\n",
        "\n",
        "$$\n",
        "\\tag{Eq. 2}\n",
        "\\mathbf{f}^* =\n",
        "\\begin{pmatrix}\n",
        "\\cos(t^*) - (\\lambda_\\text{f}^*+BC_T \\lambda_\\text{T}^*) \\, Q^* |Q^*|\\\\[4pt]\n",
        "BC_P \\, |{Q^*}^3|\n",
        "\\end{pmatrix}\n",
        "$$\n",
        "\n",
        "We adopt a first order solution of the type\n",
        "\n",
        "$$\\dfrac{\\mathbf{y}^*(t_n^*+\\Delta t^*)-\\mathbf{y}^*(t_n^*)}{\\Delta t^*}\n",
        "= \\mathbf{f}^*\\bigg( t_n^*, \\mathbf{y}^*\\left(t_n^*\\right) \\bigg)$$\n",
        "\n",
        "resulting\n",
        "\n",
        "$$\\mathbf{y}^*_{n+1} = \\mathbf{y}^*_n + \\Delta t^* \\, \\mathbf{f}^*\\!\\!\\left( t^*_n,\n",
        "\\mathbf{y}^*_n  \\right)\n",
        "\\tag{Eq. 3}\n",
        "$$\n",
        "\n",
        "where\n",
        "\n",
        "$$\\mathbf{y}^*_{n}=\\mathbf{y}^*(t_n^*)$$\n",
        "\n",
        "$$\\mathbf{y}^*_{n+1}=\\mathbf{y}^*(t_n^*+\\Delta t^*)$$\n"
      ]
    },
    {
      "cell_type": "markdown",
      "metadata": {
        "id": "d102bCecAXK1"
      },
      "source": [
        "# Define RHS of the ODE, see Eq. (2)"
      ]
    },
    {
      "cell_type": "code",
      "metadata": {
        "id": "leRoJRT47OPf"
      },
      "source": [
        "def f_star( ys, ts, λ_f_star, λ_T_star, Fr_0, B_per_row ):\n",
        "    ( Q_star, E_star ) = ys\n",
        "\n",
        "    BC_T_rows = np.zeros( len( B_per_row ) )\n",
        "    BC_P_rows = np.zeros( len( B_per_row ) )\n",
        "\n",
        "    BC_T_j = BC_P_j = B_0 = np.nan\n",
        "\n",
        "    for j, B in enumerate( B_per_row ):\n",
        "\n",
        "        # do not repeat the computations if B is equal to the previous iteration\n",
        "        if B_0 != B:\n",
        "            BC_T_j, BC_P_j, Fr4b = compute_BCT_BCP( Fr_0, B, Q_star )\n",
        "            B_0 = B\n",
        "\n",
        "        BC_T_rows[j] = BC_T_j\n",
        "        BC_P_rows[j] = BC_P_j\n",
        "\n",
        "    return np.array(\n",
        "              ( np.cos( ts ) - ( λ_f_star + np.sum( BC_T_rows ) * λ_T_star ) * Q_star * np.abs( Q_star ),\n",
        "                np.sum(BC_P_rows) * np.abs( Q_star )**3 )\n",
        "           )"
      ],
      "execution_count": 39,
      "outputs": []
    },
    {
      "cell_type": "markdown",
      "metadata": {
        "id": "aofgQNyoAizq"
      },
      "source": [
        "# **Frictionless solution**"
      ]
    },
    {
      "cell_type": "code",
      "source": [
        "periods = 4\n",
        "ppp = 100 # points per period\n",
        "num =  int( ppp * periods )\n",
        "\n",
        "# stores time vector\n",
        "ts_vec = np.linspace( 0, 2 * np.pi * periods, num )\n",
        "Delta_ts = ts_vec[1] - ts_vec[0]\n",
        "\n",
        "# vector that stores the lossless solution time series\n",
        "ys_lossless_vec = np.zeros( ( num, 2 ) )\n",
        "\n",
        "# solution of (Eq. 3) without \"friction\" term\n",
        "for i, ts in enumerate( ts_vec[1:] ):\n",
        "    ys_lossless_vec[i+1] = ys_lossless_vec[i] + Delta_ts * f_star( ys_lossless_vec[i], ts, 0, 0, 0, [0.0] )"
      ],
      "metadata": {
        "id": "U0592wqSfZBv"
      },
      "execution_count": 40,
      "outputs": []
    },
    {
      "cell_type": "markdown",
      "source": [
        "# **Solution with channel bed friction and turbines thrust**"
      ],
      "metadata": {
        "id": "F8O6jqG5_pMB"
      }
    },
    {
      "cell_type": "code",
      "metadata": {
        "id": "r81VXhB8Qx3M",
        "outputId": "4c9e0aaf-f812-4a95-ad06-4775754dda07",
        "colab": {
          "base_uri": "https://localhost:8080/",
          "height": 50
        }
      },
      "source": [
        "# vector that stores the solution time series\n",
        "ys_vec = np.zeros( ( num, 2 ) )\n",
        "\n",
        "# solution of (Eq. 3) with \"friction\" terms\n",
        "for i, ts in enumerate( ts_vec[1:] ):\n",
        "\n",
        "  ys_vec[i+1] = ys_vec[i] + \\\n",
        "                    Delta_ts * f_star( ys_vec[i], ts, \\\n",
        "                                        cfg.λ_f_star, cfg.λ_T_star, cfg.Fr_0,\\\n",
        "                                        cfg.B_per_row )\n",
        "\n",
        "E_star = ys_vec[:,1]\n",
        "E_star_period = E_star[-1] - E_star[-ppp] # dimensionless energy in a tidal period\n",
        "E_farm = E_star_period * cfg.λ_E          # convert to Joule\n",
        "P_farm = E_farm / cfg.T * 1E-6            # Mean power converted to MW\n",
        "\n",
        "printmd( rf\"$P_\\text{{turb}}^\\text{{farm}} = {P_farm:.2f}\\,\\text{{MW}}$\" )"
      ],
      "execution_count": 41,
      "outputs": [
        {
          "output_type": "display_data",
          "data": {
            "text/plain": [
              "<IPython.core.display.Markdown object>"
            ],
            "text/markdown": "$P_\\text{turb}^\\text{farm} = 0.59\\,\\text{MW}$"
          },
          "metadata": {}
        }
      ]
    },
    {
      "cell_type": "code",
      "source": [
        "fig, (ax1, ax2) = mpl.subplots(1,2, figsize=(12, 4.5) )\n",
        "fig.subplots_adjust( wspace = 0.25 )\n",
        "\n",
        "n_rows = len( cfg.B_per_row )\n",
        "\n",
        "Q_star_frictionless = ys_lossless_vec[:,0]\n",
        "Q_star = ys_vec[:,0]\n",
        "E_star = ys_vec[:,1]\n",
        "\n",
        "# left figure\n",
        "ax1.plot( ts_vec/twopi, Q_star, label=\"$n_\\mathrm{rows}=%i$\" % (n_rows) )\n",
        "ax1.plot( ts_vec/twopi, Q_star_frictionless, label=\"frictionless\" )\n",
        "ax1.grid()\n",
        "ax1.set_title( \"$B_i = $\" + str( cfg.B_per_row ) )\n",
        "ax1.set_xlim( ( 0, 4 ) )\n",
        "ax1.set_ylim( ( -1.1, 1.1 ) )\n",
        "ax1.set_xlabel( r'$t^*\\!/\\,(2\\pi)$ [-]')\n",
        "ax1.set_ylabel( '$Q^*$ [-]')\n",
        "ax1.text(-0.17, 1.05, 'a)', transform=ax1.transAxes, size=16, weight='semibold')\n",
        "ax1.legend( loc='upper left', fontsize=12, handlelength=2.9,labelspacing=0.25)\n",
        "\n",
        "# right figure\n",
        "ax2.plot( ts_vec/twopi, E_star )\n",
        "ax2.grid()\n",
        "ax2.set_title( \"$B_i = %s$\" % str( cfg.B_per_row ) )\n",
        "ax2.set_xlim( ( 0, 4 ) )\n",
        "ax2.set_xlabel( r'$t^*\\!/\\,(2\\pi)$ [-]' )\n",
        "ax2.set_ylabel( r'$E_\\mathrm{T}^*$ [-]' )\n",
        "ax2.text(-0.17, 1.05, 'b)', transform=ax2.transAxes, size=16, weight='semibold');\n",
        "\n",
        "mpl.savefig( 'Friction_model.pdf', bbox_inches='tight', pad_inches=0.02);"
      ],
      "metadata": {
        "id": "WWBZpir1GWHI",
        "outputId": "2aa79a4c-3f96-4ed7-f3d2-f311fdbdd241",
        "colab": {
          "base_uri": "https://localhost:8080/",
          "height": 473
        }
      },
      "execution_count": 42,
      "outputs": [
        {
          "output_type": "display_data",
          "data": {
            "text/plain": [
              "<Figure size 960x360 with 2 Axes>"
            ],
            "image/svg+xml": "<?xml version=\"1.0\" encoding=\"utf-8\" standalone=\"no\"?>\n<!DOCTYPE svg PUBLIC \"-//W3C//DTD SVG 1.1//EN\"\n  \"http://www.w3.org/Graphics/SVG/1.1/DTD/svg11.dtd\">\n<svg xmlns:xlink=\"http://www.w3.org/1999/xlink\" width=\"785.4096pt\" height=\"338.897pt\" viewBox=\"0 0 785.4096 338.897\" xmlns=\"http://www.w3.org/2000/svg\" version=\"1.1\">\n <metadata>\n  <rdf:RDF xmlns:dc=\"http://purl.org/dc/elements/1.1/\" xmlns:cc=\"http://creativecommons.org/ns#\" xmlns:rdf=\"http://www.w3.org/1999/02/22-rdf-syntax-ns#\">\n   <cc:Work>\n    <dc:type rdf:resource=\"http://purl.org/dc/dcmitype/StillImage\"/>\n    <dc:date>2025-05-22T10:45:56.015986</dc:date>\n    <dc:format>image/svg+xml</dc:format>\n    <dc:creator>\n     <cc:Agent>\n      <dc:title>Matplotlib v3.10.0, https://matplotlib.org/</dc:title>\n     </cc:Agent>\n    </dc:creator>\n   </cc:Work>\n  </rdf:RDF>\n </metadata>\n <defs>\n  <style type=\"text/css\">*{stroke-linejoin: round; stroke-linecap: butt}</style>\n </defs>\n <g id=\"figure_1\">\n  <g id=\"patch_1\">\n   <path d=\"M 0 338.897 \nL 785.4096 338.897 \nL 785.4096 0 \nL 0 0 \nz\n\" style=\"fill: #ffffff\"/>\n  </g>\n  <g id=\"axes_1\">\n   <g id=\"patch_2\">\n    <path d=\"M 60.7296 293.577 \nL 375.6096 293.577 \nL 375.6096 31.137 \nL 60.7296 31.137 \nz\n\" style=\"fill: #ffffff\"/>\n   </g>\n   <g id=\"line2d_1\">\n    <path d=\"M 60.7296 162.357 \nL 62.307946 147.664026 \nL 63.097119 141.284448 \nL 63.886292 136.066021 \nL 64.675465 132.125654 \nL 65.464638 129.378373 \nL 66.253811 127.624449 \nL 67.042983 126.63637 \nL 67.832156 126.212418 \nL 68.621329 126.196274 \nL 69.410502 126.476203 \nL 70.199675 126.976244 \nL 71.778021 128.454434 \nL 73.356367 130.410777 \nL 74.934713 132.761646 \nL 76.513059 135.484468 \nL 78.091405 138.588348 \nL 79.66975 142.105671 \nL 81.248096 146.09471 \nL 82.826442 150.651316 \nL 84.404788 155.933743 \nL 85.983134 162.213316 \nL 87.56148 169.870519 \nL 89.928998 182.251755 \nL 91.507344 189.169404 \nL 92.296517 191.943656 \nL 93.08569 194.256113 \nL 93.874863 196.147712 \nL 94.664036 197.675329 \nL 95.453209 198.898534 \nL 96.242382 199.871462 \nL 97.031555 200.639167 \nL 97.820728 201.236984 \nL 99.399074 202.022169 \nL 100.97742 202.363645 \nL 102.555765 202.330814 \nL 104.134111 201.958245 \nL 105.712457 201.263325 \nL 107.290803 200.254743 \nL 108.869149 198.936188 \nL 110.447495 197.307707 \nL 112.025841 195.365845 \nL 113.604186 193.103 \nL 115.182532 190.506047 \nL 116.760878 187.554005 \nL 118.339224 184.214237 \nL 119.91757 180.436149 \nL 121.495916 176.140375 \nL 123.074262 171.199254 \nL 124.652608 165.399343 \nL 126.230953 158.364294 \nL 130.176818 138.359542 \nL 130.965991 135.172758 \nL 131.755164 132.457294 \nL 132.544337 130.199979 \nL 133.33351 128.357007 \nL 134.122683 126.870538 \nL 134.911856 125.681336 \nL 135.701029 124.73627 \nL 136.490202 123.991505 \nL 137.279374 123.412867 \nL 138.85772 122.65848 \nL 140.436066 122.341932 \nL 142.014412 122.396763 \nL 143.592758 122.789868 \nL 145.171104 123.504581 \nL 146.74945 124.532603 \nL 148.327795 125.870495 \nL 149.906141 127.518423 \nL 151.484487 129.480075 \nL 153.062833 131.763349 \nL 154.641179 134.381782 \nL 156.219525 137.356953 \nL 157.797871 140.722403 \nL 159.376217 144.530142 \nL 160.954562 148.861861 \nL 162.532908 153.849217 \nL 164.111254 159.712985 \nL 165.6896 166.839911 \nL 169.635465 186.778308 \nL 170.424638 189.90685 \nL 171.213811 192.563456 \nL 172.002983 194.766088 \nL 172.792156 196.56116 \nL 173.581329 198.007271 \nL 174.370502 199.163202 \nL 175.159675 200.08102 \nL 175.948848 200.803329 \nL 176.738021 201.363153 \nL 178.316367 202.087205 \nL 179.894713 202.37906 \nL 181.473059 202.302347 \nL 183.051405 201.888768 \nL 184.62975 201.154291 \nL 186.208096 200.106841 \nL 187.786442 198.749613 \nL 189.364788 197.082224 \nL 190.943134 195.100752 \nL 192.52148 192.796995 \nL 194.099826 190.156998 \nL 195.678171 187.15857 \nL 197.256517 183.76724 \nL 198.834863 179.929536 \nL 200.413209 175.56137 \nL 201.991555 170.526939 \nL 203.569901 164.59784 \nL 205.148247 157.379973 \nL 208.304938 141.040442 \nL 209.883284 134.449392 \nL 210.672457 131.851235 \nL 211.46163 129.702453 \nL 212.250803 127.954282 \nL 213.039976 126.547551 \nL 213.829149 125.42404 \nL 214.618322 124.53278 \nL 215.407495 123.832396 \nL 216.196668 123.290992 \nL 217.775014 122.596787 \nL 219.353359 122.329382 \nL 220.931705 122.427856 \nL 222.510051 122.861849 \nL 224.088397 123.616059 \nL 225.666743 124.682923 \nL 227.245089 126.05949 \nL 228.823435 127.746355 \nL 230.40178 129.747679 \nL 231.980126 132.071971 \nL 233.558472 134.733617 \nL 235.136818 137.755436 \nL 236.715164 141.172852 \nL 238.29351 145.040843 \nL 239.871856 149.445974 \nL 241.450202 154.528345 \nL 243.028547 160.524309 \nL 244.606893 167.832146 \nL 247.763585 184.13573 \nL 249.341931 190.614713 \nL 250.131104 193.154855 \nL 250.920277 195.250618 \nL 251.70945 196.952863 \nL 252.498623 198.321156 \nL 253.287795 199.413066 \nL 254.076968 200.278426 \nL 254.866141 200.95739 \nL 256.444487 201.871307 \nL 258.022833 202.315283 \nL 259.601179 202.37183 \nL 261.179525 202.082093 \nL 262.757871 201.466697 \nL 264.336217 200.536025 \nL 265.914562 199.294826 \nL 267.492908 197.744008 \nL 269.071254 195.881024 \nL 270.6496 193.699409 \nL 272.227946 191.187592 \nL 273.806292 188.326843 \nL 275.384638 185.087908 \nL 276.962983 181.425471 \nL 278.541329 177.268745 \nL 280.119675 172.50472 \nL 281.698021 166.946526 \nL 283.276367 160.269101 \nL 284.854713 152.239408 \nL 287.222232 140.122319 \nL 288.800577 133.756642 \nL 289.58975 131.27406 \nL 290.378923 129.230491 \nL 291.168096 127.573221 \nL 291.957269 126.242453 \nL 292.746442 125.181362 \nL 293.535615 124.341272 \nL 294.324788 123.683247 \nL 295.903134 122.802343 \nL 297.48148 122.384414 \nL 299.059826 122.350423 \nL 300.638171 122.660975 \nL 302.216517 123.296306 \nL 303.794863 124.246479 \nL 305.373209 125.507021 \nL 306.951555 127.077237 \nL 308.529901 128.959901 \nL 310.108247 131.161753 \nL 311.686592 133.69474 \nL 313.264938 136.578136 \nL 314.843284 139.842006 \nL 316.42163 143.532929 \nL 317.999976 147.723735 \nL 319.578322 152.530908 \nL 321.156668 158.147574 \nL 322.735014 164.910948 \nL 325.102532 177.206076 \nL 326.680878 185.041491 \nL 328.259224 191.292727 \nL 329.048397 193.718223 \nL 329.83757 195.710419 \nL 330.626743 197.323643 \nL 331.415916 198.617765 \nL 332.205089 199.648792 \nL 332.994262 200.464211 \nL 333.783435 201.101754 \nL 335.36178 201.950226 \nL 336.940126 202.342402 \nL 338.518472 202.353985 \nL 340.096818 202.022692 \nL 341.675164 201.367463 \nL 343.25351 200.397805 \nL 344.831856 199.117924 \nL 346.410202 197.528298 \nL 347.988547 195.625929 \nL 349.566893 193.403794 \nL 351.145239 190.849562 \nL 352.723585 187.943404 \nL 354.301931 184.65442 \nL 355.880277 180.934733 \nL 357.458623 176.7094 \nL 359.036968 171.858346 \nL 360.615314 166.181935 \nL 362.19366 159.330247 \nL 366.928698 135.926957 \nL 367.717871 133.093 \nL 368.507044 130.724098 \nL 369.296217 128.782463 \nL 370.085389 127.212379 \nL 370.874562 125.954051 \nL 371.663735 124.952369 \nL 372.452908 124.161045 \nL 373.242081 123.543549 \nL 374.820427 122.726957 \nL 375.6096 122.49306 \nL 375.6096 122.49306 \n\" clip-path=\"url(#pb648a27ec2)\" style=\"fill: none; stroke-dasharray: 6,0; stroke-dashoffset: 0; stroke: #1f77b4; stroke-width: 1.5\"/>\n   </g>\n   <g id=\"line2d_2\">\n    <path d=\"M 60.7296 162.357 \nL 64.675465 125.60178 \nL 67.042983 105.242568 \nL 69.410502 87.050547 \nL 70.988848 76.450267 \nL 72.567194 67.271126 \nL 74.14554 59.65861 \nL 75.723886 53.733373 \nL 76.513059 51.433921 \nL 77.302232 49.58933 \nL 78.091405 48.206916 \nL 78.880577 47.292162 \nL 79.66975 46.848696 \nL 80.458923 46.878277 \nL 81.248096 47.380789 \nL 82.037269 48.354237 \nL 82.826442 49.794761 \nL 83.615615 51.696647 \nL 84.404788 54.052352 \nL 85.193961 56.852532 \nL 86.772307 63.740173 \nL 88.350653 72.250402 \nL 89.928998 82.248336 \nL 91.507344 93.575512 \nL 93.874863 112.66081 \nL 96.242382 133.649191 \nL 100.97742 178.30507 \nL 104.134111 207.508607 \nL 106.50163 227.791542 \nL 108.869149 245.878586 \nL 110.447495 256.394746 \nL 112.025841 265.479989 \nL 113.604186 272.990316 \nL 115.182532 278.806693 \nL 115.971705 281.049749 \nL 116.760878 282.836931 \nL 117.550051 284.16115 \nL 118.339224 285.017153 \nL 119.128397 285.401546 \nL 119.91757 285.312803 \nL 120.706743 284.751277 \nL 121.495916 283.719195 \nL 122.285089 282.220651 \nL 123.074262 280.261587 \nL 123.863435 277.849775 \nL 124.652608 274.994781 \nL 126.230953 268.002254 \nL 127.809299 259.394836 \nL 129.387645 249.308949 \nL 130.965991 237.904453 \nL 133.33351 218.725738 \nL 135.701029 197.6739 \nL 141.225239 145.550161 \nL 144.381931 116.900432 \nL 146.74945 97.359995 \nL 148.327795 85.653334 \nL 149.906141 75.221946 \nL 151.484487 66.231165 \nL 153.062833 58.823492 \nL 154.641179 53.116335 \nL 155.430352 50.929813 \nL 156.219525 49.200152 \nL 157.008698 47.934211 \nL 157.797871 47.137011 \nL 158.587044 46.811716 \nL 159.376217 46.959614 \nL 160.165389 47.58012 \nL 160.954562 48.670772 \nL 161.743735 50.227244 \nL 162.532908 52.243363 \nL 163.322081 54.711132 \nL 164.111254 57.620763 \nL 165.6896 64.717743 \nL 167.267946 73.421818 \nL 168.846292 83.595031 \nL 170.424638 95.07614 \nL 172.792156 114.347084 \nL 175.948848 142.780095 \nL 183.840577 216.18186 \nL 186.208096 235.63367 \nL 187.786442 247.265867 \nL 189.364788 257.611836 \nL 190.943134 266.507597 \nL 192.52148 273.812157 \nL 194.099826 279.409739 \nL 194.888998 281.539591 \nL 195.678171 283.211625 \nL 196.467344 284.41921 \nL 197.256517 285.157556 \nL 198.04569 285.423735 \nL 198.834863 285.21669 \nL 199.624036 284.537243 \nL 200.413209 283.388089 \nL 201.202382 281.773786 \nL 201.991555 279.700736 \nL 202.780728 277.177163 \nL 204.359074 270.820229 \nL 205.93742 262.803739 \nL 207.515765 253.254751 \nL 209.094111 242.324615 \nL 211.46163 223.724031 \nL 213.829149 203.072372 \nL 217.775014 166.114027 \nL 222.510051 122.08806 \nL 224.87757 102.041487 \nL 227.245089 84.276072 \nL 228.823435 74.016163 \nL 230.40178 65.215972 \nL 231.980126 58.014979 \nL 232.769299 55.050891 \nL 233.558472 52.527318 \nL 234.347645 50.454268 \nL 235.136818 48.839965 \nL 235.925991 47.690811 \nL 236.715164 47.011364 \nL 237.504337 46.804319 \nL 238.29351 47.070498 \nL 239.082683 47.808844 \nL 239.871856 49.016429 \nL 240.661029 50.688463 \nL 241.450202 52.818315 \nL 242.239374 55.397536 \nL 243.81772 61.861426 \nL 245.396066 69.977683 \nL 246.974412 79.617666 \nL 248.552758 90.628585 \nL 250.920277 109.328443 \nL 253.287795 130.050023 \nL 257.23366 167.053429 \nL 261.179525 203.964422 \nL 263.547044 224.544879 \nL 265.914562 243.045036 \nL 267.492908 253.893712 \nL 269.071254 263.351112 \nL 270.6496 271.267338 \nL 272.227946 277.516922 \nL 273.017119 279.984691 \nL 273.806292 282.00081 \nL 274.595465 283.557282 \nL 275.384638 284.647934 \nL 276.173811 285.26844 \nL 276.962983 285.416338 \nL 277.752156 285.091043 \nL 278.541329 284.293843 \nL 279.330502 283.027902 \nL 280.119675 281.298241 \nL 280.908848 279.111719 \nL 281.698021 276.477009 \nL 283.276367 269.906564 \nL 284.854713 261.691044 \nL 286.433059 251.960663 \nL 288.011405 240.869643 \nL 290.378923 222.071672 \nL 292.746442 201.281453 \nL 296.692307 164.235281 \nL 300.638171 127.373928 \nL 303.00569 106.865949 \nL 305.373209 88.467366 \nL 306.951555 77.700823 \nL 308.529901 68.335598 \nL 310.108247 60.520125 \nL 311.686592 54.378279 \nL 312.475765 51.966467 \nL 313.264938 50.007403 \nL 314.054111 48.508859 \nL 314.843284 47.476777 \nL 315.632457 46.915251 \nL 316.42163 46.826508 \nL 317.210803 47.210901 \nL 317.999976 48.066904 \nL 318.789149 49.391123 \nL 319.578322 51.178305 \nL 320.367495 53.421361 \nL 321.156668 56.111395 \nL 322.735014 62.787988 \nL 324.313359 71.102262 \nL 325.891705 80.922438 \nL 327.470051 92.092871 \nL 329.83757 110.987791 \nL 332.205089 131.845358 \nL 336.940126 176.434645 \nL 340.885991 212.746817 \nL 343.25351 232.545845 \nL 344.831856 244.471526 \nL 346.410202 255.155269 \nL 347.988547 264.42774 \nL 349.566893 272.141973 \nL 351.145239 278.175702 \nL 351.934412 280.531407 \nL 352.723585 282.433293 \nL 353.512758 283.873817 \nL 354.301931 284.847265 \nL 355.091104 285.349777 \nL 355.880277 285.379358 \nL 356.66945 284.935892 \nL 357.458623 284.021138 \nL 358.247795 282.638724 \nL 359.036968 280.794133 \nL 359.826141 278.494681 \nL 360.615314 275.749489 \nL 362.19366 268.967162 \nL 363.772006 260.554649 \nL 365.350352 250.645287 \nL 366.928698 239.396134 \nL 369.296217 220.405436 \nL 371.663735 199.481814 \nL 375.6096 162.357 \nL 375.6096 162.357 \n\" clip-path=\"url(#pb648a27ec2)\" style=\"fill: none; stroke-dasharray: 6,2; stroke-dashoffset: 0; stroke: #ff7f0e; stroke-width: 1.5\"/>\n   </g>\n   <g id=\"patch_3\">\n    <path d=\"M 60.7296 293.577 \nL 60.7296 31.137 \n\" style=\"fill: none; stroke: #000000; stroke-linejoin: miter; stroke-linecap: square\"/>\n   </g>\n   <g id=\"patch_4\">\n    <path d=\"M 375.6096 293.577 \nL 375.6096 31.137 \n\" style=\"fill: none; stroke: #000000; stroke-linejoin: miter; stroke-linecap: square\"/>\n   </g>\n   <g id=\"patch_5\">\n    <path d=\"M 60.7296 293.577 \nL 375.6096 293.577 \n\" style=\"fill: none; stroke: #000000; stroke-linejoin: miter; stroke-linecap: square\"/>\n   </g>\n   <g id=\"patch_6\">\n    <path d=\"M 60.7296 31.137 \nL 375.6096 31.137 \n\" style=\"fill: none; stroke: #000000; stroke-linejoin: miter; stroke-linecap: square\"/>\n   </g>\n   <g id=\"matplotlib.axis_1\">\n    <g id=\"xtick_1\">\n     <g id=\"line2d_3\">\n      <path d=\"M 60.7296 293.577 \nL 60.7296 31.137 \n\" clip-path=\"url(#pb648a27ec2)\" style=\"fill: none; stroke-dasharray: 1,3; stroke-dashoffset: 0; stroke: #000000; stroke-width: 0.5\"/>\n     </g>\n     <g id=\"line2d_4\">\n      <defs>\n       <path id=\"m6fbc9a6711\" d=\"M 0 0 \nL 0 -4 \n\" style=\"stroke: #000000; stroke-width: 0.5\"/>\n      </defs>\n      <g>\n       <use xlink:href=\"#m6fbc9a6711\" x=\"60.7296\" y=\"293.577\" style=\"stroke: #000000; stroke-width: 0.5\"/>\n      </g>\n     </g>\n     <g id=\"line2d_5\">\n      <defs>\n       <path id=\"m2e659f7b89\" d=\"M 0 0 \nL 0 4 \n\" style=\"stroke: #000000; stroke-width: 0.5\"/>\n      </defs>\n      <g>\n       <use xlink:href=\"#m2e659f7b89\" x=\"60.7296\" y=\"31.137\" style=\"stroke: #000000; stroke-width: 0.5\"/>\n      </g>\n     </g>\n     <g id=\"text_1\">\n      <!-- 0.0 -->\n      <g transform=\"translate(51.7296 307.41175) scale(0.144 -0.144)\">\n       <defs>\n        <path id=\"STIXGeneral-Regular-30\" d=\"M 3046 2112 \nQ 3046 1683 2963 1302 \nQ 2880 922 2717 602 \nQ 2554 282 2266 96 \nQ 1978 -90 1600 -90 \nQ 1210 -90 915 108 \nQ 621 307 461 640 \nQ 301 973 227 1350 \nQ 154 1728 154 2150 \nQ 154 2746 301 3222 \nQ 448 3699 790 4012 \nQ 1133 4326 1626 4326 \nQ 2253 4326 2649 3712 \nQ 3046 3098 3046 2112 \nz\nM 2432 2080 \nQ 2432 3091 2217 3625 \nQ 2003 4160 1587 4160 \nQ 1190 4160 979 3622 \nQ 768 3085 768 2106 \nQ 768 1120 979 598 \nQ 1190 77 1600 77 \nQ 2003 77 2217 598 \nQ 2432 1120 2432 2080 \nz\n\" transform=\"scale(0.015625)\"/>\n        <path id=\"STIXGeneral-Regular-2e\" d=\"M 1158 275 \nQ 1158 134 1052 32 \nQ 947 -70 800 -70 \nQ 653 -70 550 32 \nQ 448 134 448 281 \nQ 448 429 553 534 \nQ 659 640 806 640 \nQ 947 640 1052 531 \nQ 1158 422 1158 275 \nz\n\" transform=\"scale(0.015625)\"/>\n       </defs>\n       <use xlink:href=\"#STIXGeneral-Regular-30\"/>\n       <use xlink:href=\"#STIXGeneral-Regular-2e\" transform=\"translate(49.999985 0)\"/>\n       <use xlink:href=\"#STIXGeneral-Regular-30\" transform=\"translate(74.999969 0)\"/>\n      </g>\n     </g>\n    </g>\n    <g id=\"xtick_2\">\n     <g id=\"line2d_6\">\n      <path d=\"M 100.0896 293.577 \nL 100.0896 31.137 \n\" clip-path=\"url(#pb648a27ec2)\" style=\"fill: none; stroke-dasharray: 1,3; stroke-dashoffset: 0; stroke: #000000; stroke-width: 0.5\"/>\n     </g>\n     <g id=\"line2d_7\">\n      <g>\n       <use xlink:href=\"#m6fbc9a6711\" x=\"100.0896\" y=\"293.577\" style=\"stroke: #000000; stroke-width: 0.5\"/>\n      </g>\n     </g>\n     <g id=\"line2d_8\">\n      <g>\n       <use xlink:href=\"#m2e659f7b89\" x=\"100.0896\" y=\"31.137\" style=\"stroke: #000000; stroke-width: 0.5\"/>\n      </g>\n     </g>\n     <g id=\"text_2\">\n      <!-- 0.5 -->\n      <g transform=\"translate(91.0896 307.41175) scale(0.144 -0.144)\">\n       <defs>\n        <path id=\"STIXGeneral-Regular-35\" d=\"M 2803 4358 \nL 2573 3814 \nQ 2534 3731 2400 3731 \nL 1158 3731 \nL 902 3187 \nQ 1606 3053 1920 2896 \nQ 2234 2739 2502 2368 \nQ 2726 2061 2726 1555 \nQ 2726 1094 2576 780 \nQ 2426 467 2099 224 \nQ 1664 -90 1011 -90 \nQ 646 -90 422 19 \nQ 198 128 198 307 \nQ 198 550 486 550 \nQ 717 550 960 352 \nQ 1210 147 1414 147 \nQ 1747 147 2012 480 \nQ 2278 813 2278 1229 \nQ 2278 1843 1850 2189 \nQ 1293 2637 486 2637 \nQ 410 2637 410 2688 \nL 416 2720 \nL 1114 4237 \nL 2438 4237 \nQ 2547 4237 2608 4269 \nQ 2669 4301 2746 4403 \nL 2803 4358 \nz\n\" transform=\"scale(0.015625)\"/>\n       </defs>\n       <use xlink:href=\"#STIXGeneral-Regular-30\"/>\n       <use xlink:href=\"#STIXGeneral-Regular-2e\" transform=\"translate(49.999985 0)\"/>\n       <use xlink:href=\"#STIXGeneral-Regular-35\" transform=\"translate(74.999969 0)\"/>\n      </g>\n     </g>\n    </g>\n    <g id=\"xtick_3\">\n     <g id=\"line2d_9\">\n      <path d=\"M 139.4496 293.577 \nL 139.4496 31.137 \n\" clip-path=\"url(#pb648a27ec2)\" style=\"fill: none; stroke-dasharray: 1,3; stroke-dashoffset: 0; stroke: #000000; stroke-width: 0.5\"/>\n     </g>\n     <g id=\"line2d_10\">\n      <g>\n       <use xlink:href=\"#m6fbc9a6711\" x=\"139.4496\" y=\"293.577\" style=\"stroke: #000000; stroke-width: 0.5\"/>\n      </g>\n     </g>\n     <g id=\"line2d_11\">\n      <g>\n       <use xlink:href=\"#m2e659f7b89\" x=\"139.4496\" y=\"31.137\" style=\"stroke: #000000; stroke-width: 0.5\"/>\n      </g>\n     </g>\n     <g id=\"text_3\">\n      <!-- 1.0 -->\n      <g transform=\"translate(130.4496 307.41175) scale(0.144 -0.144)\">\n       <defs>\n        <path id=\"STIXGeneral-Regular-31\" d=\"M 2522 0 \nL 755 0 \nL 755 96 \nQ 1107 115 1235 227 \nQ 1363 339 1363 608 \nL 1363 3482 \nQ 1363 3795 1171 3795 \nQ 1082 3795 883 3718 \nL 710 3654 \nL 710 3744 \nL 1856 4326 \nL 1914 4307 \nL 1914 486 \nQ 1914 275 2042 185 \nQ 2170 96 2522 96 \nL 2522 0 \nz\n\" transform=\"scale(0.015625)\"/>\n       </defs>\n       <use xlink:href=\"#STIXGeneral-Regular-31\"/>\n       <use xlink:href=\"#STIXGeneral-Regular-2e\" transform=\"translate(49.999985 0)\"/>\n       <use xlink:href=\"#STIXGeneral-Regular-30\" transform=\"translate(74.999969 0)\"/>\n      </g>\n     </g>\n    </g>\n    <g id=\"xtick_4\">\n     <g id=\"line2d_12\">\n      <path d=\"M 178.8096 293.577 \nL 178.8096 31.137 \n\" clip-path=\"url(#pb648a27ec2)\" style=\"fill: none; stroke-dasharray: 1,3; stroke-dashoffset: 0; stroke: #000000; stroke-width: 0.5\"/>\n     </g>\n     <g id=\"line2d_13\">\n      <g>\n       <use xlink:href=\"#m6fbc9a6711\" x=\"178.8096\" y=\"293.577\" style=\"stroke: #000000; stroke-width: 0.5\"/>\n      </g>\n     </g>\n     <g id=\"line2d_14\">\n      <g>\n       <use xlink:href=\"#m2e659f7b89\" x=\"178.8096\" y=\"31.137\" style=\"stroke: #000000; stroke-width: 0.5\"/>\n      </g>\n     </g>\n     <g id=\"text_4\">\n      <!-- 1.5 -->\n      <g transform=\"translate(169.8096 307.41175) scale(0.144 -0.144)\">\n       <use xlink:href=\"#STIXGeneral-Regular-31\"/>\n       <use xlink:href=\"#STIXGeneral-Regular-2e\" transform=\"translate(49.999985 0)\"/>\n       <use xlink:href=\"#STIXGeneral-Regular-35\" transform=\"translate(74.999969 0)\"/>\n      </g>\n     </g>\n    </g>\n    <g id=\"xtick_5\">\n     <g id=\"line2d_15\">\n      <path d=\"M 218.1696 293.577 \nL 218.1696 31.137 \n\" clip-path=\"url(#pb648a27ec2)\" style=\"fill: none; stroke-dasharray: 1,3; stroke-dashoffset: 0; stroke: #000000; stroke-width: 0.5\"/>\n     </g>\n     <g id=\"line2d_16\">\n      <g>\n       <use xlink:href=\"#m6fbc9a6711\" x=\"218.1696\" y=\"293.577\" style=\"stroke: #000000; stroke-width: 0.5\"/>\n      </g>\n     </g>\n     <g id=\"line2d_17\">\n      <g>\n       <use xlink:href=\"#m2e659f7b89\" x=\"218.1696\" y=\"31.137\" style=\"stroke: #000000; stroke-width: 0.5\"/>\n      </g>\n     </g>\n     <g id=\"text_5\">\n      <!-- 2.0 -->\n      <g transform=\"translate(209.1696 307.41175) scale(0.144 -0.144)\">\n       <defs>\n        <path id=\"STIXGeneral-Regular-32\" d=\"M 3034 877 \nL 2688 0 \nL 186 0 \nL 186 77 \nL 1325 1286 \nQ 1773 1754 1965 2144 \nQ 2157 2534 2157 2950 \nQ 2157 3379 1920 3616 \nQ 1683 3853 1267 3853 \nQ 922 3853 720 3673 \nQ 518 3494 326 3021 \nL 192 3053 \nQ 301 3648 630 3987 \nQ 960 4326 1523 4326 \nQ 2054 4326 2380 4006 \nQ 2707 3686 2707 3200 \nQ 2707 2477 1888 1613 \nL 832 486 \nL 2330 486 \nQ 2541 486 2665 569 \nQ 2790 653 2944 915 \nL 3034 877 \nz\n\" transform=\"scale(0.015625)\"/>\n       </defs>\n       <use xlink:href=\"#STIXGeneral-Regular-32\"/>\n       <use xlink:href=\"#STIXGeneral-Regular-2e\" transform=\"translate(49.999985 0)\"/>\n       <use xlink:href=\"#STIXGeneral-Regular-30\" transform=\"translate(74.999969 0)\"/>\n      </g>\n     </g>\n    </g>\n    <g id=\"xtick_6\">\n     <g id=\"line2d_18\">\n      <path d=\"M 257.5296 293.577 \nL 257.5296 31.137 \n\" clip-path=\"url(#pb648a27ec2)\" style=\"fill: none; stroke-dasharray: 1,3; stroke-dashoffset: 0; stroke: #000000; stroke-width: 0.5\"/>\n     </g>\n     <g id=\"line2d_19\">\n      <g>\n       <use xlink:href=\"#m6fbc9a6711\" x=\"257.5296\" y=\"293.577\" style=\"stroke: #000000; stroke-width: 0.5\"/>\n      </g>\n     </g>\n     <g id=\"line2d_20\">\n      <g>\n       <use xlink:href=\"#m2e659f7b89\" x=\"257.5296\" y=\"31.137\" style=\"stroke: #000000; stroke-width: 0.5\"/>\n      </g>\n     </g>\n     <g id=\"text_6\">\n      <!-- 2.5 -->\n      <g transform=\"translate(248.5296 307.41175) scale(0.144 -0.144)\">\n       <use xlink:href=\"#STIXGeneral-Regular-32\"/>\n       <use xlink:href=\"#STIXGeneral-Regular-2e\" transform=\"translate(49.999985 0)\"/>\n       <use xlink:href=\"#STIXGeneral-Regular-35\" transform=\"translate(74.999969 0)\"/>\n      </g>\n     </g>\n    </g>\n    <g id=\"xtick_7\">\n     <g id=\"line2d_21\">\n      <path d=\"M 296.8896 293.577 \nL 296.8896 31.137 \n\" clip-path=\"url(#pb648a27ec2)\" style=\"fill: none; stroke-dasharray: 1,3; stroke-dashoffset: 0; stroke: #000000; stroke-width: 0.5\"/>\n     </g>\n     <g id=\"line2d_22\">\n      <g>\n       <use xlink:href=\"#m6fbc9a6711\" x=\"296.8896\" y=\"293.577\" style=\"stroke: #000000; stroke-width: 0.5\"/>\n      </g>\n     </g>\n     <g id=\"line2d_23\">\n      <g>\n       <use xlink:href=\"#m2e659f7b89\" x=\"296.8896\" y=\"31.137\" style=\"stroke: #000000; stroke-width: 0.5\"/>\n      </g>\n     </g>\n     <g id=\"text_7\">\n      <!-- 3.0 -->\n      <g transform=\"translate(287.8896 307.41175) scale(0.144 -0.144)\">\n       <defs>\n        <path id=\"STIXGeneral-Regular-33\" d=\"M 390 3264 \nL 288 3290 \nQ 435 3770 748 4048 \nQ 1062 4326 1542 4326 \nQ 1990 4326 2265 4083 \nQ 2541 3840 2541 3450 \nQ 2541 2925 1946 2566 \nQ 2298 2413 2477 2227 \nQ 2758 1914 2758 1402 \nQ 2758 890 2464 506 \nQ 2246 211 1840 60 \nQ 1434 -90 979 -90 \nQ 262 -90 262 275 \nQ 262 378 339 442 \nQ 416 506 525 506 \nQ 685 506 915 339 \nQ 1197 141 1466 141 \nQ 1818 141 2058 425 \nQ 2298 710 2298 1120 \nQ 2298 1856 1632 2048 \nQ 1434 2112 979 2112 \nL 979 2202 \nQ 1338 2323 1517 2432 \nQ 2035 2726 2035 3290 \nQ 2035 3610 1852 3776 \nQ 1670 3942 1344 3942 \nQ 768 3942 390 3264 \nz\n\" transform=\"scale(0.015625)\"/>\n       </defs>\n       <use xlink:href=\"#STIXGeneral-Regular-33\"/>\n       <use xlink:href=\"#STIXGeneral-Regular-2e\" transform=\"translate(49.999985 0)\"/>\n       <use xlink:href=\"#STIXGeneral-Regular-30\" transform=\"translate(74.999969 0)\"/>\n      </g>\n     </g>\n    </g>\n    <g id=\"xtick_8\">\n     <g id=\"line2d_24\">\n      <path d=\"M 336.2496 293.577 \nL 336.2496 31.137 \n\" clip-path=\"url(#pb648a27ec2)\" style=\"fill: none; stroke-dasharray: 1,3; stroke-dashoffset: 0; stroke: #000000; stroke-width: 0.5\"/>\n     </g>\n     <g id=\"line2d_25\">\n      <g>\n       <use xlink:href=\"#m6fbc9a6711\" x=\"336.2496\" y=\"293.577\" style=\"stroke: #000000; stroke-width: 0.5\"/>\n      </g>\n     </g>\n     <g id=\"line2d_26\">\n      <g>\n       <use xlink:href=\"#m2e659f7b89\" x=\"336.2496\" y=\"31.137\" style=\"stroke: #000000; stroke-width: 0.5\"/>\n      </g>\n     </g>\n     <g id=\"text_8\">\n      <!-- 3.5 -->\n      <g transform=\"translate(327.2496 307.41175) scale(0.144 -0.144)\">\n       <use xlink:href=\"#STIXGeneral-Regular-33\"/>\n       <use xlink:href=\"#STIXGeneral-Regular-2e\" transform=\"translate(49.999985 0)\"/>\n       <use xlink:href=\"#STIXGeneral-Regular-35\" transform=\"translate(74.999969 0)\"/>\n      </g>\n     </g>\n    </g>\n    <g id=\"xtick_9\">\n     <g id=\"line2d_27\">\n      <path d=\"M 375.6096 293.577 \nL 375.6096 31.137 \n\" clip-path=\"url(#pb648a27ec2)\" style=\"fill: none; stroke-dasharray: 1,3; stroke-dashoffset: 0; stroke: #000000; stroke-width: 0.5\"/>\n     </g>\n     <g id=\"line2d_28\">\n      <g>\n       <use xlink:href=\"#m6fbc9a6711\" x=\"375.6096\" y=\"293.577\" style=\"stroke: #000000; stroke-width: 0.5\"/>\n      </g>\n     </g>\n     <g id=\"line2d_29\">\n      <g>\n       <use xlink:href=\"#m2e659f7b89\" x=\"375.6096\" y=\"31.137\" style=\"stroke: #000000; stroke-width: 0.5\"/>\n      </g>\n     </g>\n     <g id=\"text_9\">\n      <!-- 4.0 -->\n      <g transform=\"translate(366.6096 307.41175) scale(0.144 -0.144)\">\n       <defs>\n        <path id=\"STIXGeneral-Regular-34\" d=\"M 3027 1069 \nL 2368 1069 \nL 2368 0 \nL 1869 0 \nL 1869 1069 \nL 77 1069 \nL 77 1478 \nL 2086 4326 \nL 2368 4326 \nL 2368 1478 \nL 3027 1478 \nL 3027 1069 \nz\nM 1869 1478 \nL 1869 3674 \nL 333 1478 \nL 1869 1478 \nz\n\" transform=\"scale(0.015625)\"/>\n       </defs>\n       <use xlink:href=\"#STIXGeneral-Regular-34\"/>\n       <use xlink:href=\"#STIXGeneral-Regular-2e\" transform=\"translate(49.999985 0)\"/>\n       <use xlink:href=\"#STIXGeneral-Regular-30\" transform=\"translate(74.999969 0)\"/>\n      </g>\n     </g>\n    </g>\n    <g id=\"text_10\">\n     <!-- $t^*\\!/\\,(2\\pi)$ [-] -->\n     <g transform=\"translate(184.8896 328.2245) scale(0.16 -0.16)\">\n      <defs>\n       <path id=\"STIXGeneral-Italic-74\" d=\"M 1894 2739 \nL 1862 2534 \nL 1325 2534 \nL 768 435 \nQ 755 384 755 346 \nQ 755 243 851 243 \nQ 928 243 1030 342 \nQ 1133 442 1370 749 \nL 1453 704 \nQ 1158 256 969 93 \nQ 781 -70 538 -70 \nQ 243 -70 243 166 \nQ 243 230 346 640 \nL 845 2534 \nL 365 2534 \nL 358 2573 \nQ 358 2688 570 2733 \nQ 730 2771 992 2979 \nQ 1254 3187 1421 3437 \nQ 1459 3494 1510 3494 \nQ 1568 3494 1568 3443 \nQ 1568 3411 1562 3398 \nL 1382 2739 \nL 1894 2739 \nz\n\" transform=\"scale(0.015625)\"/>\n       <path id=\"STIXGeneral-Regular-2a\" d=\"M 1715 3014 \nL 1773 2976 \nQ 2010 2822 2387 2758 \nQ 2605 2726 2688 2665 \nQ 2771 2605 2771 2483 \nQ 2771 2374 2707 2304 \nQ 2643 2234 2541 2234 \nQ 2381 2234 2157 2515 \nQ 2010 2694 1715 2886 \nL 1664 2918 \nL 1664 2861 \nQ 1664 2502 1792 2157 \nQ 1850 1997 1850 1946 \nQ 1850 1850 1770 1773 \nQ 1690 1696 1594 1696 \nQ 1504 1696 1433 1766 \nQ 1363 1837 1363 1926 \nQ 1363 2016 1440 2227 \nQ 1542 2502 1542 2861 \nL 1542 2918 \nQ 1286 2758 1210 2688 \nQ 1133 2611 947 2400 \nQ 806 2240 672 2240 \nQ 563 2240 499 2304 \nQ 435 2368 435 2470 \nQ 435 2592 528 2656 \nQ 621 2720 838 2758 \nQ 1062 2803 1180 2848 \nQ 1299 2893 1498 3014 \nQ 1222 3181 877 3251 \nQ 640 3302 544 3366 \nQ 448 3430 448 3546 \nQ 448 3648 505 3715 \nQ 563 3782 659 3782 \nQ 787 3782 973 3578 \nQ 1242 3277 1542 3110 \nL 1542 3194 \nQ 1542 3456 1446 3776 \nQ 1376 3987 1376 4109 \nQ 1376 4198 1443 4262 \nQ 1510 4326 1606 4326 \nQ 1702 4326 1772 4259 \nQ 1843 4192 1843 4096 \nQ 1843 3994 1773 3795 \nQ 1664 3507 1664 3264 \nL 1664 3110 \nQ 1882 3238 2035 3379 \nQ 2067 3411 2153 3504 \nQ 2240 3597 2291 3648 \nQ 2342 3699 2409 3747 \nQ 2477 3795 2528 3795 \nQ 2637 3795 2701 3728 \nQ 2765 3661 2765 3552 \nQ 2765 3424 2691 3363 \nQ 2618 3302 2432 3277 \nQ 2074 3219 1715 3014 \nz\n\" transform=\"scale(0.015625)\"/>\n       <path id=\"STIXGeneral-Regular-2f\" d=\"M 1837 4326 \nL 378 -90 \nL -58 -90 \nL 1408 4326 \nL 1837 4326 \nz\n\" transform=\"scale(0.015625)\"/>\n       <path id=\"STIXGeneral-Regular-28\" d=\"M 1946 -1030 \nL 1869 -1133 \nQ 1126 -710 716 32 \nQ 307 774 307 1613 \nQ 307 3386 1888 4326 \nL 1946 4224 \nQ 1293 3667 1075 3126 \nQ 858 2586 858 1632 \nQ 858 685 1082 96 \nQ 1306 -493 1946 -1030 \nz\n\" transform=\"scale(0.015625)\"/>\n       <path id=\"STIXGeneral-Italic-3c0\" d=\"M 3430 2739 \nL 3296 2266 \nL 2643 2266 \nQ 2624 2195 2502 1782 \nQ 2381 1370 2297 1072 \nQ 2214 774 2214 717 \nQ 2214 448 2413 448 \nQ 2694 448 2867 838 \nL 2970 838 \nQ 2886 486 2652 208 \nQ 2419 -70 2093 -70 \nQ 1901 -70 1808 67 \nQ 1715 205 1715 410 \nQ 1715 627 1824 922 \nL 2310 2266 \nL 1645 2266 \nQ 1568 2061 1401 1469 \nQ 1235 877 1068 512 \nQ 902 147 672 -38 \nQ 563 -115 442 -115 \nQ 314 -115 218 -32 \nQ 122 51 122 166 \nQ 122 429 314 480 \nQ 634 563 774 928 \nL 1299 2266 \nL 1261 2266 \nQ 973 2266 819 2208 \nQ 666 2150 474 1914 \nL 371 1914 \nQ 640 2362 931 2550 \nQ 1222 2739 1696 2739 \nL 3430 2739 \nz\n\" transform=\"scale(0.015625)\"/>\n       <path id=\"STIXGeneral-Regular-29\" d=\"M 186 4224 \nL 262 4326 \nQ 992 3891 1408 3148 \nQ 1824 2406 1824 1581 \nQ 1824 -166 243 -1133 \nL 186 -1030 \nQ 845 -486 1059 54 \nQ 1274 595 1274 1562 \nQ 1274 2534 1059 3120 \nQ 845 3706 186 4224 \nz\n\" transform=\"scale(0.015625)\"/>\n       <path id=\"STIXGeneral-Regular-20\" transform=\"scale(0.015625)\"/>\n       <path id=\"STIXGeneral-Regular-5b\" d=\"M 1914 -998 \nL 563 -998 \nL 563 4237 \nL 1914 4237 \nL 1914 4077 \nL 1382 4077 \nQ 1216 4077 1133 4006 \nQ 1050 3936 1050 3770 \nL 1050 -493 \nQ 1050 -838 1382 -838 \nL 1914 -838 \nL 1914 -998 \nz\n\" transform=\"scale(0.015625)\"/>\n       <path id=\"STIXGeneral-Regular-2d\" d=\"M 1824 1242 \nL 250 1242 \nL 250 1645 \nL 1824 1645 \nL 1824 1242 \nz\n\" transform=\"scale(0.015625)\"/>\n       <path id=\"STIXGeneral-Regular-5d\" d=\"M 1568 -998 \nL 218 -998 \nL 218 -838 \nL 781 -838 \nQ 947 -838 1014 -768 \nQ 1082 -698 1082 -544 \nL 1082 3731 \nQ 1082 4077 755 4077 \nL 218 4077 \nL 218 4237 \nL 1568 4237 \nL 1568 -998 \nz\n\" transform=\"scale(0.015625)\"/>\n      </defs>\n      <use xlink:href=\"#STIXGeneral-Italic-74\" transform=\"translate(0 0.409375)\"/>\n      <use xlink:href=\"#STIXGeneral-Regular-2a\" transform=\"translate(46.28611 35.684375) scale(0.7)\"/>\n      <use xlink:href=\"#STIXGeneral-Regular-2f\" transform=\"translate(83.769901 0.409375)\"/>\n      <use xlink:href=\"#STIXGeneral-Regular-28\" transform=\"translate(123.60346 0.409375)\"/>\n      <use xlink:href=\"#STIXGeneral-Regular-32\" transform=\"translate(156.903448 0.409375)\"/>\n      <use xlink:href=\"#STIXGeneral-Italic-3c0\" transform=\"translate(206.903432 0.409375)\"/>\n      <use xlink:href=\"#STIXGeneral-Regular-29\" transform=\"translate(257.303426 0.409375)\"/>\n      <use xlink:href=\"#STIXGeneral-Regular-20\" transform=\"translate(290.603414 0.409375)\"/>\n      <use xlink:href=\"#STIXGeneral-Regular-5b\" transform=\"translate(315.603399 0.409375)\"/>\n      <use xlink:href=\"#STIXGeneral-Regular-2d\" transform=\"translate(348.903387 0.409375)\"/>\n      <use xlink:href=\"#STIXGeneral-Regular-5d\" transform=\"translate(382.203374 0.409375)\"/>\n     </g>\n    </g>\n   </g>\n   <g id=\"matplotlib.axis_2\">\n    <g id=\"ytick_1\">\n     <g id=\"line2d_30\">\n      <path d=\"M 60.7296 281.647909 \nL 375.6096 281.647909 \n\" clip-path=\"url(#pb648a27ec2)\" style=\"fill: none; stroke-dasharray: 1,3; stroke-dashoffset: 0; stroke: #000000; stroke-width: 0.5\"/>\n     </g>\n     <g id=\"line2d_31\">\n      <defs>\n       <path id=\"me95cf11154\" d=\"M 0 0 \nL 4 0 \n\" style=\"stroke: #000000; stroke-width: 0.5\"/>\n      </defs>\n      <g>\n       <use xlink:href=\"#me95cf11154\" x=\"60.7296\" y=\"281.647909\" style=\"stroke: #000000; stroke-width: 0.5\"/>\n      </g>\n     </g>\n     <g id=\"line2d_32\">\n      <defs>\n       <path id=\"m85466b347d\" d=\"M 0 0 \nL -4 0 \n\" style=\"stroke: #000000; stroke-width: 0.5\"/>\n      </defs>\n      <g>\n       <use xlink:href=\"#m85466b347d\" x=\"375.6096\" y=\"281.647909\" style=\"stroke: #000000; stroke-width: 0.5\"/>\n      </g>\n     </g>\n     <g id=\"text_11\">\n      <!-- −1.0 -->\n      <g transform=\"translate(28.8656 285.002659) scale(0.144 -0.144)\">\n       <defs>\n        <path id=\"STIXGeneral-Regular-2212\" d=\"M 3974 1408 \nL 410 1408 \nL 410 1830 \nL 3974 1830 \nL 3974 1408 \nz\n\" transform=\"scale(0.015625)\"/>\n       </defs>\n       <use xlink:href=\"#STIXGeneral-Regular-2212\"/>\n       <use xlink:href=\"#STIXGeneral-Regular-31\" transform=\"translate(68.499985 0)\"/>\n       <use xlink:href=\"#STIXGeneral-Regular-2e\" transform=\"translate(118.499969 0)\"/>\n       <use xlink:href=\"#STIXGeneral-Regular-30\" transform=\"translate(143.499954 0)\"/>\n      </g>\n     </g>\n    </g>\n    <g id=\"ytick_2\">\n     <g id=\"line2d_33\">\n      <path d=\"M 60.7296 222.002455 \nL 375.6096 222.002455 \n\" clip-path=\"url(#pb648a27ec2)\" style=\"fill: none; stroke-dasharray: 1,3; stroke-dashoffset: 0; stroke: #000000; stroke-width: 0.5\"/>\n     </g>\n     <g id=\"line2d_34\">\n      <g>\n       <use xlink:href=\"#me95cf11154\" x=\"60.7296\" y=\"222.002455\" style=\"stroke: #000000; stroke-width: 0.5\"/>\n      </g>\n     </g>\n     <g id=\"line2d_35\">\n      <g>\n       <use xlink:href=\"#m85466b347d\" x=\"375.6096\" y=\"222.002455\" style=\"stroke: #000000; stroke-width: 0.5\"/>\n      </g>\n     </g>\n     <g id=\"text_12\">\n      <!-- −0.5 -->\n      <g transform=\"translate(28.8656 225.357205) scale(0.144 -0.144)\">\n       <use xlink:href=\"#STIXGeneral-Regular-2212\"/>\n       <use xlink:href=\"#STIXGeneral-Regular-30\" transform=\"translate(68.499985 0)\"/>\n       <use xlink:href=\"#STIXGeneral-Regular-2e\" transform=\"translate(118.499969 0)\"/>\n       <use xlink:href=\"#STIXGeneral-Regular-35\" transform=\"translate(143.499954 0)\"/>\n      </g>\n     </g>\n    </g>\n    <g id=\"ytick_3\">\n     <g id=\"line2d_36\">\n      <path d=\"M 60.7296 162.357 \nL 375.6096 162.357 \n\" clip-path=\"url(#pb648a27ec2)\" style=\"fill: none; stroke-dasharray: 1,3; stroke-dashoffset: 0; stroke: #000000; stroke-width: 0.5\"/>\n     </g>\n     <g id=\"line2d_37\">\n      <g>\n       <use xlink:href=\"#me95cf11154\" x=\"60.7296\" y=\"162.357\" style=\"stroke: #000000; stroke-width: 0.5\"/>\n      </g>\n     </g>\n     <g id=\"line2d_38\">\n      <g>\n       <use xlink:href=\"#m85466b347d\" x=\"375.6096\" y=\"162.357\" style=\"stroke: #000000; stroke-width: 0.5\"/>\n      </g>\n     </g>\n     <g id=\"text_13\">\n      <!-- 0.0 -->\n      <g transform=\"translate(38.7296 165.71175) scale(0.144 -0.144)\">\n       <use xlink:href=\"#STIXGeneral-Regular-30\"/>\n       <use xlink:href=\"#STIXGeneral-Regular-2e\" transform=\"translate(49.999985 0)\"/>\n       <use xlink:href=\"#STIXGeneral-Regular-30\" transform=\"translate(74.999969 0)\"/>\n      </g>\n     </g>\n    </g>\n    <g id=\"ytick_4\">\n     <g id=\"line2d_39\">\n      <path d=\"M 60.7296 102.711545 \nL 375.6096 102.711545 \n\" clip-path=\"url(#pb648a27ec2)\" style=\"fill: none; stroke-dasharray: 1,3; stroke-dashoffset: 0; stroke: #000000; stroke-width: 0.5\"/>\n     </g>\n     <g id=\"line2d_40\">\n      <g>\n       <use xlink:href=\"#me95cf11154\" x=\"60.7296\" y=\"102.711545\" style=\"stroke: #000000; stroke-width: 0.5\"/>\n      </g>\n     </g>\n     <g id=\"line2d_41\">\n      <g>\n       <use xlink:href=\"#m85466b347d\" x=\"375.6096\" y=\"102.711545\" style=\"stroke: #000000; stroke-width: 0.5\"/>\n      </g>\n     </g>\n     <g id=\"text_14\">\n      <!-- 0.5 -->\n      <g transform=\"translate(38.7296 106.066295) scale(0.144 -0.144)\">\n       <use xlink:href=\"#STIXGeneral-Regular-30\"/>\n       <use xlink:href=\"#STIXGeneral-Regular-2e\" transform=\"translate(49.999985 0)\"/>\n       <use xlink:href=\"#STIXGeneral-Regular-35\" transform=\"translate(74.999969 0)\"/>\n      </g>\n     </g>\n    </g>\n    <g id=\"ytick_5\">\n     <g id=\"line2d_42\">\n      <path d=\"M 60.7296 43.066091 \nL 375.6096 43.066091 \n\" clip-path=\"url(#pb648a27ec2)\" style=\"fill: none; stroke-dasharray: 1,3; stroke-dashoffset: 0; stroke: #000000; stroke-width: 0.5\"/>\n     </g>\n     <g id=\"line2d_43\">\n      <g>\n       <use xlink:href=\"#me95cf11154\" x=\"60.7296\" y=\"43.066091\" style=\"stroke: #000000; stroke-width: 0.5\"/>\n      </g>\n     </g>\n     <g id=\"line2d_44\">\n      <g>\n       <use xlink:href=\"#m85466b347d\" x=\"375.6096\" y=\"43.066091\" style=\"stroke: #000000; stroke-width: 0.5\"/>\n      </g>\n     </g>\n     <g id=\"text_15\">\n      <!-- 1.0 -->\n      <g transform=\"translate(38.7296 46.420841) scale(0.144 -0.144)\">\n       <use xlink:href=\"#STIXGeneral-Regular-31\"/>\n       <use xlink:href=\"#STIXGeneral-Regular-2e\" transform=\"translate(49.999985 0)\"/>\n       <use xlink:href=\"#STIXGeneral-Regular-30\" transform=\"translate(74.999969 0)\"/>\n      </g>\n     </g>\n    </g>\n    <g id=\"text_16\">\n     <!-- $Q^*$ [-] -->\n     <g transform=\"translate(20.3931 183.797) rotate(-90) scale(0.16 -0.16)\">\n      <defs>\n       <path id=\"STIXGeneral-Italic-51\" d=\"M 442 -1082 \nL 378 -979 \nQ 749 -717 912 -589 \nQ 1075 -461 1510 -77 \nQ 966 32 675 425 \nQ 384 819 384 1440 \nQ 384 2035 678 2624 \nQ 973 3213 1491 3661 \nQ 2202 4262 3034 4262 \nQ 3680 4262 4077 3833 \nQ 4474 3405 4474 2746 \nQ 4474 1997 4019 1277 \nQ 3565 557 2835 173 \nQ 2400 -64 1786 -102 \nL 1440 -467 \nL 1600 -467 \nQ 1824 -467 2387 -595 \nQ 2938 -730 3098 -730 \nQ 3443 -730 3673 -624 \nQ 3904 -518 4173 -237 \nL 4275 -307 \nQ 4122 -525 3942 -685 \nQ 3411 -1165 2720 -1165 \nQ 2298 -1165 1773 -998 \nQ 1421 -883 1178 -883 \nQ 800 -883 442 -1082 \nz\nM 3802 3072 \nQ 3802 3526 3581 3788 \nQ 3360 4051 2976 4051 \nQ 2272 4051 1734 3251 \nQ 1446 2822 1251 2230 \nQ 1056 1638 1056 1171 \nQ 1056 691 1273 400 \nQ 1491 109 1850 109 \nQ 2579 109 3117 902 \nQ 3411 1350 3606 1964 \nQ 3802 2579 3802 3072 \nz\n\" transform=\"scale(0.015625)\"/>\n      </defs>\n      <use xlink:href=\"#STIXGeneral-Italic-51\" transform=\"translate(0 0.409375)\"/>\n      <use xlink:href=\"#STIXGeneral-Regular-2a\" transform=\"translate(93.206104 35.684375) scale(0.7)\"/>\n      <use xlink:href=\"#STIXGeneral-Regular-20\" transform=\"translate(142.723466 0.409375)\"/>\n      <use xlink:href=\"#STIXGeneral-Regular-5b\" transform=\"translate(167.723451 0.409375)\"/>\n      <use xlink:href=\"#STIXGeneral-Regular-2d\" transform=\"translate(201.023438 0.409375)\"/>\n      <use xlink:href=\"#STIXGeneral-Regular-5d\" transform=\"translate(234.323426 0.409375)\"/>\n     </g>\n    </g>\n   </g>\n   <g id=\"text_17\">\n    <!-- a) -->\n    <g transform=\"translate(7.2 18.015) scale(0.16 -0.16)\">\n     <defs>\n      <path id=\"STIXGeneral-Bold-61\" d=\"M 3027 410 \nL 3123 275 \nQ 2784 -90 2406 -90 \nQ 2170 -90 2051 9 \nQ 1933 109 1882 352 \nQ 1395 -90 864 -90 \nQ 544 -90 352 80 \nQ 160 250 160 589 \nQ 160 1018 589 1306 \nQ 909 1517 1875 1792 \nL 1875 2227 \nQ 1875 2541 1756 2681 \nQ 1638 2822 1357 2822 \nQ 1178 2822 1059 2758 \nQ 941 2694 941 2586 \nQ 941 2515 1011 2438 \nQ 1133 2291 1133 2170 \nQ 1133 2003 1011 1894 \nQ 890 1786 698 1786 \nQ 499 1786 390 1901 \nQ 282 2016 282 2221 \nQ 282 2598 618 2812 \nQ 954 3027 1504 3027 \nQ 2093 3027 2425 2803 \nQ 2758 2579 2758 2170 \nL 2758 499 \nQ 2758 320 2893 320 \nQ 2938 320 2963 346 \nL 3027 410 \nz\nM 1875 621 \nL 1875 1568 \nQ 1094 1350 1094 794 \nQ 1094 589 1187 477 \nQ 1280 365 1427 365 \nQ 1696 365 1875 621 \nz\n\" transform=\"scale(0.015625)\"/>\n      <path id=\"STIXGeneral-Bold-29\" d=\"M 173 4262 \nL 173 4442 \nQ 653 4154 912 3910 \nQ 1171 3667 1395 3302 \nQ 1837 2566 1837 1709 \nQ 1837 442 998 -467 \nQ 813 -666 640 -790 \nQ 467 -915 173 -1075 \nL 173 -902 \nQ 397 -730 550 -579 \nQ 704 -429 813 -243 \nQ 922 -58 979 102 \nQ 1037 262 1069 534 \nQ 1101 806 1107 1049 \nQ 1114 1293 1114 1715 \nQ 1114 2822 950 3296 \nQ 787 3770 173 4262 \nz\n\" transform=\"scale(0.015625)\"/>\n     </defs>\n     <use xlink:href=\"#STIXGeneral-Bold-61\"/>\n     <use xlink:href=\"#STIXGeneral-Bold-29\" transform=\"translate(49.999985 0)\"/>\n    </g>\n   </g>\n   <g id=\"text_18\">\n    <!-- $B_i = $(0.01,) -->\n    <g transform=\"translate(182.2496 26.137) scale(0.16 -0.16)\">\n     <defs>\n      <path id=\"STIXGeneral-Italic-42\" d=\"M 832 4179 \nL 2432 4179 \nQ 3763 4179 3763 3219 \nQ 3763 2771 3354 2496 \nQ 3136 2349 2643 2246 \nL 2643 2240 \nQ 3450 1997 3450 1280 \nQ 3450 653 2973 326 \nQ 2496 0 1690 0 \nL -51 0 \nL -51 102 \nQ 211 141 304 230 \nQ 397 320 480 614 \nL 1254 3405 \nQ 1325 3654 1325 3814 \nQ 1325 3955 1229 4003 \nQ 1133 4051 832 4077 \nL 832 4179 \nz\nM 1587 2323 \nL 1830 2323 \nQ 2458 2323 2787 2572 \nQ 3117 2822 3117 3296 \nQ 3117 3654 2937 3820 \nQ 2758 3987 2368 3987 \nQ 2221 3987 2166 3977 \nQ 2112 3968 2067 3920 \nQ 2022 3872 1990 3757 \nL 1587 2323 \nz\nM 1523 2118 \nL 1318 1357 \nQ 1094 506 1094 461 \nQ 1094 192 1523 192 \nQ 2086 192 2422 473 \nQ 2758 755 2758 1280 \nQ 2758 1568 2636 1773 \nQ 2515 1978 2330 2042 \nQ 2112 2118 1523 2118 \nz\n\" transform=\"scale(0.015625)\"/>\n      <path id=\"STIXGeneral-Italic-69\" d=\"M 1690 3834 \nQ 1690 3699 1597 3603 \nQ 1504 3507 1376 3507 \nQ 1235 3507 1152 3600 \nQ 1069 3693 1069 3846 \nQ 1069 3994 1155 4090 \nQ 1242 4186 1370 4186 \nQ 1498 4186 1594 4080 \nQ 1690 3974 1690 3834 \nz\nM 1421 730 \nL 1504 659 \nQ 1235 243 1049 86 \nQ 864 -70 627 -70 \nQ 314 -70 314 282 \nQ 314 467 454 992 \nL 762 2125 \nQ 819 2330 819 2406 \nQ 819 2502 745 2528 \nQ 672 2554 410 2560 \nL 410 2662 \nQ 704 2688 1434 2822 \nL 1459 2803 \nL 858 608 \nQ 794 390 794 326 \nQ 794 230 883 230 \nQ 1043 230 1421 730 \nz\n\" transform=\"scale(0.015625)\"/>\n      <path id=\"STIXGeneral-Regular-3d\" d=\"M 4077 2048 \nL 307 2048 \nL 307 2470 \nL 4077 2470 \nL 4077 2048 \nz\nM 4077 768 \nL 307 768 \nL 307 1190 \nL 4077 1190 \nL 4077 768 \nz\n\" transform=\"scale(0.015625)\"/>\n      <path id=\"STIXGeneral-Regular-2c\" d=\"M 531 -902 \nL 467 -781 \nQ 998 -422 998 -96 \nQ 998 -13 909 -13 \nQ 883 -13 822 -25 \nQ 762 -38 723 -38 \nQ 352 -38 352 288 \nQ 352 454 457 553 \nQ 563 653 736 653 \nQ 954 653 1101 496 \nQ 1248 339 1248 96 \nQ 1248 -198 1053 -473 \nQ 858 -749 531 -902 \nz\n\" transform=\"scale(0.015625)\"/>\n     </defs>\n     <use xlink:href=\"#STIXGeneral-Italic-42\" transform=\"translate(0 0.40625)\"/>\n     <use xlink:href=\"#STIXGeneral-Italic-69\" transform=\"translate(61.099991 -12.821875) scale(0.7)\"/>\n     <use xlink:href=\"#STIXGeneral-Regular-3d\" transform=\"translate(99.409354 0.40625)\"/>\n     <use xlink:href=\"#STIXGeneral-Regular-28\" transform=\"translate(182.349335 0.40625)\"/>\n     <use xlink:href=\"#STIXGeneral-Regular-30\" transform=\"translate(215.649323 0.40625)\"/>\n     <use xlink:href=\"#STIXGeneral-Regular-2e\" transform=\"translate(265.649307 0.40625)\"/>\n     <use xlink:href=\"#STIXGeneral-Regular-30\" transform=\"translate(290.649292 0.40625)\"/>\n     <use xlink:href=\"#STIXGeneral-Regular-31\" transform=\"translate(340.649277 0.40625)\"/>\n     <use xlink:href=\"#STIXGeneral-Regular-2c\" transform=\"translate(390.649261 0.40625)\"/>\n     <use xlink:href=\"#STIXGeneral-Regular-29\" transform=\"translate(415.649246 0.40625)\"/>\n    </g>\n   </g>\n   <g id=\"legend_1\">\n    <g id=\"patch_7\">\n     <path d=\"M 66.7296 71.74575 \nL 174.05835 71.74575 \nL 174.05835 37.137 \nL 66.7296 37.137 \nz\n\" style=\"fill: #ffffff; stroke: #000000; stroke-linejoin: miter\"/>\n    </g>\n    <g id=\"line2d_45\">\n     <path d=\"M 75.1296 46.137 \nL 102.7296 46.137 \n\" style=\"fill: none; stroke-dasharray: 6,0; stroke-dashoffset: 0; stroke: #1f77b4; stroke-width: 1.5\"/>\n    </g>\n    <g id=\"text_19\">\n     <!-- $n_\\mathrm{rows}=1$ -->\n     <g transform=\"translate(115.9296 50.337) scale(0.12 -0.12)\">\n      <defs>\n       <path id=\"STIXGeneral-Italic-6e\" d=\"M 2944 749 \nL 3034 666 \nQ 2707 218 2534 80 \nQ 2362 -58 2138 -58 \nQ 2010 -58 1923 28 \nQ 1837 115 1837 288 \nQ 1837 390 1939 768 \nL 2221 1805 \nQ 2310 2150 2310 2310 \nQ 2310 2496 2157 2496 \nQ 1971 2496 1750 2275 \nQ 1530 2054 1210 1587 \nQ 998 1274 899 1024 \nQ 800 774 570 0 \nL 90 0 \nL 704 2240 \nQ 717 2304 717 2349 \nQ 717 2445 630 2480 \nQ 544 2515 301 2522 \nL 301 2624 \nQ 550 2675 857 2729 \nQ 1165 2784 1338 2822 \nL 1363 2810 \nL 934 1414 \nQ 1408 2170 1753 2496 \nQ 2099 2822 2413 2822 \nQ 2611 2822 2720 2716 \nQ 2829 2611 2829 2432 \nQ 2829 2272 2765 2048 \nL 2406 749 \nQ 2317 429 2317 358 \nQ 2317 243 2419 243 \nQ 2541 243 2810 582 \nQ 2854 634 2944 749 \nz\n\" transform=\"scale(0.015625)\"/>\n       <path id=\"STIXGeneral-Regular-72\" d=\"M 1024 2931 \nL 1024 2342 \nQ 1267 2688 1430 2816 \nQ 1594 2944 1792 2944 \nQ 1958 2944 2051 2854 \nQ 2144 2765 2144 2605 \nQ 2144 2470 2077 2393 \nQ 2010 2317 1894 2317 \nQ 1773 2317 1638 2445 \nQ 1536 2541 1472 2541 \nQ 1338 2541 1181 2355 \nQ 1024 2170 1024 2016 \nL 1024 576 \nQ 1024 301 1133 205 \nQ 1242 109 1568 96 \nL 1568 0 \nL 32 0 \nL 32 96 \nQ 339 154 412 224 \nQ 486 294 486 538 \nL 486 2138 \nQ 486 2349 438 2435 \nQ 390 2522 269 2522 \nQ 166 2522 45 2496 \nL 45 2598 \nQ 448 2726 992 2944 \nL 1024 2931 \nz\n\" transform=\"scale(0.015625)\"/>\n       <path id=\"STIXGeneral-Regular-6f\" d=\"M 3008 1478 \nQ 3008 806 2608 371 \nQ 2208 -64 1568 -64 \nQ 979 -64 582 368 \nQ 186 800 186 1459 \nQ 186 2125 582 2534 \nQ 979 2944 1626 2944 \nQ 2221 2944 2614 2537 \nQ 3008 2131 3008 1478 \nz\nM 2432 1306 \nQ 2432 2035 2112 2445 \nQ 1856 2765 1504 2765 \nQ 1171 2765 966 2493 \nQ 762 2221 762 1747 \nQ 762 928 1101 435 \nQ 1318 115 1677 115 \nQ 2029 115 2230 432 \nQ 2432 749 2432 1306 \nz\n\" transform=\"scale(0.015625)\"/>\n       <path id=\"STIXGeneral-Regular-77\" d=\"M 4442 2880 \nL 4442 2784 \nQ 4346 2752 4301 2691 \nQ 4256 2630 4179 2438 \nL 3296 224 \nQ 3168 -90 3117 -90 \nQ 3085 -90 3062 -48 \nQ 3040 -6 2963 186 \nL 2381 1696 \nL 1664 160 \nQ 1549 -90 1504 -90 \nQ 1446 -90 1338 192 \nL 474 2381 \nQ 378 2630 314 2700 \nQ 250 2771 134 2784 \nL 134 2880 \nL 1286 2880 \nL 1286 2784 \nQ 1120 2765 1056 2720 \nQ 992 2675 992 2573 \nQ 992 2477 1030 2381 \nL 1664 710 \nL 2246 1984 \nL 2118 2342 \nQ 2029 2598 1942 2681 \nQ 1856 2765 1677 2784 \nL 1677 2880 \nL 2976 2880 \nL 2976 2784 \nQ 2752 2752 2678 2707 \nQ 2605 2662 2605 2560 \nQ 2605 2458 2714 2176 \nL 3251 742 \nL 3827 2163 \nQ 3936 2432 3936 2592 \nQ 3936 2669 3875 2710 \nQ 3814 2752 3654 2784 \nL 3654 2880 \nL 4442 2880 \nz\n\" transform=\"scale(0.015625)\"/>\n       <path id=\"STIXGeneral-Regular-73\" d=\"M 998 1926 \nL 1664 1523 \nQ 1984 1331 2105 1164 \nQ 2227 998 2227 736 \nQ 2227 416 1961 176 \nQ 1696 -64 1331 -64 \nQ 1030 -64 864 -6 \nQ 691 51 570 51 \nQ 461 51 416 -26 \nL 333 -26 \nL 333 979 \nL 435 979 \nQ 538 512 730 294 \nQ 922 77 1248 77 \nQ 1485 77 1632 211 \nQ 1779 346 1779 550 \nQ 1779 845 1440 1030 \nL 1094 1222 \nQ 326 1651 326 2150 \nQ 326 2522 566 2730 \nQ 806 2938 1210 2938 \nQ 1491 2938 1638 2867 \nQ 1754 2816 1818 2816 \nQ 1862 2816 1920 2880 \nL 1990 2880 \nL 2022 2010 \nL 1926 2010 \nQ 1818 2445 1654 2621 \nQ 1491 2797 1203 2797 \nQ 986 2797 854 2688 \nQ 723 2579 723 2362 \nQ 723 2253 796 2128 \nQ 870 2003 998 1926 \nz\n\" transform=\"scale(0.015625)\"/>\n      </defs>\n      <use xlink:href=\"#STIXGeneral-Italic-6e\" transform=\"translate(0 0.40625)\"/>\n      <use xlink:href=\"#STIXGeneral-Regular-72\" transform=\"translate(49.999985 -12.821875) scale(0.7)\"/>\n      <use xlink:href=\"#STIXGeneral-Regular-6f\" transform=\"translate(73.309976 -12.821875) scale(0.7)\"/>\n      <use xlink:href=\"#STIXGeneral-Regular-77\" transform=\"translate(108.309966 -12.821875) scale(0.7)\"/>\n      <use xlink:href=\"#STIXGeneral-Regular-73\" transform=\"translate(158.849953 -12.821875) scale(0.7)\"/>\n      <use xlink:href=\"#STIXGeneral-Regular-3d\" transform=\"translate(204.92932 0.40625)\"/>\n      <use xlink:href=\"#STIXGeneral-Regular-31\" transform=\"translate(287.869301 0.40625)\"/>\n     </g>\n    </g>\n    <g id=\"line2d_46\">\n     <path d=\"M 75.1296 60.141375 \nL 102.7296 60.141375 \n\" style=\"fill: none; stroke-dasharray: 6,2; stroke-dashoffset: 0; stroke: #ff7f0e; stroke-width: 1.5\"/>\n    </g>\n    <g id=\"text_20\">\n     <!-- frictionless -->\n     <g transform=\"translate(115.9296 64.341375) scale(0.12 -0.12)\">\n      <defs>\n       <path id=\"STIXGeneral-Regular-66\" d=\"M 134 2880 \nL 659 2880 \nQ 666 3264 710 3478 \nQ 755 3693 883 3910 \nQ 1152 4371 1786 4371 \nQ 2074 4371 2262 4259 \nQ 2451 4147 2451 3974 \nQ 2451 3866 2374 3789 \nQ 2298 3712 2182 3712 \nQ 2029 3712 1894 3942 \nQ 1741 4192 1555 4192 \nQ 1197 4192 1197 3622 \nL 1197 2880 \nL 1978 2880 \nL 1978 2675 \nL 1197 2675 \nL 1197 666 \nQ 1197 307 1299 208 \nQ 1402 109 1792 96 \nL 1792 0 \nL 128 0 \nL 128 96 \nQ 474 115 566 214 \nQ 659 314 659 666 \nL 659 2675 \nL 134 2675 \nL 134 2880 \nz\n\" transform=\"scale(0.015625)\"/>\n       <path id=\"STIXGeneral-Regular-69\" d=\"M 1152 4045 \nQ 1152 3904 1056 3811 \nQ 960 3718 819 3718 \nQ 685 3718 592 3811 \nQ 499 3904 499 4045 \nQ 499 4179 595 4275 \nQ 691 4371 826 4371 \nQ 966 4371 1059 4275 \nQ 1152 4179 1152 4045 \nz\nM 1619 0 \nL 102 0 \nL 102 96 \nQ 435 115 521 211 \nQ 608 307 608 666 \nL 608 2118 \nQ 608 2342 563 2432 \nQ 518 2522 397 2522 \nQ 243 2522 128 2490 \nL 128 2592 \nL 1120 2944 \nL 1146 2918 \nL 1146 672 \nQ 1146 314 1226 218 \nQ 1306 122 1619 96 \nL 1619 0 \nz\n\" transform=\"scale(0.015625)\"/>\n       <path id=\"STIXGeneral-Regular-63\" d=\"M 2547 998 \nL 2637 941 \nQ 2362 403 2112 205 \nQ 1786 -64 1376 -64 \nQ 845 -64 502 336 \nQ 160 736 160 1357 \nQ 160 2170 698 2618 \nQ 1094 2944 1562 2944 \nQ 1965 2944 2256 2749 \nQ 2547 2554 2547 2285 \nQ 2547 2176 2457 2096 \nQ 2368 2016 2246 2016 \nQ 2022 2016 1939 2310 \nL 1901 2451 \nQ 1850 2630 1773 2694 \nQ 1696 2758 1523 2758 \nQ 1133 2758 893 2451 \nQ 653 2144 653 1645 \nQ 653 1094 928 745 \nQ 1203 397 1645 397 \nQ 1920 397 2118 528 \nQ 2317 659 2547 998 \nz\n\" transform=\"scale(0.015625)\"/>\n       <path id=\"STIXGeneral-Regular-74\" d=\"M 1702 493 \nL 1786 422 \nQ 1478 -64 1011 -64 \nQ 448 -64 448 749 \nL 448 2675 \nL 109 2675 \nQ 83 2694 83 2720 \nQ 83 2771 192 2842 \nQ 435 2982 813 3526 \nQ 826 3546 874 3606 \nQ 922 3667 941 3706 \nQ 986 3706 986 3622 \nL 986 2880 \nL 1632 2880 \nL 1632 2675 \nL 986 2675 \nL 986 845 \nQ 986 538 1062 403 \nQ 1139 269 1318 269 \nQ 1510 269 1702 493 \nz\n\" transform=\"scale(0.015625)\"/>\n       <path id=\"STIXGeneral-Regular-6e\" d=\"M 3104 0 \nL 1773 0 \nL 1779 96 \nQ 2016 115 2096 233 \nQ 2176 352 2176 672 \nL 2176 1946 \nQ 2176 2592 1709 2592 \nQ 1549 2592 1408 2515 \nQ 1267 2438 1050 2227 \nL 1050 461 \nQ 1050 269 1136 192 \nQ 1222 115 1466 96 \nL 1466 0 \nL 115 0 \nL 115 96 \nQ 358 115 435 214 \nQ 512 314 512 602 \nL 512 2157 \nQ 512 2394 467 2483 \nQ 422 2573 288 2573 \nQ 160 2573 102 2547 \nL 102 2656 \nQ 550 2784 979 2944 \nL 1030 2925 \nL 1030 2426 \nL 1037 2426 \nQ 1491 2944 1958 2944 \nQ 2323 2944 2518 2688 \nQ 2714 2432 2714 1958 \nL 2714 544 \nQ 2714 288 2790 205 \nQ 2867 122 3104 96 \nL 3104 0 \nz\n\" transform=\"scale(0.015625)\"/>\n       <path id=\"STIXGeneral-Regular-6c\" d=\"M 1645 0 \nL 134 0 \nL 134 96 \nQ 435 122 531 221 \nQ 627 320 627 589 \nL 627 3590 \nQ 627 3821 569 3910 \nQ 512 4000 358 4000 \nQ 224 4000 122 3987 \nL 122 4090 \nQ 730 4237 1133 4371 \nL 1165 4346 \nL 1165 557 \nQ 1165 288 1254 201 \nQ 1344 115 1645 96 \nL 1645 0 \nz\n\" transform=\"scale(0.015625)\"/>\n       <path id=\"STIXGeneral-Regular-65\" d=\"M 2611 1050 \nL 2714 1005 \nQ 2330 -64 1376 -64 \nQ 813 -64 486 329 \nQ 160 723 160 1389 \nQ 160 2074 525 2509 \nQ 890 2944 1485 2944 \nQ 2061 2944 2374 2502 \nQ 2560 2246 2592 1773 \nL 621 1773 \nQ 646 1370 700 1158 \nQ 755 947 915 730 \nQ 1184 378 1626 378 \nQ 1939 378 2153 531 \nQ 2368 685 2611 1050 \nz\nM 634 1978 \nL 1939 1978 \nQ 1882 2381 1750 2547 \nQ 1619 2714 1312 2714 \nQ 1043 2714 864 2525 \nQ 685 2336 634 1978 \nz\n\" transform=\"scale(0.015625)\"/>\n      </defs>\n      <use xlink:href=\"#STIXGeneral-Regular-66\"/>\n      <use xlink:href=\"#STIXGeneral-Regular-72\" transform=\"translate(33.299988 0)\"/>\n      <use xlink:href=\"#STIXGeneral-Regular-69\" transform=\"translate(66.599976 0)\"/>\n      <use xlink:href=\"#STIXGeneral-Regular-63\" transform=\"translate(94.399963 0)\"/>\n      <use xlink:href=\"#STIXGeneral-Regular-74\" transform=\"translate(138.799957 0)\"/>\n      <use xlink:href=\"#STIXGeneral-Regular-69\" transform=\"translate(166.599945 0)\"/>\n      <use xlink:href=\"#STIXGeneral-Regular-6f\" transform=\"translate(194.399933 0)\"/>\n      <use xlink:href=\"#STIXGeneral-Regular-6e\" transform=\"translate(244.399918 0)\"/>\n      <use xlink:href=\"#STIXGeneral-Regular-6c\" transform=\"translate(294.399902 0)\"/>\n      <use xlink:href=\"#STIXGeneral-Regular-65\" transform=\"translate(322.19989 0)\"/>\n      <use xlink:href=\"#STIXGeneral-Regular-73\" transform=\"translate(366.599884 0)\"/>\n      <use xlink:href=\"#STIXGeneral-Regular-73\" transform=\"translate(405.499878 0)\"/>\n     </g>\n    </g>\n   </g>\n  </g>\n  <g id=\"axes_2\">\n   <g id=\"patch_8\">\n    <path d=\"M 454.3296 293.577 \nL 769.2096 293.577 \nL 769.2096 31.137 \nL 454.3296 31.137 \nz\n\" style=\"fill: #ffffff\"/>\n   </g>\n   <g id=\"line2d_47\">\n    <path d=\"M 454.3296 293.577 \nL 456.697119 293.506465 \nL 457.486292 293.322796 \nL 458.275465 292.966072 \nL 459.064638 292.423688 \nL 460.642983 290.896984 \nL 466.167194 284.784397 \nL 467.74554 283.440342 \nL 469.323886 282.35691 \nL 470.902232 281.531986 \nL 472.480577 280.947887 \nL 474.058923 280.574014 \nL 476.426442 280.314316 \nL 480.372307 280.261713 \nL 482.739826 280.221089 \nL 484.318171 279.987788 \nL 485.107344 279.730821 \nL 485.896517 279.352446 \nL 487.474863 278.206822 \nL 489.053209 276.584467 \nL 490.631555 274.589989 \nL 492.999074 271.139691 \nL 500.890803 258.974934 \nL 503.258322 255.928406 \nL 504.836668 254.189152 \nL 506.415014 252.710162 \nL 507.993359 251.501243 \nL 509.571705 250.559938 \nL 511.150051 249.871483 \nL 512.728397 249.409226 \nL 514.306743 249.135574 \nL 516.674262 248.974636 \nL 522.987645 248.822234 \nL 524.565991 248.384986 \nL 525.355164 247.990649 \nL 526.93351 246.813129 \nL 528.511856 245.164196 \nL 530.090202 243.150293 \nL 532.45772 239.682704 \nL 540.34945 227.533418 \nL 542.716968 224.507152 \nL 544.295314 222.78365 \nL 545.87366 221.321378 \nL 547.452006 220.129386 \nL 549.030352 219.204443 \nL 550.608698 218.531026 \nL 552.187044 218.081763 \nL 553.765389 217.818429 \nL 556.132908 217.666949 \nL 562.446292 217.501124 \nL 564.024638 217.037366 \nL 564.813811 216.626901 \nL 566.392156 215.417588 \nL 567.970502 213.74246 \nL 569.548848 211.70954 \nL 571.916367 208.225178 \nL 579.808096 196.092551 \nL 582.175615 193.08675 \nL 583.753961 191.379082 \nL 585.332307 189.933563 \nL 586.910653 188.758485 \nL 588.488998 187.849843 \nL 590.067344 187.191356 \nL 591.64569 186.75494 \nL 593.224036 186.501736 \nL 595.591555 186.3594 \nL 601.904938 186.17865 \nL 603.483284 185.687757 \nL 604.272457 185.26109 \nL 605.850803 184.02023 \nL 607.429149 182.319368 \nL 609.007495 180.267873 \nL 611.375014 176.767273 \nL 618.47757 165.750896 \nL 620.845089 162.60623 \nL 622.423435 160.789542 \nL 624.00178 159.227598 \nL 625.580126 157.933965 \nL 627.158472 156.910042 \nL 628.736818 156.144889 \nL 630.315164 155.615495 \nL 631.89351 155.287544 \nL 634.261029 155.074627 \nL 641.363585 154.854895 \nL 642.941931 154.336263 \nL 643.731104 153.893334 \nL 645.30945 152.621183 \nL 646.887795 150.895042 \nL 648.466141 148.825408 \nL 650.83366 145.309094 \nL 657.936217 134.305949 \nL 660.303735 131.180475 \nL 661.882081 129.379088 \nL 663.460427 127.83364 \nL 665.038773 126.556951 \nL 666.617119 125.54965 \nL 668.195465 124.800028 \nL 669.773811 124.28434 \nL 671.352156 123.967604 \nL 673.719675 123.765706 \nL 680.822232 123.529878 \nL 681.611405 123.314111 \nL 682.400577 122.982925 \nL 683.18975 122.523685 \nL 684.768096 121.22051 \nL 686.346442 119.469541 \nL 687.924788 117.382193 \nL 690.292307 113.850684 \nL 697.394863 102.861854 \nL 699.762382 99.755794 \nL 701.340728 97.969803 \nL 702.919074 96.440902 \nL 704.49742 95.181159 \nL 706.075765 94.190433 \nL 707.654111 93.45625 \nL 709.232457 92.954132 \nL 710.810803 92.648435 \nL 713.178322 92.457244 \nL 720.280878 92.203555 \nL 721.070051 91.974426 \nL 721.859224 91.62772 \nL 722.648397 91.152133 \nL 724.226743 89.81821 \nL 725.805089 88.042859 \nL 727.383435 85.938217 \nL 729.750953 82.392023 \nL 736.85351 71.418582 \nL 739.221029 68.332153 \nL 740.799374 66.561652 \nL 742.37772 65.049344 \nL 743.956066 63.806547 \nL 745.534412 62.832347 \nL 747.112758 62.113507 \nL 748.691104 61.624819 \nL 750.26945 61.329984 \nL 752.636968 61.14919 \nL 758.950352 61.019267 \nL 760.528698 60.632976 \nL 761.317871 60.270562 \nL 762.896217 59.157216 \nL 764.474562 57.562009 \nL 766.052908 55.587471 \nL 768.420427 52.155046 \nL 769.2096 50.933025 \nL 769.2096 50.933025 \n\" clip-path=\"url(#pb2fc4fac5a)\" style=\"fill: none; stroke-dasharray: 6,0; stroke-dashoffset: 0; stroke: #1f77b4; stroke-width: 1.5\"/>\n   </g>\n   <g id=\"patch_9\">\n    <path d=\"M 454.3296 293.577 \nL 454.3296 31.137 \n\" style=\"fill: none; stroke: #000000; stroke-linejoin: miter; stroke-linecap: square\"/>\n   </g>\n   <g id=\"patch_10\">\n    <path d=\"M 769.2096 293.577 \nL 769.2096 31.137 \n\" style=\"fill: none; stroke: #000000; stroke-linejoin: miter; stroke-linecap: square\"/>\n   </g>\n   <g id=\"patch_11\">\n    <path d=\"M 454.3296 293.577 \nL 769.2096 293.577 \n\" style=\"fill: none; stroke: #000000; stroke-linejoin: miter; stroke-linecap: square\"/>\n   </g>\n   <g id=\"patch_12\">\n    <path d=\"M 454.3296 31.137 \nL 769.2096 31.137 \n\" style=\"fill: none; stroke: #000000; stroke-linejoin: miter; stroke-linecap: square\"/>\n   </g>\n   <g id=\"matplotlib.axis_3\">\n    <g id=\"xtick_10\">\n     <g id=\"line2d_48\">\n      <path d=\"M 454.3296 293.577 \nL 454.3296 31.137 \n\" clip-path=\"url(#pb2fc4fac5a)\" style=\"fill: none; stroke-dasharray: 1,3; stroke-dashoffset: 0; stroke: #000000; stroke-width: 0.5\"/>\n     </g>\n     <g id=\"line2d_49\">\n      <g>\n       <use xlink:href=\"#m6fbc9a6711\" x=\"454.3296\" y=\"293.577\" style=\"stroke: #000000; stroke-width: 0.5\"/>\n      </g>\n     </g>\n     <g id=\"line2d_50\">\n      <g>\n       <use xlink:href=\"#m2e659f7b89\" x=\"454.3296\" y=\"31.137\" style=\"stroke: #000000; stroke-width: 0.5\"/>\n      </g>\n     </g>\n     <g id=\"text_21\">\n      <!-- 0.0 -->\n      <g transform=\"translate(445.3296 307.41175) scale(0.144 -0.144)\">\n       <use xlink:href=\"#STIXGeneral-Regular-30\"/>\n       <use xlink:href=\"#STIXGeneral-Regular-2e\" transform=\"translate(49.999985 0)\"/>\n       <use xlink:href=\"#STIXGeneral-Regular-30\" transform=\"translate(74.999969 0)\"/>\n      </g>\n     </g>\n    </g>\n    <g id=\"xtick_11\">\n     <g id=\"line2d_51\">\n      <path d=\"M 493.6896 293.577 \nL 493.6896 31.137 \n\" clip-path=\"url(#pb2fc4fac5a)\" style=\"fill: none; stroke-dasharray: 1,3; stroke-dashoffset: 0; stroke: #000000; stroke-width: 0.5\"/>\n     </g>\n     <g id=\"line2d_52\">\n      <g>\n       <use xlink:href=\"#m6fbc9a6711\" x=\"493.6896\" y=\"293.577\" style=\"stroke: #000000; stroke-width: 0.5\"/>\n      </g>\n     </g>\n     <g id=\"line2d_53\">\n      <g>\n       <use xlink:href=\"#m2e659f7b89\" x=\"493.6896\" y=\"31.137\" style=\"stroke: #000000; stroke-width: 0.5\"/>\n      </g>\n     </g>\n     <g id=\"text_22\">\n      <!-- 0.5 -->\n      <g transform=\"translate(484.6896 307.41175) scale(0.144 -0.144)\">\n       <use xlink:href=\"#STIXGeneral-Regular-30\"/>\n       <use xlink:href=\"#STIXGeneral-Regular-2e\" transform=\"translate(49.999985 0)\"/>\n       <use xlink:href=\"#STIXGeneral-Regular-35\" transform=\"translate(74.999969 0)\"/>\n      </g>\n     </g>\n    </g>\n    <g id=\"xtick_12\">\n     <g id=\"line2d_54\">\n      <path d=\"M 533.0496 293.577 \nL 533.0496 31.137 \n\" clip-path=\"url(#pb2fc4fac5a)\" style=\"fill: none; stroke-dasharray: 1,3; stroke-dashoffset: 0; stroke: #000000; stroke-width: 0.5\"/>\n     </g>\n     <g id=\"line2d_55\">\n      <g>\n       <use xlink:href=\"#m6fbc9a6711\" x=\"533.0496\" y=\"293.577\" style=\"stroke: #000000; stroke-width: 0.5\"/>\n      </g>\n     </g>\n     <g id=\"line2d_56\">\n      <g>\n       <use xlink:href=\"#m2e659f7b89\" x=\"533.0496\" y=\"31.137\" style=\"stroke: #000000; stroke-width: 0.5\"/>\n      </g>\n     </g>\n     <g id=\"text_23\">\n      <!-- 1.0 -->\n      <g transform=\"translate(524.0496 307.41175) scale(0.144 -0.144)\">\n       <use xlink:href=\"#STIXGeneral-Regular-31\"/>\n       <use xlink:href=\"#STIXGeneral-Regular-2e\" transform=\"translate(49.999985 0)\"/>\n       <use xlink:href=\"#STIXGeneral-Regular-30\" transform=\"translate(74.999969 0)\"/>\n      </g>\n     </g>\n    </g>\n    <g id=\"xtick_13\">\n     <g id=\"line2d_57\">\n      <path d=\"M 572.4096 293.577 \nL 572.4096 31.137 \n\" clip-path=\"url(#pb2fc4fac5a)\" style=\"fill: none; stroke-dasharray: 1,3; stroke-dashoffset: 0; stroke: #000000; stroke-width: 0.5\"/>\n     </g>\n     <g id=\"line2d_58\">\n      <g>\n       <use xlink:href=\"#m6fbc9a6711\" x=\"572.4096\" y=\"293.577\" style=\"stroke: #000000; stroke-width: 0.5\"/>\n      </g>\n     </g>\n     <g id=\"line2d_59\">\n      <g>\n       <use xlink:href=\"#m2e659f7b89\" x=\"572.4096\" y=\"31.137\" style=\"stroke: #000000; stroke-width: 0.5\"/>\n      </g>\n     </g>\n     <g id=\"text_24\">\n      <!-- 1.5 -->\n      <g transform=\"translate(563.4096 307.41175) scale(0.144 -0.144)\">\n       <use xlink:href=\"#STIXGeneral-Regular-31\"/>\n       <use xlink:href=\"#STIXGeneral-Regular-2e\" transform=\"translate(49.999985 0)\"/>\n       <use xlink:href=\"#STIXGeneral-Regular-35\" transform=\"translate(74.999969 0)\"/>\n      </g>\n     </g>\n    </g>\n    <g id=\"xtick_14\">\n     <g id=\"line2d_60\">\n      <path d=\"M 611.7696 293.577 \nL 611.7696 31.137 \n\" clip-path=\"url(#pb2fc4fac5a)\" style=\"fill: none; stroke-dasharray: 1,3; stroke-dashoffset: 0; stroke: #000000; stroke-width: 0.5\"/>\n     </g>\n     <g id=\"line2d_61\">\n      <g>\n       <use xlink:href=\"#m6fbc9a6711\" x=\"611.7696\" y=\"293.577\" style=\"stroke: #000000; stroke-width: 0.5\"/>\n      </g>\n     </g>\n     <g id=\"line2d_62\">\n      <g>\n       <use xlink:href=\"#m2e659f7b89\" x=\"611.7696\" y=\"31.137\" style=\"stroke: #000000; stroke-width: 0.5\"/>\n      </g>\n     </g>\n     <g id=\"text_25\">\n      <!-- 2.0 -->\n      <g transform=\"translate(602.7696 307.41175) scale(0.144 -0.144)\">\n       <use xlink:href=\"#STIXGeneral-Regular-32\"/>\n       <use xlink:href=\"#STIXGeneral-Regular-2e\" transform=\"translate(49.999985 0)\"/>\n       <use xlink:href=\"#STIXGeneral-Regular-30\" transform=\"translate(74.999969 0)\"/>\n      </g>\n     </g>\n    </g>\n    <g id=\"xtick_15\">\n     <g id=\"line2d_63\">\n      <path d=\"M 651.1296 293.577 \nL 651.1296 31.137 \n\" clip-path=\"url(#pb2fc4fac5a)\" style=\"fill: none; stroke-dasharray: 1,3; stroke-dashoffset: 0; stroke: #000000; stroke-width: 0.5\"/>\n     </g>\n     <g id=\"line2d_64\">\n      <g>\n       <use xlink:href=\"#m6fbc9a6711\" x=\"651.1296\" y=\"293.577\" style=\"stroke: #000000; stroke-width: 0.5\"/>\n      </g>\n     </g>\n     <g id=\"line2d_65\">\n      <g>\n       <use xlink:href=\"#m2e659f7b89\" x=\"651.1296\" y=\"31.137\" style=\"stroke: #000000; stroke-width: 0.5\"/>\n      </g>\n     </g>\n     <g id=\"text_26\">\n      <!-- 2.5 -->\n      <g transform=\"translate(642.1296 307.41175) scale(0.144 -0.144)\">\n       <use xlink:href=\"#STIXGeneral-Regular-32\"/>\n       <use xlink:href=\"#STIXGeneral-Regular-2e\" transform=\"translate(49.999985 0)\"/>\n       <use xlink:href=\"#STIXGeneral-Regular-35\" transform=\"translate(74.999969 0)\"/>\n      </g>\n     </g>\n    </g>\n    <g id=\"xtick_16\">\n     <g id=\"line2d_66\">\n      <path d=\"M 690.4896 293.577 \nL 690.4896 31.137 \n\" clip-path=\"url(#pb2fc4fac5a)\" style=\"fill: none; stroke-dasharray: 1,3; stroke-dashoffset: 0; stroke: #000000; stroke-width: 0.5\"/>\n     </g>\n     <g id=\"line2d_67\">\n      <g>\n       <use xlink:href=\"#m6fbc9a6711\" x=\"690.4896\" y=\"293.577\" style=\"stroke: #000000; stroke-width: 0.5\"/>\n      </g>\n     </g>\n     <g id=\"line2d_68\">\n      <g>\n       <use xlink:href=\"#m2e659f7b89\" x=\"690.4896\" y=\"31.137\" style=\"stroke: #000000; stroke-width: 0.5\"/>\n      </g>\n     </g>\n     <g id=\"text_27\">\n      <!-- 3.0 -->\n      <g transform=\"translate(681.4896 307.41175) scale(0.144 -0.144)\">\n       <use xlink:href=\"#STIXGeneral-Regular-33\"/>\n       <use xlink:href=\"#STIXGeneral-Regular-2e\" transform=\"translate(49.999985 0)\"/>\n       <use xlink:href=\"#STIXGeneral-Regular-30\" transform=\"translate(74.999969 0)\"/>\n      </g>\n     </g>\n    </g>\n    <g id=\"xtick_17\">\n     <g id=\"line2d_69\">\n      <path d=\"M 729.8496 293.577 \nL 729.8496 31.137 \n\" clip-path=\"url(#pb2fc4fac5a)\" style=\"fill: none; stroke-dasharray: 1,3; stroke-dashoffset: 0; stroke: #000000; stroke-width: 0.5\"/>\n     </g>\n     <g id=\"line2d_70\">\n      <g>\n       <use xlink:href=\"#m6fbc9a6711\" x=\"729.8496\" y=\"293.577\" style=\"stroke: #000000; stroke-width: 0.5\"/>\n      </g>\n     </g>\n     <g id=\"line2d_71\">\n      <g>\n       <use xlink:href=\"#m2e659f7b89\" x=\"729.8496\" y=\"31.137\" style=\"stroke: #000000; stroke-width: 0.5\"/>\n      </g>\n     </g>\n     <g id=\"text_28\">\n      <!-- 3.5 -->\n      <g transform=\"translate(720.8496 307.41175) scale(0.144 -0.144)\">\n       <use xlink:href=\"#STIXGeneral-Regular-33\"/>\n       <use xlink:href=\"#STIXGeneral-Regular-2e\" transform=\"translate(49.999985 0)\"/>\n       <use xlink:href=\"#STIXGeneral-Regular-35\" transform=\"translate(74.999969 0)\"/>\n      </g>\n     </g>\n    </g>\n    <g id=\"xtick_18\">\n     <g id=\"line2d_72\">\n      <path d=\"M 769.2096 293.577 \nL 769.2096 31.137 \n\" clip-path=\"url(#pb2fc4fac5a)\" style=\"fill: none; stroke-dasharray: 1,3; stroke-dashoffset: 0; stroke: #000000; stroke-width: 0.5\"/>\n     </g>\n     <g id=\"line2d_73\">\n      <g>\n       <use xlink:href=\"#m6fbc9a6711\" x=\"769.2096\" y=\"293.577\" style=\"stroke: #000000; stroke-width: 0.5\"/>\n      </g>\n     </g>\n     <g id=\"line2d_74\">\n      <g>\n       <use xlink:href=\"#m2e659f7b89\" x=\"769.2096\" y=\"31.137\" style=\"stroke: #000000; stroke-width: 0.5\"/>\n      </g>\n     </g>\n     <g id=\"text_29\">\n      <!-- 4.0 -->\n      <g transform=\"translate(760.2096 307.41175) scale(0.144 -0.144)\">\n       <use xlink:href=\"#STIXGeneral-Regular-34\"/>\n       <use xlink:href=\"#STIXGeneral-Regular-2e\" transform=\"translate(49.999985 0)\"/>\n       <use xlink:href=\"#STIXGeneral-Regular-30\" transform=\"translate(74.999969 0)\"/>\n      </g>\n     </g>\n    </g>\n    <g id=\"text_30\">\n     <!-- $t^*\\!/\\,(2\\pi)$ [-] -->\n     <g transform=\"translate(578.4896 328.2245) scale(0.16 -0.16)\">\n      <use xlink:href=\"#STIXGeneral-Italic-74\" transform=\"translate(0 0.409375)\"/>\n      <use xlink:href=\"#STIXGeneral-Regular-2a\" transform=\"translate(46.28611 35.684375) scale(0.7)\"/>\n      <use xlink:href=\"#STIXGeneral-Regular-2f\" transform=\"translate(83.769901 0.409375)\"/>\n      <use xlink:href=\"#STIXGeneral-Regular-28\" transform=\"translate(123.60346 0.409375)\"/>\n      <use xlink:href=\"#STIXGeneral-Regular-32\" transform=\"translate(156.903448 0.409375)\"/>\n      <use xlink:href=\"#STIXGeneral-Italic-3c0\" transform=\"translate(206.903432 0.409375)\"/>\n      <use xlink:href=\"#STIXGeneral-Regular-29\" transform=\"translate(257.303426 0.409375)\"/>\n      <use xlink:href=\"#STIXGeneral-Regular-20\" transform=\"translate(290.603414 0.409375)\"/>\n      <use xlink:href=\"#STIXGeneral-Regular-5b\" transform=\"translate(315.603399 0.409375)\"/>\n      <use xlink:href=\"#STIXGeneral-Regular-2d\" transform=\"translate(348.903387 0.409375)\"/>\n      <use xlink:href=\"#STIXGeneral-Regular-5d\" transform=\"translate(382.203374 0.409375)\"/>\n     </g>\n    </g>\n   </g>\n   <g id=\"matplotlib.axis_4\">\n    <g id=\"ytick_6\">\n     <g id=\"line2d_75\">\n      <path d=\"M 454.3296 293.577 \nL 769.2096 293.577 \n\" clip-path=\"url(#pb2fc4fac5a)\" style=\"fill: none; stroke-dasharray: 1,3; stroke-dashoffset: 0; stroke: #000000; stroke-width: 0.5\"/>\n     </g>\n     <g id=\"line2d_76\">\n      <g>\n       <use xlink:href=\"#me95cf11154\" x=\"454.3296\" y=\"293.577\" style=\"stroke: #000000; stroke-width: 0.5\"/>\n      </g>\n     </g>\n     <g id=\"line2d_77\">\n      <g>\n       <use xlink:href=\"#m85466b347d\" x=\"769.2096\" y=\"293.577\" style=\"stroke: #000000; stroke-width: 0.5\"/>\n      </g>\n     </g>\n     <g id=\"text_31\">\n      <!-- 0.0000 -->\n      <g transform=\"translate(410.7296 296.93175) scale(0.144 -0.144)\">\n       <use xlink:href=\"#STIXGeneral-Regular-30\"/>\n       <use xlink:href=\"#STIXGeneral-Regular-2e\" transform=\"translate(49.999985 0)\"/>\n       <use xlink:href=\"#STIXGeneral-Regular-30\" transform=\"translate(74.999969 0)\"/>\n       <use xlink:href=\"#STIXGeneral-Regular-30\" transform=\"translate(124.999954 0)\"/>\n       <use xlink:href=\"#STIXGeneral-Regular-30\" transform=\"translate(174.999939 0)\"/>\n       <use xlink:href=\"#STIXGeneral-Regular-30\" transform=\"translate(224.999924 0)\"/>\n      </g>\n     </g>\n    </g>\n    <g id=\"ytick_7\">\n     <g id=\"line2d_78\">\n      <path d=\"M 454.3296 249.837 \nL 769.2096 249.837 \n\" clip-path=\"url(#pb2fc4fac5a)\" style=\"fill: none; stroke-dasharray: 1,3; stroke-dashoffset: 0; stroke: #000000; stroke-width: 0.5\"/>\n     </g>\n     <g id=\"line2d_79\">\n      <g>\n       <use xlink:href=\"#me95cf11154\" x=\"454.3296\" y=\"249.837\" style=\"stroke: #000000; stroke-width: 0.5\"/>\n      </g>\n     </g>\n     <g id=\"line2d_80\">\n      <g>\n       <use xlink:href=\"#m85466b347d\" x=\"769.2096\" y=\"249.837\" style=\"stroke: #000000; stroke-width: 0.5\"/>\n      </g>\n     </g>\n     <g id=\"text_32\">\n      <!-- 0.0005 -->\n      <g transform=\"translate(410.7296 253.19175) scale(0.144 -0.144)\">\n       <use xlink:href=\"#STIXGeneral-Regular-30\"/>\n       <use xlink:href=\"#STIXGeneral-Regular-2e\" transform=\"translate(49.999985 0)\"/>\n       <use xlink:href=\"#STIXGeneral-Regular-30\" transform=\"translate(74.999969 0)\"/>\n       <use xlink:href=\"#STIXGeneral-Regular-30\" transform=\"translate(124.999954 0)\"/>\n       <use xlink:href=\"#STIXGeneral-Regular-30\" transform=\"translate(174.999939 0)\"/>\n       <use xlink:href=\"#STIXGeneral-Regular-35\" transform=\"translate(224.999924 0)\"/>\n      </g>\n     </g>\n    </g>\n    <g id=\"ytick_8\">\n     <g id=\"line2d_81\">\n      <path d=\"M 454.3296 206.097 \nL 769.2096 206.097 \n\" clip-path=\"url(#pb2fc4fac5a)\" style=\"fill: none; stroke-dasharray: 1,3; stroke-dashoffset: 0; stroke: #000000; stroke-width: 0.5\"/>\n     </g>\n     <g id=\"line2d_82\">\n      <g>\n       <use xlink:href=\"#me95cf11154\" x=\"454.3296\" y=\"206.097\" style=\"stroke: #000000; stroke-width: 0.5\"/>\n      </g>\n     </g>\n     <g id=\"line2d_83\">\n      <g>\n       <use xlink:href=\"#m85466b347d\" x=\"769.2096\" y=\"206.097\" style=\"stroke: #000000; stroke-width: 0.5\"/>\n      </g>\n     </g>\n     <g id=\"text_33\">\n      <!-- 0.0010 -->\n      <g transform=\"translate(410.7296 209.45175) scale(0.144 -0.144)\">\n       <use xlink:href=\"#STIXGeneral-Regular-30\"/>\n       <use xlink:href=\"#STIXGeneral-Regular-2e\" transform=\"translate(49.999985 0)\"/>\n       <use xlink:href=\"#STIXGeneral-Regular-30\" transform=\"translate(74.999969 0)\"/>\n       <use xlink:href=\"#STIXGeneral-Regular-30\" transform=\"translate(124.999954 0)\"/>\n       <use xlink:href=\"#STIXGeneral-Regular-31\" transform=\"translate(174.999939 0)\"/>\n       <use xlink:href=\"#STIXGeneral-Regular-30\" transform=\"translate(224.999924 0)\"/>\n      </g>\n     </g>\n    </g>\n    <g id=\"ytick_9\">\n     <g id=\"line2d_84\">\n      <path d=\"M 454.3296 162.357 \nL 769.2096 162.357 \n\" clip-path=\"url(#pb2fc4fac5a)\" style=\"fill: none; stroke-dasharray: 1,3; stroke-dashoffset: 0; stroke: #000000; stroke-width: 0.5\"/>\n     </g>\n     <g id=\"line2d_85\">\n      <g>\n       <use xlink:href=\"#me95cf11154\" x=\"454.3296\" y=\"162.357\" style=\"stroke: #000000; stroke-width: 0.5\"/>\n      </g>\n     </g>\n     <g id=\"line2d_86\">\n      <g>\n       <use xlink:href=\"#m85466b347d\" x=\"769.2096\" y=\"162.357\" style=\"stroke: #000000; stroke-width: 0.5\"/>\n      </g>\n     </g>\n     <g id=\"text_34\">\n      <!-- 0.0015 -->\n      <g transform=\"translate(410.7296 165.71175) scale(0.144 -0.144)\">\n       <use xlink:href=\"#STIXGeneral-Regular-30\"/>\n       <use xlink:href=\"#STIXGeneral-Regular-2e\" transform=\"translate(49.999985 0)\"/>\n       <use xlink:href=\"#STIXGeneral-Regular-30\" transform=\"translate(74.999969 0)\"/>\n       <use xlink:href=\"#STIXGeneral-Regular-30\" transform=\"translate(124.999954 0)\"/>\n       <use xlink:href=\"#STIXGeneral-Regular-31\" transform=\"translate(174.999939 0)\"/>\n       <use xlink:href=\"#STIXGeneral-Regular-35\" transform=\"translate(224.999924 0)\"/>\n      </g>\n     </g>\n    </g>\n    <g id=\"ytick_10\">\n     <g id=\"line2d_87\">\n      <path d=\"M 454.3296 118.617 \nL 769.2096 118.617 \n\" clip-path=\"url(#pb2fc4fac5a)\" style=\"fill: none; stroke-dasharray: 1,3; stroke-dashoffset: 0; stroke: #000000; stroke-width: 0.5\"/>\n     </g>\n     <g id=\"line2d_88\">\n      <g>\n       <use xlink:href=\"#me95cf11154\" x=\"454.3296\" y=\"118.617\" style=\"stroke: #000000; stroke-width: 0.5\"/>\n      </g>\n     </g>\n     <g id=\"line2d_89\">\n      <g>\n       <use xlink:href=\"#m85466b347d\" x=\"769.2096\" y=\"118.617\" style=\"stroke: #000000; stroke-width: 0.5\"/>\n      </g>\n     </g>\n     <g id=\"text_35\">\n      <!-- 0.0020 -->\n      <g transform=\"translate(410.7296 121.97175) scale(0.144 -0.144)\">\n       <use xlink:href=\"#STIXGeneral-Regular-30\"/>\n       <use xlink:href=\"#STIXGeneral-Regular-2e\" transform=\"translate(49.999985 0)\"/>\n       <use xlink:href=\"#STIXGeneral-Regular-30\" transform=\"translate(74.999969 0)\"/>\n       <use xlink:href=\"#STIXGeneral-Regular-30\" transform=\"translate(124.999954 0)\"/>\n       <use xlink:href=\"#STIXGeneral-Regular-32\" transform=\"translate(174.999939 0)\"/>\n       <use xlink:href=\"#STIXGeneral-Regular-30\" transform=\"translate(224.999924 0)\"/>\n      </g>\n     </g>\n    </g>\n    <g id=\"ytick_11\">\n     <g id=\"line2d_90\">\n      <path d=\"M 454.3296 74.877 \nL 769.2096 74.877 \n\" clip-path=\"url(#pb2fc4fac5a)\" style=\"fill: none; stroke-dasharray: 1,3; stroke-dashoffset: 0; stroke: #000000; stroke-width: 0.5\"/>\n     </g>\n     <g id=\"line2d_91\">\n      <g>\n       <use xlink:href=\"#me95cf11154\" x=\"454.3296\" y=\"74.877\" style=\"stroke: #000000; stroke-width: 0.5\"/>\n      </g>\n     </g>\n     <g id=\"line2d_92\">\n      <g>\n       <use xlink:href=\"#m85466b347d\" x=\"769.2096\" y=\"74.877\" style=\"stroke: #000000; stroke-width: 0.5\"/>\n      </g>\n     </g>\n     <g id=\"text_36\">\n      <!-- 0.0025 -->\n      <g transform=\"translate(410.7296 78.23175) scale(0.144 -0.144)\">\n       <use xlink:href=\"#STIXGeneral-Regular-30\"/>\n       <use xlink:href=\"#STIXGeneral-Regular-2e\" transform=\"translate(49.999985 0)\"/>\n       <use xlink:href=\"#STIXGeneral-Regular-30\" transform=\"translate(74.999969 0)\"/>\n       <use xlink:href=\"#STIXGeneral-Regular-30\" transform=\"translate(124.999954 0)\"/>\n       <use xlink:href=\"#STIXGeneral-Regular-32\" transform=\"translate(174.999939 0)\"/>\n       <use xlink:href=\"#STIXGeneral-Regular-35\" transform=\"translate(224.999924 0)\"/>\n      </g>\n     </g>\n    </g>\n    <g id=\"ytick_12\">\n     <g id=\"line2d_93\">\n      <path d=\"M 454.3296 31.137 \nL 769.2096 31.137 \n\" clip-path=\"url(#pb2fc4fac5a)\" style=\"fill: none; stroke-dasharray: 1,3; stroke-dashoffset: 0; stroke: #000000; stroke-width: 0.5\"/>\n     </g>\n     <g id=\"line2d_94\">\n      <g>\n       <use xlink:href=\"#me95cf11154\" x=\"454.3296\" y=\"31.137\" style=\"stroke: #000000; stroke-width: 0.5\"/>\n      </g>\n     </g>\n     <g id=\"line2d_95\">\n      <g>\n       <use xlink:href=\"#m85466b347d\" x=\"769.2096\" y=\"31.137\" style=\"stroke: #000000; stroke-width: 0.5\"/>\n      </g>\n     </g>\n     <g id=\"text_37\">\n      <!-- 0.0030 -->\n      <g transform=\"translate(410.7296 34.49175) scale(0.144 -0.144)\">\n       <use xlink:href=\"#STIXGeneral-Regular-30\"/>\n       <use xlink:href=\"#STIXGeneral-Regular-2e\" transform=\"translate(49.999985 0)\"/>\n       <use xlink:href=\"#STIXGeneral-Regular-30\" transform=\"translate(74.999969 0)\"/>\n       <use xlink:href=\"#STIXGeneral-Regular-30\" transform=\"translate(124.999954 0)\"/>\n       <use xlink:href=\"#STIXGeneral-Regular-33\" transform=\"translate(174.999939 0)\"/>\n       <use xlink:href=\"#STIXGeneral-Regular-30\" transform=\"translate(224.999924 0)\"/>\n      </g>\n     </g>\n    </g>\n    <g id=\"text_38\">\n     <!-- $E_\\mathrm{T}^*$ [-] -->\n     <g transform=\"translate(401.4096 182.917) rotate(-90) scale(0.16 -0.16)\">\n      <defs>\n       <path id=\"STIXGeneral-Italic-45\" d=\"M 4058 4179 \nL 3859 3194 \nL 3718 3206 \nQ 3738 3366 3738 3501 \nQ 3738 3789 3501 3878 \nQ 3264 3968 2509 3968 \nQ 2240 3968 2157 3939 \nQ 2074 3910 2042 3802 \nL 1619 2310 \nL 2118 2310 \nQ 2541 2310 2681 2412 \nQ 2822 2515 3008 2931 \nL 3123 2906 \nL 2688 1421 \nL 2560 1453 \nQ 2605 1651 2605 1786 \nQ 2605 1939 2560 1984 \nQ 2451 2080 2061 2080 \nL 1562 2080 \nL 1357 1363 \nQ 1126 550 1126 429 \nQ 1126 211 1632 211 \nQ 2458 211 2931 461 \nQ 3174 589 3533 1088 \nL 3635 1037 \nL 3238 0 \nL -6 0 \nL -6 102 \nQ 269 154 352 227 \nQ 435 301 512 576 \nL 1299 3405 \nQ 1370 3642 1370 3814 \nQ 1370 3942 1270 3996 \nQ 1171 4051 877 4077 \nL 877 4179 \nL 4058 4179 \nz\n\" transform=\"scale(0.015625)\"/>\n       <path id=\"STIXGeneral-Regular-54\" d=\"M 3795 3149 \nL 3642 3149 \nQ 3539 3674 3353 3821 \nQ 3168 3968 2656 3968 \nL 2278 3968 \nL 2278 710 \nQ 2278 346 2387 243 \nQ 2496 141 2893 122 \nL 2893 0 \nL 1024 0 \nL 1024 122 \nQ 1427 147 1526 256 \nQ 1626 365 1626 787 \nL 1626 3968 \nL 1242 3968 \nQ 723 3968 540 3817 \nQ 358 3667 262 3149 \nL 109 3149 \nL 154 4237 \nL 3750 4237 \nL 3795 3149 \nz\n\" transform=\"scale(0.015625)\"/>\n      </defs>\n      <use xlink:href=\"#STIXGeneral-Italic-45\" transform=\"translate(0 0.409375)\"/>\n      <use xlink:href=\"#STIXGeneral-Regular-2a\" transform=\"translate(81.83377 35.684375) scale(0.7)\"/>\n      <use xlink:href=\"#STIXGeneral-Regular-54\" transform=\"translate(61.099991 -26.046875) scale(0.7)\"/>\n      <use xlink:href=\"#STIXGeneral-Regular-20\" transform=\"translate(131.351131 0.409375)\"/>\n      <use xlink:href=\"#STIXGeneral-Regular-5b\" transform=\"translate(156.351116 0.409375)\"/>\n      <use xlink:href=\"#STIXGeneral-Regular-2d\" transform=\"translate(189.651104 0.409375)\"/>\n      <use xlink:href=\"#STIXGeneral-Regular-5d\" transform=\"translate(222.951092 0.409375)\"/>\n     </g>\n    </g>\n   </g>\n   <g id=\"text_39\">\n    <!-- b) -->\n    <g transform=\"translate(400.8 18.015) scale(0.16 -0.16)\">\n     <defs>\n      <path id=\"STIXGeneral-Bold-62\" d=\"M 1350 4326 \nL 1350 2669 \nQ 1690 3027 2131 3027 \nQ 2662 3027 2998 2611 \nQ 3334 2195 3334 1530 \nQ 3334 806 2931 358 \nQ 2528 -90 1888 -90 \nQ 1440 -90 1043 275 \nL 538 -83 \nL 461 -83 \nL 461 3802 \nQ 461 3994 397 4061 \nQ 333 4128 109 4173 \nL 109 4326 \nL 1350 4326 \nz\nM 1350 2304 \nL 1350 621 \nQ 1350 390 1472 252 \nQ 1594 115 1792 115 \nQ 2394 115 2394 1414 \nQ 2394 2682 1798 2682 \nQ 1638 2682 1536 2595 \nQ 1434 2509 1350 2304 \nz\n\" transform=\"scale(0.015625)\"/>\n     </defs>\n     <use xlink:href=\"#STIXGeneral-Bold-62\"/>\n     <use xlink:href=\"#STIXGeneral-Bold-29\" transform=\"translate(55.599991 0)\"/>\n    </g>\n   </g>\n   <g id=\"text_40\">\n    <!-- $B_i = (0.01,)$ -->\n    <g transform=\"translate(574.6496 26.137) scale(0.16 -0.16)\">\n     <use xlink:href=\"#STIXGeneral-Italic-42\" transform=\"translate(0 0.40625)\"/>\n     <use xlink:href=\"#STIXGeneral-Italic-69\" transform=\"translate(61.099991 -12.821875) scale(0.7)\"/>\n     <use xlink:href=\"#STIXGeneral-Regular-3d\" transform=\"translate(99.409354 0.40625)\"/>\n     <use xlink:href=\"#STIXGeneral-Regular-28\" transform=\"translate(182.349335 0.40625)\"/>\n     <use xlink:href=\"#STIXGeneral-Regular-30\" transform=\"translate(215.649323 0.40625)\"/>\n     <use xlink:href=\"#STIXGeneral-Regular-2e\" transform=\"translate(265.649307 0.40625)\"/>\n     <use xlink:href=\"#STIXGeneral-Regular-30\" transform=\"translate(290.649292 0.40625)\"/>\n     <use xlink:href=\"#STIXGeneral-Regular-31\" transform=\"translate(340.649277 0.40625)\"/>\n     <use xlink:href=\"#STIXGeneral-Regular-2c\" transform=\"translate(390.649261 0.40625)\"/>\n     <use xlink:href=\"#STIXGeneral-Regular-29\" transform=\"translate(430.089243 0.40625)\"/>\n    </g>\n   </g>\n  </g>\n </g>\n <defs>\n  <clipPath id=\"pb648a27ec2\">\n   <rect x=\"60.7296\" y=\"31.137\" width=\"314.88\" height=\"262.44\"/>\n  </clipPath>\n  <clipPath id=\"pb2fc4fac5a\">\n   <rect x=\"454.3296\" y=\"31.137\" width=\"314.88\" height=\"262.44\"/>\n  </clipPath>\n </defs>\n</svg>\n"
          },
          "metadata": {}
        }
      ]
    },
    {
      "cell_type": "markdown",
      "source": [
        "The function ```CardanoRoots``` is to be used in the future"
      ],
      "metadata": {
        "id": "Y6wiFKB7mmEK"
      }
    },
    {
      "cell_type": "code",
      "source": [
        "def CardanoRoots( aa, bb ):\n",
        "  # Cardano algorithm to solve our polynomial, see:\n",
        "  # https://www.shsu.edu/kws006/professional/Concepts_files/SolvingCubics.pdf\n",
        "  P = -2.0*aa\n",
        "  Q = -2.0*bb\n",
        "  Δ = (P/3.0)**3 + (Q/2)**2\n",
        "  if Δ < 0.0: Δ = Δ + 0J\n",
        "  β = ( -Q/2.0 - np.sqrt(Δ) )**(1.0/3.0)\n",
        "  α = P/(3.0*β)\n",
        "  ω = ( -1.0 + np.sqrt(3.0)*1J) / 2.0\n",
        "\n",
        "  x1 = α - β\n",
        "  x2 = (α*ω - β)*ω\n",
        "  x3 = (α - β*ω)*ω\n",
        "\n",
        "  if np.imag(x1) < 1E-15: x1 = np.real( x1 )\n",
        "  if np.imag(x2) < 1E-15: x2 = np.real( x2 )\n",
        "  if np.imag(x3) < 1E-15: x3 = np.real( x3 )\n",
        "\n",
        "  # applies only for this solution\n",
        "  assert( np.imag( x1 ) == 0 )\n",
        "  assert( np.imag( x2 ) == 0 )\n",
        "  assert( np.imag( x3 ) == 0 )\n",
        "  assert( x1 <= 0.0 )\n",
        "  assert( x2 <= x3 )\n",
        "\n",
        "  return (x2, x3)"
      ],
      "metadata": {
        "id": "psBQVwL7x1Pc"
      },
      "execution_count": 43,
      "outputs": []
    },
    {
      "cell_type": "code",
      "source": [
        "\n"
      ],
      "metadata": {
        "id": "U7Y8xWcdwDHT"
      },
      "execution_count": null,
      "outputs": []
    }
  ]
}